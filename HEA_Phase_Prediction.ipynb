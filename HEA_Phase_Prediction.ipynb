{
 "cells": [
  {
   "cell_type": "markdown",
   "id": "dcc2b413",
   "metadata": {},
   "source": [
    "# Phase Determination of HEA Alloys\n",
    "Tuning of XGBoost Decision Tree model trained on Phase_Data dataset without the inclusion of the SMOTETomak compositions."
   ]
  },
  {
   "cell_type": "code",
   "execution_count": 1,
   "id": "538b0d9f",
   "metadata": {
    "scrolled": true
   },
   "outputs": [
    {
     "name": "stdout",
     "output_type": "stream",
     "text": [
      "Defaulting to user installation because normal site-packages is not writeable\n",
      "Requirement already satisfied: lightgbm in /home/eoberhol/.local/lib/python3.9/site-packages (4.3.0)\n",
      "Requirement already satisfied: numpy in /opt/conda/lib/python3.9/site-packages (from lightgbm) (1.22.4)\n",
      "Requirement already satisfied: scipy in /opt/conda/lib/python3.9/site-packages (from lightgbm) (1.7.0)\n",
      "Defaulting to user installation because normal site-packages is not writeable\n",
      "Requirement already satisfied: miceforest in /home/eoberhol/.local/lib/python3.9/site-packages (5.7.0)\n",
      "Requirement already satisfied: dill in /opt/conda/lib/python3.9/site-packages (from miceforest) (0.3.8)\n",
      "Requirement already satisfied: lightgbm>=3.3.1 in /home/eoberhol/.local/lib/python3.9/site-packages (from miceforest) (4.3.0)\n",
      "Requirement already satisfied: blosc in /home/eoberhol/.local/lib/python3.9/site-packages (from miceforest) (1.11.1)\n",
      "Requirement already satisfied: numpy in /opt/conda/lib/python3.9/site-packages (from miceforest) (1.22.4)\n",
      "Requirement already satisfied: scipy in /opt/conda/lib/python3.9/site-packages (from lightgbm>=3.3.1->miceforest) (1.7.0)\n"
     ]
    }
   ],
   "source": [
    "!pip install lightgbm\n",
    "!pip install miceforest"
   ]
  },
  {
   "cell_type": "code",
   "execution_count": 2,
   "id": "ecda5f8b",
   "metadata": {},
   "outputs": [
    {
     "name": "stdout",
     "output_type": "stream",
     "text": [
      "Defaulting to user installation because normal site-packages is not writeable\n",
      "Requirement already satisfied: optuna in /home/eoberhol/.local/lib/python3.9/site-packages (3.6.1)\n",
      "Requirement already satisfied: tqdm in /opt/conda/lib/python3.9/site-packages (from optuna) (4.66.2)\n",
      "Requirement already satisfied: PyYAML in /opt/conda/lib/python3.9/site-packages (from optuna) (5.4.1)\n",
      "Requirement already satisfied: packaging>=20.0 in /opt/conda/lib/python3.9/site-packages (from optuna) (23.2)\n",
      "Requirement already satisfied: sqlalchemy>=1.3.0 in /opt/conda/lib/python3.9/site-packages (from optuna) (1.4.22)\n",
      "Requirement already satisfied: colorlog in /home/eoberhol/.local/lib/python3.9/site-packages (from optuna) (6.8.2)\n",
      "Requirement already satisfied: alembic>=1.5.0 in /opt/conda/lib/python3.9/site-packages (from optuna) (1.13.1)\n",
      "Requirement already satisfied: numpy in /opt/conda/lib/python3.9/site-packages (from optuna) (1.22.4)\n",
      "Requirement already satisfied: typing-extensions>=4 in /opt/conda/lib/python3.9/site-packages (from alembic>=1.5.0->optuna) (4.11.0)\n",
      "Requirement already satisfied: Mako in /opt/conda/lib/python3.9/site-packages (from alembic>=1.5.0->optuna) (1.1.4)\n",
      "Requirement already satisfied: greenlet!=0.4.17 in /opt/conda/lib/python3.9/site-packages (from sqlalchemy>=1.3.0->optuna) (1.1.0)\n",
      "Requirement already satisfied: MarkupSafe>=0.9.2 in /opt/conda/lib/python3.9/site-packages (from Mako->alembic>=1.5.0->optuna) (2.1.5)\n"
     ]
    }
   ],
   "source": [
    "!pip install optuna"
   ]
  },
  {
   "cell_type": "markdown",
   "id": "764e5654",
   "metadata": {},
   "source": [
    "## Import Required Libraries"
   ]
  },
  {
   "cell_type": "code",
   "execution_count": 3,
   "id": "46393ab2",
   "metadata": {},
   "outputs": [],
   "source": [
    "import pandas as pd\n",
    "import seaborn as sns\n",
    "import numpy as np\n",
    "from statistics import mean\n",
    "import matplotlib.pyplot as plt\n",
    "import warnings\n",
    "from sklearn.preprocessing import PowerTransformer\n",
    "import numpy as np\n",
    "from sklearn.preprocessing import LabelEncoder\n",
    "from sklearn.pipeline import Pipeline\n",
    "from sklearn.utils import resample\n",
    "\n",
    "from sklearn.linear_model import LogisticRegression\n",
    "from sklearn.ensemble import RandomForestClassifier, AdaBoostClassifier, GradientBoostingClassifier\n",
    "from sklearn.neighbors import KNeighborsClassifier\n",
    "from sklearn.tree import DecisionTreeClassifier\n",
    "from sklearn.svm import SVC\n",
    "from sklearn.metrics import accuracy_score, classification_report,ConfusionMatrixDisplay, \\\n",
    "                            precision_score, recall_score, f1_score, roc_auc_score,roc_curve,confusion_matrix\n",
    "\n",
    "\n",
    "from sklearn import metrics \n",
    "from sklearn.model_selection import  train_test_split, RepeatedStratifiedKFold, cross_val_score\n",
    "from sklearn.preprocessing import OneHotEncoder, MinMaxScaler\n",
    "from sklearn.compose import ColumnTransformer\n",
    "from sklearn.experimental import enable_iterative_imputer\n",
    "from sklearn.impute import SimpleImputer, KNNImputer, IterativeImputer\n",
    "from xgboost import XGBClassifier\n",
    "from sklearn.preprocessing import StandardScaler, MinMaxScaler,RobustScaler\n",
    "from sklearn.compose import ColumnTransformer\n",
    "\n",
    "warnings.filterwarnings(\"ignore\")\n",
    "%matplotlib inline"
   ]
  },
  {
   "cell_type": "markdown",
   "id": "6c0393d6",
   "metadata": {},
   "source": [
    "## Read Data"
   ]
  },
  {
   "cell_type": "code",
   "execution_count": 4,
   "id": "35f93ba5",
   "metadata": {},
   "outputs": [],
   "source": [
    "# Load from xlsx file\n",
    "df = pd.read_excel('Phase_data.xlsx', na_values=\"na\")"
   ]
  },
  {
   "cell_type": "code",
   "execution_count": 5,
   "id": "87a09440",
   "metadata": {},
   "outputs": [
    {
     "name": "stdout",
     "output_type": "stream",
     "text": [
      "(1200, 36)\n"
     ]
    },
    {
     "data": {
      "text/html": [
       "<div>\n",
       "<style scoped>\n",
       "    .dataframe tbody tr th:only-of-type {\n",
       "        vertical-align: middle;\n",
       "    }\n",
       "\n",
       "    .dataframe tbody tr th {\n",
       "        vertical-align: top;\n",
       "    }\n",
       "\n",
       "    .dataframe thead th {\n",
       "        text-align: right;\n",
       "    }\n",
       "</style>\n",
       "<table border=\"1\" class=\"dataframe\">\n",
       "  <thead>\n",
       "    <tr style=\"text-align: right;\">\n",
       "      <th></th>\n",
       "      <th>Al</th>\n",
       "      <th>Co</th>\n",
       "      <th>Cr</th>\n",
       "      <th>Fe</th>\n",
       "      <th>Ni</th>\n",
       "      <th>Cu</th>\n",
       "      <th>Mn</th>\n",
       "      <th>Ti</th>\n",
       "      <th>V</th>\n",
       "      <th>Nb</th>\n",
       "      <th>...</th>\n",
       "      <th>Pt</th>\n",
       "      <th>Y</th>\n",
       "      <th>Pd</th>\n",
       "      <th>Au</th>\n",
       "      <th>dHmix</th>\n",
       "      <th>dSmix</th>\n",
       "      <th>δ</th>\n",
       "      <th>ᐃχ</th>\n",
       "      <th>VEC</th>\n",
       "      <th>Phases</th>\n",
       "    </tr>\n",
       "  </thead>\n",
       "  <tbody>\n",
       "    <tr>\n",
       "      <th>0</th>\n",
       "      <td>0.111</td>\n",
       "      <td>NaN</td>\n",
       "      <td>NaN</td>\n",
       "      <td>NaN</td>\n",
       "      <td>NaN</td>\n",
       "      <td>NaN</td>\n",
       "      <td>NaN</td>\n",
       "      <td>0.222</td>\n",
       "      <td>0.222</td>\n",
       "      <td>0.222</td>\n",
       "      <td>...</td>\n",
       "      <td>NaN</td>\n",
       "      <td>NaN</td>\n",
       "      <td>NaN</td>\n",
       "      <td>NaN</td>\n",
       "      <td>-8.395</td>\n",
       "      <td>13.146</td>\n",
       "      <td>3.738</td>\n",
       "      <td>0.050</td>\n",
       "      <td>4.556</td>\n",
       "      <td>BCC</td>\n",
       "    </tr>\n",
       "    <tr>\n",
       "      <th>1</th>\n",
       "      <td>0.158</td>\n",
       "      <td>NaN</td>\n",
       "      <td>NaN</td>\n",
       "      <td>NaN</td>\n",
       "      <td>NaN</td>\n",
       "      <td>NaN</td>\n",
       "      <td>NaN</td>\n",
       "      <td>0.215</td>\n",
       "      <td>0.215</td>\n",
       "      <td>0.215</td>\n",
       "      <td>...</td>\n",
       "      <td>NaN</td>\n",
       "      <td>NaN</td>\n",
       "      <td>NaN</td>\n",
       "      <td>NaN</td>\n",
       "      <td>-9.352</td>\n",
       "      <td>13.333</td>\n",
       "      <td>3.863</td>\n",
       "      <td>0.233</td>\n",
       "      <td>4.684</td>\n",
       "      <td>BCC</td>\n",
       "    </tr>\n",
       "    <tr>\n",
       "      <th>2</th>\n",
       "      <td>0.588</td>\n",
       "      <td>NaN</td>\n",
       "      <td>NaN</td>\n",
       "      <td>NaN</td>\n",
       "      <td>NaN</td>\n",
       "      <td>NaN</td>\n",
       "      <td>NaN</td>\n",
       "      <td>0.235</td>\n",
       "      <td>0.235</td>\n",
       "      <td>0.235</td>\n",
       "      <td>...</td>\n",
       "      <td>NaN</td>\n",
       "      <td>NaN</td>\n",
       "      <td>NaN</td>\n",
       "      <td>NaN</td>\n",
       "      <td>-4.042</td>\n",
       "      <td>12.708</td>\n",
       "      <td>4.003</td>\n",
       "      <td>0.243</td>\n",
       "      <td>4.882</td>\n",
       "      <td>BCC</td>\n",
       "    </tr>\n",
       "    <tr>\n",
       "      <th>3</th>\n",
       "      <td>0.588</td>\n",
       "      <td>NaN</td>\n",
       "      <td>NaN</td>\n",
       "      <td>NaN</td>\n",
       "      <td>NaN</td>\n",
       "      <td>NaN</td>\n",
       "      <td>NaN</td>\n",
       "      <td>0.235</td>\n",
       "      <td>0.235</td>\n",
       "      <td>0.235</td>\n",
       "      <td>...</td>\n",
       "      <td>NaN</td>\n",
       "      <td>NaN</td>\n",
       "      <td>NaN</td>\n",
       "      <td>NaN</td>\n",
       "      <td>-4.817</td>\n",
       "      <td>12.708</td>\n",
       "      <td>3.832</td>\n",
       "      <td>0.050</td>\n",
       "      <td>4.647</td>\n",
       "      <td>BCC</td>\n",
       "    </tr>\n",
       "    <tr>\n",
       "      <th>4</th>\n",
       "      <td>0.476</td>\n",
       "      <td>NaN</td>\n",
       "      <td>NaN</td>\n",
       "      <td>NaN</td>\n",
       "      <td>NaN</td>\n",
       "      <td>NaN</td>\n",
       "      <td>NaN</td>\n",
       "      <td>0.239</td>\n",
       "      <td>0.239</td>\n",
       "      <td>NaN</td>\n",
       "      <td>...</td>\n",
       "      <td>NaN</td>\n",
       "      <td>NaN</td>\n",
       "      <td>NaN</td>\n",
       "      <td>NaN</td>\n",
       "      <td>-3.356</td>\n",
       "      <td>12.569</td>\n",
       "      <td>4.018</td>\n",
       "      <td>0.244</td>\n",
       "      <td>4.905</td>\n",
       "      <td>BCC</td>\n",
       "    </tr>\n",
       "  </tbody>\n",
       "</table>\n",
       "<p>5 rows × 36 columns</p>\n",
       "</div>"
      ],
      "text/plain": [
       "      Al  Co  Cr  Fe  Ni  Cu  Mn     Ti      V     Nb  ...  Pt   Y  Pd  Au  \\\n",
       "0  0.111 NaN NaN NaN NaN NaN NaN  0.222  0.222  0.222  ... NaN NaN NaN NaN   \n",
       "1  0.158 NaN NaN NaN NaN NaN NaN  0.215  0.215  0.215  ... NaN NaN NaN NaN   \n",
       "2  0.588 NaN NaN NaN NaN NaN NaN  0.235  0.235  0.235  ... NaN NaN NaN NaN   \n",
       "3  0.588 NaN NaN NaN NaN NaN NaN  0.235  0.235  0.235  ... NaN NaN NaN NaN   \n",
       "4  0.476 NaN NaN NaN NaN NaN NaN  0.239  0.239    NaN  ... NaN NaN NaN NaN   \n",
       "\n",
       "   dHmix   dSmix      δ     ᐃχ    VEC  Phases  \n",
       "0 -8.395  13.146  3.738  0.050  4.556     BCC  \n",
       "1 -9.352  13.333  3.863  0.233  4.684     BCC  \n",
       "2 -4.042  12.708  4.003  0.243  4.882     BCC  \n",
       "3 -4.817  12.708  3.832  0.050  4.647     BCC  \n",
       "4 -3.356  12.569  4.018  0.244  4.905     BCC  \n",
       "\n",
       "[5 rows x 36 columns]"
      ]
     },
     "execution_count": 5,
     "metadata": {},
     "output_type": "execute_result"
    }
   ],
   "source": [
    "# Check dataframe is as expected\n",
    "print(df.shape)\n",
    "df.head()"
   ]
  },
  {
   "cell_type": "code",
   "execution_count": 6,
   "id": "5a24f1c4",
   "metadata": {},
   "outputs": [
    {
     "data": {
      "text/plain": [
       "Phases\n",
       "MIP        441\n",
       "BCC        372\n",
       "FCC        220\n",
       "FCC_BCC    167\n",
       "Name: count, dtype: int64"
      ]
     },
     "execution_count": 6,
     "metadata": {},
     "output_type": "execute_result"
    }
   ],
   "source": [
    "# Check unique values of target phases\n",
    "df['Phases'].value_counts()"
   ]
  },
  {
   "cell_type": "code",
   "execution_count": 7,
   "id": "417beb01",
   "metadata": {},
   "outputs": [
    {
     "data": {
      "text/plain": [
       "Al        float64\n",
       "Co        float64\n",
       "Cr        float64\n",
       "Fe        float64\n",
       "Ni        float64\n",
       "Cu        float64\n",
       "Mn        float64\n",
       "Ti        float64\n",
       "V         float64\n",
       "Nb        float64\n",
       "Mo        float64\n",
       "Zr        float64\n",
       "Hf        float64\n",
       "Ta        float64\n",
       "W         float64\n",
       "C         float64\n",
       "Mg        float64\n",
       "Zn        float64\n",
       "Si        float64\n",
       "Re        float64\n",
       "N         float64\n",
       "Li        float64\n",
       "Sn        float64\n",
       "Be        float64\n",
       "B         float64\n",
       "Ag        float64\n",
       "Pt        float64\n",
       "Y         float64\n",
       "Pd        float64\n",
       "Au        float64\n",
       "dHmix     float64\n",
       "dSmix     float64\n",
       "δ         float64\n",
       "ᐃχ        float64\n",
       "VEC       float64\n",
       "Phases     object\n",
       "dtype: object"
      ]
     },
     "execution_count": 7,
     "metadata": {},
     "output_type": "execute_result"
    }
   ],
   "source": [
    "df.dtypes"
   ]
  },
  {
   "cell_type": "code",
   "execution_count": 8,
   "id": "aa33d2d2",
   "metadata": {},
   "outputs": [
    {
     "name": "stdout",
     "output_type": "stream",
     "text": [
      "MIP: 441, BCC: 372, FCC: 220, FCC_BCC : 167\n"
     ]
    },
    {
     "data": {
      "image/png": "[encoded data removed]",
      "text/plain": [
       "<Figure size 360x360 with 1 Axes>"
      ]
     },
     "metadata": {
      "needs_background": "light"
     },
     "output_type": "display_data"
    }
   ],
   "source": [
    "## Visualization of unique values in Target variable\n",
    "MIP = df[df['Phases']=='MIP'].shape[0]\n",
    "BCC = df[df['Phases']=='BCC'].shape[0]\n",
    "FCC = df[df['Phases']=='FCC'].shape[0]\n",
    "FCC_BCC = df[df['Phases']=='FCC_BCC'].shape[0]\n",
    "print(\"MIP: \" + str(MIP) + \", BCC: \" + str(BCC)  + \", FCC: \" + str(FCC)  + \", FCC_BCC : \" + str(FCC_BCC ))\n",
    "sns.catplot(data=df, x=\"Phases\", kind=\"count\", palette=\"winter_r\", alpha=.6)\n",
    "plt.show()\n"
   ]
  },
  {
   "cell_type": "code",
   "execution_count": 9,
   "id": "705d3b61",
   "metadata": {},
   "outputs": [
    {
     "name": "stdout",
     "output_type": "stream",
     "text": [
      "We have 35 numerical features : ['Al', 'Co', 'Cr', 'Fe', 'Ni', 'Cu', 'Mn', 'Ti', 'V', 'Nb', 'Mo', 'Zr', 'Hf', 'Ta', 'W', 'C', 'Mg', 'Zn', 'Si', 'Re', 'N', 'Li', 'Sn', 'Be', 'B', 'Ag', 'Pt', 'Y', 'Pd', 'Au', 'dHmix', 'dSmix', 'δ', 'ᐃχ', 'VEC']\n",
      "\n",
      "We have 1 categorical features : ['Phases']\n"
     ]
    }
   ],
   "source": [
    "# define numerical & categorical columns\n",
    "numeric_features = [feature for feature in df.columns if df[feature].dtype != 'O']\n",
    "categorical_features = [feature for feature in df.columns if df[feature].dtype == 'O']\n",
    "\n",
    "# print columns\n",
    "print('We have {} numerical features : {}'.format(len(numeric_features), numeric_features))\n",
    "print('\\nWe have {} categorical features : {}'.format(len(categorical_features), categorical_features))"
   ]
  },
  {
   "cell_type": "code",
   "execution_count": 10,
   "id": "c5b6926e",
   "metadata": {},
   "outputs": [],
   "source": [
    "feature_names =  ['Al', 'Co', 'Cr', 'Fe', 'Ni', 'Cu', 'Mn', 'Ti', 'V', 'Nb', 'Mo', 'Zr',\n",
    "       'Hf', 'Ta', 'W', 'C', 'Mg', 'Zn', 'Si', 'Re', 'N', 'Li', 'Sn', 'Be',\n",
    "       'B', 'Ag', 'Pt', 'Y', 'Pd', 'Au', 'dHmix', 'dSmix', 'δ', 'ᐃχ', 'VEC', 'Phases']"
   ]
  },
  {
   "cell_type": "code",
   "execution_count": 11,
   "id": "93488051",
   "metadata": {},
   "outputs": [],
   "source": [
    "# convert phase label into numeric label.\n",
    "df['Phases'].replace({'MIP':0, 'BCC':1, 'FCC':2, 'FCC_BCC':3}, inplace=True) "
   ]
  },
  {
   "cell_type": "code",
   "execution_count": 12,
   "id": "9b049277",
   "metadata": {
    "scrolled": true
   },
   "outputs": [],
   "source": [
    "# # Check for empty values within df\n",
    "# for feature in numeric_features:\n",
    "#     NaN = df[feature].isna().sum()\n",
    "#     print(feature + f' has {NaN} NaN elements')"
   ]
  },
  {
   "cell_type": "code",
   "execution_count": 13,
   "id": "c9e690ae",
   "metadata": {},
   "outputs": [
    {
     "data": {
      "text/html": [
       "<div>\n",
       "<style scoped>\n",
       "    .dataframe tbody tr th:only-of-type {\n",
       "        vertical-align: middle;\n",
       "    }\n",
       "\n",
       "    .dataframe tbody tr th {\n",
       "        vertical-align: top;\n",
       "    }\n",
       "\n",
       "    .dataframe thead th {\n",
       "        text-align: right;\n",
       "    }\n",
       "</style>\n",
       "<table border=\"1\" class=\"dataframe\">\n",
       "  <thead>\n",
       "    <tr style=\"text-align: right;\">\n",
       "      <th></th>\n",
       "      <th>Al</th>\n",
       "      <th>Co</th>\n",
       "      <th>Cr</th>\n",
       "      <th>Fe</th>\n",
       "      <th>Ni</th>\n",
       "      <th>Cu</th>\n",
       "      <th>Mn</th>\n",
       "      <th>Ti</th>\n",
       "      <th>V</th>\n",
       "      <th>Nb</th>\n",
       "      <th>...</th>\n",
       "      <th>Pt</th>\n",
       "      <th>Y</th>\n",
       "      <th>Pd</th>\n",
       "      <th>Au</th>\n",
       "      <th>dHmix</th>\n",
       "      <th>dSmix</th>\n",
       "      <th>δ</th>\n",
       "      <th>ᐃχ</th>\n",
       "      <th>VEC</th>\n",
       "      <th>Phases</th>\n",
       "    </tr>\n",
       "  </thead>\n",
       "  <tbody>\n",
       "    <tr>\n",
       "      <th>0</th>\n",
       "      <td>0.111</td>\n",
       "      <td>NaN</td>\n",
       "      <td>NaN</td>\n",
       "      <td>NaN</td>\n",
       "      <td>NaN</td>\n",
       "      <td>NaN</td>\n",
       "      <td>NaN</td>\n",
       "      <td>0.222</td>\n",
       "      <td>0.222</td>\n",
       "      <td>0.222</td>\n",
       "      <td>...</td>\n",
       "      <td>NaN</td>\n",
       "      <td>NaN</td>\n",
       "      <td>NaN</td>\n",
       "      <td>NaN</td>\n",
       "      <td>-8.395</td>\n",
       "      <td>13.146</td>\n",
       "      <td>3.738</td>\n",
       "      <td>0.050</td>\n",
       "      <td>4.556</td>\n",
       "      <td>1</td>\n",
       "    </tr>\n",
       "    <tr>\n",
       "      <th>1</th>\n",
       "      <td>0.158</td>\n",
       "      <td>NaN</td>\n",
       "      <td>NaN</td>\n",
       "      <td>NaN</td>\n",
       "      <td>NaN</td>\n",
       "      <td>NaN</td>\n",
       "      <td>NaN</td>\n",
       "      <td>0.215</td>\n",
       "      <td>0.215</td>\n",
       "      <td>0.215</td>\n",
       "      <td>...</td>\n",
       "      <td>NaN</td>\n",
       "      <td>NaN</td>\n",
       "      <td>NaN</td>\n",
       "      <td>NaN</td>\n",
       "      <td>-9.352</td>\n",
       "      <td>13.333</td>\n",
       "      <td>3.863</td>\n",
       "      <td>0.233</td>\n",
       "      <td>4.684</td>\n",
       "      <td>1</td>\n",
       "    </tr>\n",
       "    <tr>\n",
       "      <th>2</th>\n",
       "      <td>0.588</td>\n",
       "      <td>NaN</td>\n",
       "      <td>NaN</td>\n",
       "      <td>NaN</td>\n",
       "      <td>NaN</td>\n",
       "      <td>NaN</td>\n",
       "      <td>NaN</td>\n",
       "      <td>0.235</td>\n",
       "      <td>0.235</td>\n",
       "      <td>0.235</td>\n",
       "      <td>...</td>\n",
       "      <td>NaN</td>\n",
       "      <td>NaN</td>\n",
       "      <td>NaN</td>\n",
       "      <td>NaN</td>\n",
       "      <td>-4.042</td>\n",
       "      <td>12.708</td>\n",
       "      <td>4.003</td>\n",
       "      <td>0.243</td>\n",
       "      <td>4.882</td>\n",
       "      <td>1</td>\n",
       "    </tr>\n",
       "    <tr>\n",
       "      <th>3</th>\n",
       "      <td>0.588</td>\n",
       "      <td>NaN</td>\n",
       "      <td>NaN</td>\n",
       "      <td>NaN</td>\n",
       "      <td>NaN</td>\n",
       "      <td>NaN</td>\n",
       "      <td>NaN</td>\n",
       "      <td>0.235</td>\n",
       "      <td>0.235</td>\n",
       "      <td>0.235</td>\n",
       "      <td>...</td>\n",
       "      <td>NaN</td>\n",
       "      <td>NaN</td>\n",
       "      <td>NaN</td>\n",
       "      <td>NaN</td>\n",
       "      <td>-4.817</td>\n",
       "      <td>12.708</td>\n",
       "      <td>3.832</td>\n",
       "      <td>0.050</td>\n",
       "      <td>4.647</td>\n",
       "      <td>1</td>\n",
       "    </tr>\n",
       "    <tr>\n",
       "      <th>4</th>\n",
       "      <td>0.476</td>\n",
       "      <td>NaN</td>\n",
       "      <td>NaN</td>\n",
       "      <td>NaN</td>\n",
       "      <td>NaN</td>\n",
       "      <td>NaN</td>\n",
       "      <td>NaN</td>\n",
       "      <td>0.239</td>\n",
       "      <td>0.239</td>\n",
       "      <td>NaN</td>\n",
       "      <td>...</td>\n",
       "      <td>NaN</td>\n",
       "      <td>NaN</td>\n",
       "      <td>NaN</td>\n",
       "      <td>NaN</td>\n",
       "      <td>-3.356</td>\n",
       "      <td>12.569</td>\n",
       "      <td>4.018</td>\n",
       "      <td>0.244</td>\n",
       "      <td>4.905</td>\n",
       "      <td>1</td>\n",
       "    </tr>\n",
       "  </tbody>\n",
       "</table>\n",
       "<p>5 rows × 36 columns</p>\n",
       "</div>"
      ],
      "text/plain": [
       "      Al  Co  Cr  Fe  Ni  Cu  Mn     Ti      V     Nb  ...  Pt   Y  Pd  Au  \\\n",
       "0  0.111 NaN NaN NaN NaN NaN NaN  0.222  0.222  0.222  ... NaN NaN NaN NaN   \n",
       "1  0.158 NaN NaN NaN NaN NaN NaN  0.215  0.215  0.215  ... NaN NaN NaN NaN   \n",
       "2  0.588 NaN NaN NaN NaN NaN NaN  0.235  0.235  0.235  ... NaN NaN NaN NaN   \n",
       "3  0.588 NaN NaN NaN NaN NaN NaN  0.235  0.235  0.235  ... NaN NaN NaN NaN   \n",
       "4  0.476 NaN NaN NaN NaN NaN NaN  0.239  0.239    NaN  ... NaN NaN NaN NaN   \n",
       "\n",
       "   dHmix   dSmix      δ     ᐃχ    VEC  Phases  \n",
       "0 -8.395  13.146  3.738  0.050  4.556       1  \n",
       "1 -9.352  13.333  3.863  0.233  4.684       1  \n",
       "2 -4.042  12.708  4.003  0.243  4.882       1  \n",
       "3 -4.817  12.708  3.832  0.050  4.647       1  \n",
       "4 -3.356  12.569  4.018  0.244  4.905       1  \n",
       "\n",
       "[5 rows x 36 columns]"
      ]
     },
     "execution_count": 13,
     "metadata": {},
     "output_type": "execute_result"
    }
   ],
   "source": [
    "df2 = df.copy()\n",
    "df2.head()"
   ]
  },
  {
   "cell_type": "code",
   "execution_count": 14,
   "id": "62a5cd08",
   "metadata": {},
   "outputs": [],
   "source": [
    "imputer = KNNImputer(n_neighbors=10)\n",
    "df_imp = imputer.fit_transform(df2)\n",
    "df_afterimp = pd.DataFrame(df_imp, columns=feature_names[0:36])"
   ]
  },
  {
   "cell_type": "code",
   "execution_count": 15,
   "id": "c6126121",
   "metadata": {},
   "outputs": [],
   "source": [
    "#we can to reduce the skewing from outliers so we cap the values that fall out of 3 standard deviations\n",
    "def ZScore_capping(df, cols, threshold = 3):\n",
    "    for col in cols:\n",
    "        mean_col = df[col].mean()\n",
    "        std_col = threshold * df[col].std()\n",
    "        upper_limit = mean_col + std_col\n",
    "        lower_limit = mean_col - std_col\n",
    "        \n",
    "        df[col] = np.where(df[col] > upper_limit, upper_limit, np.where(df[col] < lower_limit, lower_limit, df[col]))"
   ]
  },
  {
   "cell_type": "code",
   "execution_count": 16,
   "id": "89a9a024",
   "metadata": {},
   "outputs": [],
   "source": [
    "ZScore_capping(df_afterimp, numeric_features) #adjusting the data frame to cap outliers"
   ]
  },
  {
   "cell_type": "code",
   "execution_count": 17,
   "id": "f98ec050",
   "metadata": {},
   "outputs": [],
   "source": [
    "df = df_afterimp.copy()"
   ]
  },
  {
   "cell_type": "code",
   "execution_count": 18,
   "id": "487286b9",
   "metadata": {},
   "outputs": [],
   "source": [
    "Al_trans = np.log(df['Al'])\n",
    "Co_trans = np.log(df['Co'])\n",
    "Cr_trans = np.log(df['Cr'])\n",
    "Fe_trans = np.log(df['Fe'])\n",
    "Ni_trans = np.log(df['Ni'])\n",
    "Cu_trans = np.log(df['Cu'])\n",
    "Mn_trans = np.log(df['Mn'])\n",
    "Ti_trans = np.log(df['Ti'])\n",
    "V_trans = np.log(df['V'])\n",
    "Nb_trans = np.log(df['Nb'])\n",
    "Mo_trans = np.log(df['Mo'])\n",
    "Zr_trans = np.log(df['Zr'])\n",
    "Hf_trans = np.log(df['Hf'])\n",
    "Ta_trans = np.log(df['Ta'])\n",
    "W_trans = np.log(df['W'])\n",
    "C_trans = np.log(df['C'])\n",
    "Mg_trans = np.log(df['Mg'])\n",
    "Zn_trans = np.log(df['Zn'])\n",
    "Si_trans = np.log(df['Si'])\n",
    "Re_trans = np.log(df['Re'])\n",
    "N_trans = np.log(df['N'])\n",
    "Li_trans = np.log(df['Li'])\n",
    "Sn_trans = np.log(df['Sn'])\n",
    "Be_trans = np.log(df['Be'])\n",
    "B_trans = np.log(df['B'])\n",
    "Ag_trans = np.log(df['Ag'])\n",
    "Pt_trans = np.log(df['Pt'])\n",
    "Y_trans = np.log(df['Y'])\n",
    "Pd_trans = np.log(df['Pd'])\n",
    "Au_trans = np.log(df['Au'])\n",
    "#dHmix_trans = np.log(df2['dHmix'])\n",
    "dSmix_trans = np.log(df['dSmix']) \n",
    "Atom_Size_Diff_trans = np.log(df['δ'])\n",
    "Elect_Diff_trans = np.log(df['ᐃχ'])\n",
    "VEC_trans = np.log(df['VEC'])"
   ]
  },
  {
   "cell_type": "code",
   "execution_count": 19,
   "id": "6db05cdb",
   "metadata": {},
   "outputs": [
    {
     "data": {
      "text/html": [
       "<div>\n",
       "<style scoped>\n",
       "    .dataframe tbody tr th:only-of-type {\n",
       "        vertical-align: middle;\n",
       "    }\n",
       "\n",
       "    .dataframe tbody tr th {\n",
       "        vertical-align: top;\n",
       "    }\n",
       "\n",
       "    .dataframe thead th {\n",
       "        text-align: right;\n",
       "    }\n",
       "</style>\n",
       "<table border=\"1\" class=\"dataframe\">\n",
       "  <thead>\n",
       "    <tr style=\"text-align: right;\">\n",
       "      <th></th>\n",
       "      <th>Al</th>\n",
       "      <th>Co</th>\n",
       "      <th>Cr</th>\n",
       "      <th>Fe</th>\n",
       "      <th>Ni</th>\n",
       "      <th>Cu</th>\n",
       "      <th>Mn</th>\n",
       "      <th>Ti</th>\n",
       "      <th>V</th>\n",
       "      <th>Nb</th>\n",
       "      <th>...</th>\n",
       "      <th>Pt</th>\n",
       "      <th>Y</th>\n",
       "      <th>Pd</th>\n",
       "      <th>Au</th>\n",
       "      <th>dHmix</th>\n",
       "      <th>dSmix</th>\n",
       "      <th>δ</th>\n",
       "      <th>ᐃχ</th>\n",
       "      <th>VEC</th>\n",
       "      <th>Phases</th>\n",
       "    </tr>\n",
       "  </thead>\n",
       "  <tbody>\n",
       "    <tr>\n",
       "      <th>0</th>\n",
       "      <td>-2.198225</td>\n",
       "      <td>-1.445195</td>\n",
       "      <td>-0.998586</td>\n",
       "      <td>-1.275111</td>\n",
       "      <td>-1.738977</td>\n",
       "      <td>-1.192044</td>\n",
       "      <td>-1.534794</td>\n",
       "      <td>-1.505078</td>\n",
       "      <td>-1.505078</td>\n",
       "      <td>-1.505078</td>\n",
       "      <td>...</td>\n",
       "      <td>-1.609438</td>\n",
       "      <td>-1.806873</td>\n",
       "      <td>-1.203973</td>\n",
       "      <td>-1.789761</td>\n",
       "      <td>-8.395</td>\n",
       "      <td>2.576118</td>\n",
       "      <td>1.318551</td>\n",
       "      <td>-2.995732</td>\n",
       "      <td>1.516445</td>\n",
       "      <td>1</td>\n",
       "    </tr>\n",
       "    <tr>\n",
       "      <th>1</th>\n",
       "      <td>-1.845160</td>\n",
       "      <td>-1.582796</td>\n",
       "      <td>-1.289894</td>\n",
       "      <td>-1.427116</td>\n",
       "      <td>-1.581823</td>\n",
       "      <td>-1.543650</td>\n",
       "      <td>-1.541312</td>\n",
       "      <td>-1.537117</td>\n",
       "      <td>-1.537117</td>\n",
       "      <td>-1.537117</td>\n",
       "      <td>...</td>\n",
       "      <td>-1.609438</td>\n",
       "      <td>-1.806873</td>\n",
       "      <td>-1.203973</td>\n",
       "      <td>-1.789761</td>\n",
       "      <td>-9.352</td>\n",
       "      <td>2.590242</td>\n",
       "      <td>1.351444</td>\n",
       "      <td>-1.456717</td>\n",
       "      <td>1.544152</td>\n",
       "      <td>1</td>\n",
       "    </tr>\n",
       "    <tr>\n",
       "      <th>2</th>\n",
       "      <td>-0.531028</td>\n",
       "      <td>-1.595535</td>\n",
       "      <td>-1.283377</td>\n",
       "      <td>-1.352473</td>\n",
       "      <td>-1.621005</td>\n",
       "      <td>-0.931404</td>\n",
       "      <td>-1.552113</td>\n",
       "      <td>-1.448170</td>\n",
       "      <td>-1.448170</td>\n",
       "      <td>-1.448170</td>\n",
       "      <td>...</td>\n",
       "      <td>-1.609438</td>\n",
       "      <td>-1.806873</td>\n",
       "      <td>-1.203973</td>\n",
       "      <td>-1.789761</td>\n",
       "      <td>-4.042</td>\n",
       "      <td>2.542232</td>\n",
       "      <td>1.387044</td>\n",
       "      <td>-1.414694</td>\n",
       "      <td>1.585555</td>\n",
       "      <td>1</td>\n",
       "    </tr>\n",
       "    <tr>\n",
       "      <th>3</th>\n",
       "      <td>-0.531028</td>\n",
       "      <td>-1.581336</td>\n",
       "      <td>-1.375552</td>\n",
       "      <td>-1.322381</td>\n",
       "      <td>-1.565421</td>\n",
       "      <td>-1.119325</td>\n",
       "      <td>-1.539446</td>\n",
       "      <td>-1.448170</td>\n",
       "      <td>-1.448170</td>\n",
       "      <td>-1.448170</td>\n",
       "      <td>...</td>\n",
       "      <td>-1.609438</td>\n",
       "      <td>-1.806873</td>\n",
       "      <td>-1.203973</td>\n",
       "      <td>-1.789761</td>\n",
       "      <td>-4.817</td>\n",
       "      <td>2.542232</td>\n",
       "      <td>1.343387</td>\n",
       "      <td>-2.995732</td>\n",
       "      <td>1.536222</td>\n",
       "      <td>1</td>\n",
       "    </tr>\n",
       "    <tr>\n",
       "      <th>4</th>\n",
       "      <td>-0.742337</td>\n",
       "      <td>-1.716466</td>\n",
       "      <td>-1.388296</td>\n",
       "      <td>-1.358679</td>\n",
       "      <td>-1.543650</td>\n",
       "      <td>-0.886004</td>\n",
       "      <td>-1.566378</td>\n",
       "      <td>-1.431292</td>\n",
       "      <td>-1.431292</td>\n",
       "      <td>-1.480166</td>\n",
       "      <td>...</td>\n",
       "      <td>-1.609438</td>\n",
       "      <td>-1.806873</td>\n",
       "      <td>-1.203973</td>\n",
       "      <td>-1.789761</td>\n",
       "      <td>-3.356</td>\n",
       "      <td>2.531233</td>\n",
       "      <td>1.390784</td>\n",
       "      <td>-1.410587</td>\n",
       "      <td>1.590255</td>\n",
       "      <td>1</td>\n",
       "    </tr>\n",
       "  </tbody>\n",
       "</table>\n",
       "<p>5 rows × 36 columns</p>\n",
       "</div>"
      ],
      "text/plain": [
       "         Al        Co        Cr        Fe        Ni        Cu        Mn  \\\n",
       "0 -2.198225 -1.445195 -0.998586 -1.275111 -1.738977 -1.192044 -1.534794   \n",
       "1 -1.845160 -1.582796 -1.289894 -1.427116 -1.581823 -1.543650 -1.541312   \n",
       "2 -0.531028 -1.595535 -1.283377 -1.352473 -1.621005 -0.931404 -1.552113   \n",
       "3 -0.531028 -1.581336 -1.375552 -1.322381 -1.565421 -1.119325 -1.539446   \n",
       "4 -0.742337 -1.716466 -1.388296 -1.358679 -1.543650 -0.886004 -1.566378   \n",
       "\n",
       "         Ti         V        Nb  ...        Pt         Y        Pd        Au  \\\n",
       "0 -1.505078 -1.505078 -1.505078  ... -1.609438 -1.806873 -1.203973 -1.789761   \n",
       "1 -1.537117 -1.537117 -1.537117  ... -1.609438 -1.806873 -1.203973 -1.789761   \n",
       "2 -1.448170 -1.448170 -1.448170  ... -1.609438 -1.806873 -1.203973 -1.789761   \n",
       "3 -1.448170 -1.448170 -1.448170  ... -1.609438 -1.806873 -1.203973 -1.789761   \n",
       "4 -1.431292 -1.431292 -1.480166  ... -1.609438 -1.806873 -1.203973 -1.789761   \n",
       "\n",
       "   dHmix     dSmix         δ        ᐃχ       VEC  Phases  \n",
       "0 -8.395  2.576118  1.318551 -2.995732  1.516445       1  \n",
       "1 -9.352  2.590242  1.351444 -1.456717  1.544152       1  \n",
       "2 -4.042  2.542232  1.387044 -1.414694  1.585555       1  \n",
       "3 -4.817  2.542232  1.343387 -2.995732  1.536222       1  \n",
       "4 -3.356  2.531233  1.390784 -1.410587  1.590255       1  \n",
       "\n",
       "[5 rows x 36 columns]"
      ]
     },
     "execution_count": 19,
     "metadata": {},
     "output_type": "execute_result"
    }
   ],
   "source": [
    "df_final = pd.DataFrame(pd.concat([Al_trans, Co_trans, Cr_trans, Fe_trans, Ni_trans, Cu_trans, Mn_trans, \n",
    "Ti_trans, V_trans,Nb_trans, Mo_trans, Zr_trans, Hf_trans, Ta_trans, W_trans, C_trans, Mg_trans, Zn_trans, Si_trans, Re_trans, N_trans, \n",
    "Li_trans, Sn_trans, Be_trans, B_trans, Ag_trans, Pt_trans, Y_trans, Pd_trans, Au_trans, df2['dHmix'], dSmix_trans, Atom_Size_Diff_trans, \n",
    "Elect_Diff_trans, VEC_trans, df2['Phases']], axis=1))\n",
    "df_final.head()"
   ]
  },
  {
   "cell_type": "code",
   "execution_count": 20,
   "id": "9560a37b",
   "metadata": {},
   "outputs": [],
   "source": [
    "X= df_final.drop('Phases', axis=1)\n",
    "y = df_final['Phases']"
   ]
  },
  {
   "cell_type": "code",
   "execution_count": 21,
   "id": "6beaeb45",
   "metadata": {},
   "outputs": [],
   "source": [
    "full_data= df_final.copy()\n",
    "X_full= full_data.drop('Phases', axis=1)\n",
    "y_full = full_data['Phases']"
   ]
  },
  {
   "cell_type": "markdown",
   "id": "f06229ae",
   "metadata": {},
   "source": [
    "All the data is not normally distributed, so, we apply robust scaler:"
   ]
  },
  {
   "cell_type": "code",
   "execution_count": 22,
   "id": "4cf32874",
   "metadata": {},
   "outputs": [],
   "source": [
    "robustscaler = RobustScaler()\n",
    "X1 = robustscaler.fit_transform(X)"
   ]
  },
  {
   "cell_type": "markdown",
   "id": "4001e9fc",
   "metadata": {},
   "source": [
    "## How to best impute Null values in the data:\n",
    "The original authors compared 5 methods of substituting the NaN values, through 5 \"Experiments\" to see which technique resulted in the best model accuracy. Those 5 models are as follows:\n",
    "\n",
    "1. KNN Imputer with best `n_neighbors` values determined with cross-validation score\n",
    "    - `KNNImputer(n_neighbors)`\n",
    "        - `n_neighbors` determined by best `cross_val_score`\n",
    "2. Simple Imputer with Strategy Median\n",
    "    - `SimpleImputer(strategy='median')`\n",
    "3. MICE for Imputing Null Values\n",
    "    -  `miceforest.ImputationKernel()`\n",
    "4. Simple Imputer with Strategy Constant\n",
    "    -  `SimpleImputer(strategy='constant', fill_value=0)`\n",
    "5. Simple Imputer with Strategy Mean\n",
    "    -  `SimpleImputer(strategy='mean')`\n",
    "    \n",
    "#### Our Plan:\n",
    "Replicate the original author's work in comparing those 5 methods of imputation, but also include the `IterativeImputer` technique. Each respective Imputation technique will be marked by a DataFrame label of `X_β` where β represents which of the 6 techniques was used.\n"
   ]
  },
  {
   "cell_type": "markdown",
   "id": "2c1dcedb",
   "metadata": {},
   "source": [
    "### KNN Imputer"
   ]
  },
  {
   "cell_type": "code",
   "execution_count": 23,
   "id": "b2cf6d5d",
   "metadata": {},
   "outputs": [
    {
     "name": "stdout",
     "output_type": "stream",
     "text": [
      "n_neighbors=1 || accuracy (0.5617)\n",
      "n_neighbors=3 || accuracy (0.5617)\n",
      "n_neighbors=4 || accuracy (0.5617)\n",
      "n_neighbors=7 || accuracy (0.5617)\n",
      "n_neighbors=9 || accuracy (0.5617)\n"
     ]
    }
   ],
   "source": [
    "# KNN Imputer\n",
    "results = []\n",
    "\n",
    "# imputer = KNNImputer(n_neighbors=5, weights='uniform', metric='nan_euclidean')\n",
    "strategies = [str(i) for i in [1, 3, 4, 7, 9]]\n",
    "for s in strategies:\n",
    "    pipeline = Pipeline(steps=[('i', KNNImputer(n_neighbors=int(s))), ('m', LogisticRegression())])\n",
    "    scores = cross_val_score(pipeline, X1, y, scoring='accuracy', cv=2, n_jobs=1)\n",
    "    results.append(scores)\n",
    "    print('n_neighbors=%s || accuracy (%.4f)' % (s, mean(scores)))\n"
   ]
  },
  {
   "cell_type": "code",
   "execution_count": 24,
   "id": "3d56bc45",
   "metadata": {},
   "outputs": [],
   "source": [
    "### Pipeline for KNN Imputer\n",
    "num_features = X.select_dtypes(exclude=\"object\").columns\n",
    "\n",
    "# Fit the KNN Imputer with selected K-value: 3 has highest accuracy\n",
    "knn_pipeline = Pipeline(steps=[\n",
    "    ('imputer', KNNImputer(n_neighbors=3)),\n",
    "    ('RobustScaler', RobustScaler())\n",
    "])"
   ]
  },
  {
   "cell_type": "code",
   "execution_count": 25,
   "id": "7d51e9d8",
   "metadata": {},
   "outputs": [],
   "source": [
    "X_knn = knn_pipeline.fit_transform(X)"
   ]
  },
  {
   "cell_type": "markdown",
   "id": "152dd382",
   "metadata": {},
   "source": [
    "### Simple Imputer with Strategy Median"
   ]
  },
  {
   "cell_type": "code",
   "execution_count": 26,
   "id": "771c5f55",
   "metadata": {},
   "outputs": [],
   "source": [
    "### Pipeline for Simple Imputer with Strategy Median\n",
    "num_features = X.select_dtypes(exclude=\"object\").columns\n",
    "\n",
    "# Fit the Simple Imputer with Strategy Median\n",
    "median_pipeline = Pipeline(steps=[\n",
    "    ('imputer', SimpleImputer(strategy='median')),\n",
    "    ('RobustScaler', RobustScaler())\n",
    "])"
   ]
  },
  {
   "cell_type": "code",
   "execution_count": 27,
   "id": "b1623458",
   "metadata": {},
   "outputs": [],
   "source": [
    "X_median = median_pipeline.fit_transform(X)"
   ]
  },
  {
   "cell_type": "markdown",
   "id": "e0cdfce8",
   "metadata": {},
   "source": [
    "### MICE for Imputing Null Values"
   ]
  },
  {
   "cell_type": "code",
   "execution_count": 28,
   "id": "6f983129",
   "metadata": {},
   "outputs": [],
   "source": [
    "##### NOTE:For some reason miceforest won't work for me, skipping for time.\n",
    "import miceforest as mf\n",
    "# import lightgbm as lgb\n",
    "\n",
    "X_mice = X.copy()\n",
    "kernel = mf.ImputationKernel(\n",
    "X_mice,\n",
    "save_all_iterations=True,\n",
    "random_state=1989\n",
    ")\n",
    "kernel.mice(3) # Run the MICE algorithm for 3 iterations"
   ]
  },
  {
   "cell_type": "markdown",
   "id": "fb97635a",
   "metadata": {},
   "source": [
    "### Simple Imputer with Strategy Constant"
   ]
  },
  {
   "cell_type": "code",
   "execution_count": 29,
   "id": "04d1639c",
   "metadata": {},
   "outputs": [],
   "source": [
    "# Create a pipeline with simple imputer with strategy constant and fill value 0\n",
    "constant_pipeline = Pipeline(steps=[\n",
    "    ('Imputer', SimpleImputer(strategy='constant', fill_value=0)),\n",
    "    ('RobustScaler', RobustScaler())\n",
    "])"
   ]
  },
  {
   "cell_type": "code",
   "execution_count": 30,
   "id": "e6e5179b",
   "metadata": {},
   "outputs": [],
   "source": [
    "X_const = constant_pipeline.fit_transform(X)"
   ]
  },
  {
   "cell_type": "markdown",
   "id": "0ce9be6f",
   "metadata": {},
   "source": [
    "### Simple Imputer with Strategy Mean"
   ]
  },
  {
   "cell_type": "code",
   "execution_count": 31,
   "id": "b584cfe9",
   "metadata": {},
   "outputs": [],
   "source": [
    "# Create a pipeline with Simple imputer with strategy mean\n",
    "mean_pipeline = Pipeline(steps=[\n",
    "    ('Imputer', SimpleImputer(strategy='mean')),\n",
    "    ('RobustScaler', RobustScaler())\n",
    "])"
   ]
  },
  {
   "cell_type": "code",
   "execution_count": 32,
   "id": "3dd00e9b",
   "metadata": {},
   "outputs": [],
   "source": [
    "X_mean = mean_pipeline.fit_transform(X)"
   ]
  },
  {
   "cell_type": "markdown",
   "id": "51ea6ba2",
   "metadata": {},
   "source": [
    "### Iterative Imputer"
   ]
  },
  {
   "cell_type": "code",
   "execution_count": 33,
   "id": "74fa6b40",
   "metadata": {},
   "outputs": [],
   "source": [
    "# Create a pipeline with Iterative imputer\n",
    "iter_pipeline = Pipeline(steps=[\n",
    "    ('Imputer', IterativeImputer(random_state=0)),\n",
    "    ('RobustScaler', RobustScaler())\n",
    "])"
   ]
  },
  {
   "cell_type": "code",
   "execution_count": 34,
   "id": "1c31f2f8",
   "metadata": {},
   "outputs": [],
   "source": [
    "X_iter = iter_pipeline.fit_transform(X)"
   ]
  },
  {
   "cell_type": "markdown",
   "id": "88355258",
   "metadata": {},
   "source": [
    "## Create Functions for model training and evaluation"
   ]
  },
  {
   "cell_type": "code",
   "execution_count": 35,
   "id": "4549dc59",
   "metadata": {},
   "outputs": [],
   "source": [
    "def evaluate_clf(true, predicted):\n",
    "    '''\n",
    "    This function takes in true values and predicted values\n",
    "    Returns: Accuracy, F1-Score, Precision, Recall\n",
    "    '''\n",
    "    acc = accuracy_score(true, predicted) # Calculate Accuracy\n",
    "    f1 = f1_score(true, predicted,average='weighted') # Calculate F1-score\n",
    "    precision = precision_score(true, predicted, average='weighted') # Calculate Precision\n",
    "    recall = recall_score(true, predicted, average='weighted')  # Calculate Recall\n",
    "   \n",
    "    return acc, f1 , precision, recall"
   ]
  },
  {
   "cell_type": "code",
   "execution_count": 36,
   "id": "6536efa1",
   "metadata": {},
   "outputs": [],
   "source": [
    "# Create a function which can evaluate models and return a report \n",
    "def evaluate_models(X, y, models):\n",
    "    '''\n",
    "    This function takes in X and y and models dictionary as input\n",
    "    It splits the data into Train Test split\n",
    "    Iterates through the given model dictionary and evaluates the metrics\n",
    "    Returns: Dataframe which contains report of all models metrics\n",
    "    '''\n",
    "    # separate dataset into train and test\n",
    "    X_train, X_test, y_train, y_test = train_test_split(X,y,test_size=0.2,random_state=42)\n",
    "    \n",
    "    cost_list=[]\n",
    "    models_list = []\n",
    "    accuracy_list = []\n",
    "    \n",
    "    for i in range(len(list(models))):\n",
    "        model = list(models.values())[i]\n",
    "        model.fit(X_train, y_train) # Train model\n",
    "\n",
    "        # Make predictions\n",
    "        y_train_pred = model.predict(X_train)\n",
    "        y_test_pred = model.predict(X_test)\n",
    "       \n",
    "\n",
    "        # Training set performance\n",
    "        model_train_accuracy, model_train_f1,model_train_precision,\\\n",
    "        model_train_recall=evaluate_clf(y_train ,y_train_pred)\n",
    "        \n",
    "\n",
    "        # Test set performance\n",
    "        model_test_accuracy,model_test_f1,model_test_precision,\\\n",
    "        model_test_recall=evaluate_clf(y_test, y_test_pred)\n",
    "\n",
    "       \n",
    "        print(list(models.keys())[i])\n",
    "        models_list.append(list(models.keys())[i])\n",
    "\n",
    "        print('Model performance for Training set')\n",
    "        print(\"- Accuracy: {:.4f}\".format(model_train_accuracy))\n",
    "        print('- F1 score: {:.4f}'.format(model_train_f1)) \n",
    "        print('- Precision: {:.4f}'.format(model_train_precision))\n",
    "        print('- Recall: {:.4f}'.format(model_train_recall))\n",
    "         \n",
    "       \n",
    "\n",
    "        print('----------------------------------')\n",
    "\n",
    "        print('Model performance for Test set')\n",
    "        print('- Accuracy: {:.4f}'.format(model_test_accuracy))\n",
    "        print('- F1 score: {:.4f}'.format(model_test_f1))\n",
    "        print('- Precision: {:.4f}'.format(model_test_precision))\n",
    "        print('- Recall: {:.4f}'.format(model_test_recall))\n",
    "       \n",
    "       \n",
    "        print('='*35)\n",
    "        print('\\n')\n",
    "        \n",
    "    report=pd.DataFrame(list(zip(models_list, cost_list)), columns=['Model Name', 'Cost']).sort_values(by=[\"Cost\"])\n",
    "        \n",
    "    return report"
   ]
  },
  {
   "cell_type": "markdown",
   "id": "ec286339",
   "metadata": {},
   "source": [
    "## Choose which Models to evaluate in a dictionary"
   ]
  },
  {
   "cell_type": "code",
   "execution_count": 37,
   "id": "9aa930f5",
   "metadata": {},
   "outputs": [],
   "source": [
    "# Dictionary which contains models for experiment\n",
    "models = {\n",
    "    \n",
    "    \"Random Forest\": RandomForestClassifier(),\n",
    "    \"Decision Tree\": DecisionTreeClassifier(),\n",
    "    \"K-Neighbors Classifier\": KNeighborsClassifier(), # too many features to run this model's predictions on my personal laptop\n",
    "    \"XGBClassifier\": XGBClassifier(), \n",
    "    \"SVM\": SVC()\n",
    "    \n",
    "}"
   ]
  },
  {
   "cell_type": "code",
   "execution_count": null,
   "id": "0d0ba493",
   "metadata": {},
   "outputs": [],
   "source": []
  },
  {
   "cell_type": "markdown",
   "id": "0a95dc6a",
   "metadata": {},
   "source": [
    "## Evaluate Models for each Impute type"
   ]
  },
  {
   "cell_type": "code",
   "execution_count": 38,
   "id": "b1264349",
   "metadata": {},
   "outputs": [],
   "source": [
    "# X_train, X_test, y_train, y_test = train_test_split(X_knn,y,test_size=0.2,random_state=42)\n",
    "# model = KNeighborsClassifier()\n",
    "# model.fit(X_train, y_train)# Train model"
   ]
  },
  {
   "cell_type": "code",
   "execution_count": 39,
   "id": "12694763",
   "metadata": {},
   "outputs": [],
   "source": [
    "# # Make predictions\n",
    "# y_train_pred = model.predict(X_train)\n",
    "# y_test_pred = model.predict(X_test)"
   ]
  },
  {
   "cell_type": "code",
   "execution_count": 40,
   "id": "7b4132a4",
   "metadata": {},
   "outputs": [
    {
     "name": "stdout",
     "output_type": "stream",
     "text": [
      "Random Forest\n",
      "Model performance for Training set\n",
      "- Accuracy: 0.9990\n",
      "- F1 score: 0.9990\n",
      "- Precision: 0.9990\n",
      "- Recall: 0.9990\n",
      "----------------------------------\n",
      "Model performance for Test set\n",
      "- Accuracy: 0.8000\n",
      "- F1 score: 0.8007\n",
      "- Precision: 0.8051\n",
      "- Recall: 0.8000\n",
      "===================================\n",
      "\n",
      "\n",
      "Decision Tree\n",
      "Model performance for Training set\n",
      "- Accuracy: 0.9990\n",
      "- F1 score: 0.9990\n",
      "- Precision: 0.9990\n",
      "- Recall: 0.9990\n",
      "----------------------------------\n",
      "Model performance for Test set\n",
      "- Accuracy: 0.7000\n",
      "- F1 score: 0.6998\n",
      "- Precision: 0.6997\n",
      "- Recall: 0.7000\n",
      "===================================\n",
      "\n",
      "\n",
      "K-Neighbors Classifier\n",
      "Model performance for Training set\n",
      "- Accuracy: 0.7760\n",
      "- F1 score: 0.7753\n",
      "- Precision: 0.7758\n",
      "- Recall: 0.7760\n",
      "----------------------------------\n",
      "Model performance for Test set\n",
      "- Accuracy: 0.7167\n",
      "- F1 score: 0.7174\n",
      "- Precision: 0.7222\n",
      "- Recall: 0.7167\n",
      "===================================\n",
      "\n",
      "\n",
      "XGBClassifier\n",
      "Model performance for Training set\n",
      "- Accuracy: 0.9990\n",
      "- F1 score: 0.9990\n",
      "- Precision: 0.9990\n",
      "- Recall: 0.9990\n",
      "----------------------------------\n",
      "Model performance for Test set\n",
      "- Accuracy: 0.8125\n",
      "- F1 score: 0.8131\n",
      "- Precision: 0.8155\n",
      "- Recall: 0.8125\n",
      "===================================\n",
      "\n",
      "\n",
      "SVM\n",
      "Model performance for Training set\n",
      "- Accuracy: 0.8125\n",
      "- F1 score: 0.8115\n",
      "- Precision: 0.8141\n",
      "- Recall: 0.8125\n",
      "----------------------------------\n",
      "Model performance for Test set\n",
      "- Accuracy: 0.7167\n",
      "- F1 score: 0.7131\n",
      "- Precision: 0.7284\n",
      "- Recall: 0.7167\n",
      "===================================\n",
      "\n",
      "\n"
     ]
    }
   ],
   "source": [
    "# KNN Imputer with n_neighbors = 3:\n",
    "report_knn = evaluate_models(X_knn, y, models)"
   ]
  },
  {
   "cell_type": "code",
   "execution_count": 41,
   "id": "b19fdad5",
   "metadata": {},
   "outputs": [
    {
     "name": "stdout",
     "output_type": "stream",
     "text": [
      "Random Forest\n",
      "Model performance for Training set\n",
      "- Accuracy: 0.9990\n",
      "- F1 score: 0.9990\n",
      "- Precision: 0.9990\n",
      "- Recall: 0.9990\n",
      "----------------------------------\n",
      "Model performance for Test set\n",
      "- Accuracy: 0.7917\n",
      "- F1 score: 0.7919\n",
      "- Precision: 0.7984\n",
      "- Recall: 0.7917\n",
      "===================================\n",
      "\n",
      "\n",
      "Decision Tree\n",
      "Model performance for Training set\n",
      "- Accuracy: 0.9990\n",
      "- F1 score: 0.9990\n",
      "- Precision: 0.9990\n",
      "- Recall: 0.9990\n",
      "----------------------------------\n",
      "Model performance for Test set\n",
      "- Accuracy: 0.6750\n",
      "- F1 score: 0.6747\n",
      "- Precision: 0.6760\n",
      "- Recall: 0.6750\n",
      "===================================\n",
      "\n",
      "\n",
      "K-Neighbors Classifier\n",
      "Model performance for Training set\n",
      "- Accuracy: 0.7760\n",
      "- F1 score: 0.7753\n",
      "- Precision: 0.7758\n",
      "- Recall: 0.7760\n",
      "----------------------------------\n",
      "Model performance for Test set\n",
      "- Accuracy: 0.7167\n",
      "- F1 score: 0.7174\n",
      "- Precision: 0.7222\n",
      "- Recall: 0.7167\n",
      "===================================\n",
      "\n",
      "\n",
      "XGBClassifier\n",
      "Model performance for Training set\n",
      "- Accuracy: 0.9990\n",
      "- F1 score: 0.9990\n",
      "- Precision: 0.9990\n",
      "- Recall: 0.9990\n",
      "----------------------------------\n",
      "Model performance for Test set\n",
      "- Accuracy: 0.8125\n",
      "- F1 score: 0.8131\n",
      "- Precision: 0.8155\n",
      "- Recall: 0.8125\n",
      "===================================\n",
      "\n",
      "\n",
      "SVM\n",
      "Model performance for Training set\n",
      "- Accuracy: 0.8125\n",
      "- F1 score: 0.8115\n",
      "- Precision: 0.8141\n",
      "- Recall: 0.8125\n",
      "----------------------------------\n",
      "Model performance for Test set\n",
      "- Accuracy: 0.7167\n",
      "- F1 score: 0.7131\n",
      "- Precision: 0.7284\n",
      "- Recall: 0.7167\n",
      "===================================\n",
      "\n",
      "\n"
     ]
    }
   ],
   "source": [
    "# Simple Imputer with Strategy Median:\n",
    "report_median = evaluate_models(X_median, y, models)"
   ]
  },
  {
   "cell_type": "code",
   "execution_count": 42,
   "id": "35be73fb",
   "metadata": {},
   "outputs": [
    {
     "name": "stdout",
     "output_type": "stream",
     "text": [
      "Random Forest\n",
      "Model performance for Training set\n",
      "- Accuracy: 0.9990\n",
      "- F1 score: 0.9990\n",
      "- Precision: 0.9990\n",
      "- Recall: 0.9990\n",
      "----------------------------------\n",
      "Model performance for Test set\n",
      "- Accuracy: 0.8042\n",
      "- F1 score: 0.8052\n",
      "- Precision: 0.8105\n",
      "- Recall: 0.8042\n",
      "===================================\n",
      "\n",
      "\n",
      "Decision Tree\n",
      "Model performance for Training set\n",
      "- Accuracy: 0.9990\n",
      "- F1 score: 0.9990\n",
      "- Precision: 0.9990\n",
      "- Recall: 0.9990\n",
      "----------------------------------\n",
      "Model performance for Test set\n",
      "- Accuracy: 0.7000\n",
      "- F1 score: 0.7001\n",
      "- Precision: 0.7032\n",
      "- Recall: 0.7000\n",
      "===================================\n",
      "\n",
      "\n",
      "K-Neighbors Classifier\n",
      "Model performance for Training set\n",
      "- Accuracy: 0.7615\n",
      "- F1 score: 0.7603\n",
      "- Precision: 0.7613\n",
      "- Recall: 0.7615\n",
      "----------------------------------\n",
      "Model performance for Test set\n",
      "- Accuracy: 0.6542\n",
      "- F1 score: 0.6527\n",
      "- Precision: 0.6567\n",
      "- Recall: 0.6542\n",
      "===================================\n",
      "\n",
      "\n",
      "XGBClassifier\n",
      "Model performance for Training set\n",
      "- Accuracy: 0.9990\n",
      "- F1 score: 0.9990\n",
      "- Precision: 0.9990\n",
      "- Recall: 0.9990\n",
      "----------------------------------\n",
      "Model performance for Test set\n",
      "- Accuracy: 0.7917\n",
      "- F1 score: 0.7925\n",
      "- Precision: 0.7965\n",
      "- Recall: 0.7917\n",
      "===================================\n",
      "\n",
      "\n",
      "SVM\n",
      "Model performance for Training set\n",
      "- Accuracy: 0.5219\n",
      "- F1 score: 0.4834\n",
      "- Precision: 0.4699\n",
      "- Recall: 0.5219\n",
      "----------------------------------\n",
      "Model performance for Test set\n",
      "- Accuracy: 0.5542\n",
      "- F1 score: 0.5053\n",
      "- Precision: 0.4842\n",
      "- Recall: 0.5542\n",
      "===================================\n",
      "\n",
      "\n"
     ]
    }
   ],
   "source": [
    "# # MICE for Imputing Null values:\n",
    "report_mice = evaluate_models(X_mice, y, models)"
   ]
  },
  {
   "cell_type": "code",
   "execution_count": 43,
   "id": "2aaa9f96",
   "metadata": {},
   "outputs": [
    {
     "name": "stdout",
     "output_type": "stream",
     "text": [
      "Random Forest\n",
      "Model performance for Training set\n",
      "- Accuracy: 0.9990\n",
      "- F1 score: 0.9990\n",
      "- Precision: 0.9990\n",
      "- Recall: 0.9990\n",
      "----------------------------------\n",
      "Model performance for Test set\n",
      "- Accuracy: 0.8167\n",
      "- F1 score: 0.8175\n",
      "- Precision: 0.8251\n",
      "- Recall: 0.8167\n",
      "===================================\n",
      "\n",
      "\n",
      "Decision Tree\n",
      "Model performance for Training set\n",
      "- Accuracy: 0.9990\n",
      "- F1 score: 0.9990\n",
      "- Precision: 0.9990\n",
      "- Recall: 0.9990\n",
      "----------------------------------\n",
      "Model performance for Test set\n",
      "- Accuracy: 0.6708\n",
      "- F1 score: 0.6701\n",
      "- Precision: 0.6699\n",
      "- Recall: 0.6708\n",
      "===================================\n",
      "\n",
      "\n",
      "K-Neighbors Classifier\n",
      "Model performance for Training set\n",
      "- Accuracy: 0.7760\n",
      "- F1 score: 0.7753\n",
      "- Precision: 0.7758\n",
      "- Recall: 0.7760\n",
      "----------------------------------\n",
      "Model performance for Test set\n",
      "- Accuracy: 0.7167\n",
      "- F1 score: 0.7174\n",
      "- Precision: 0.7222\n",
      "- Recall: 0.7167\n",
      "===================================\n",
      "\n",
      "\n",
      "XGBClassifier\n",
      "Model performance for Training set\n",
      "- Accuracy: 0.9990\n",
      "- F1 score: 0.9990\n",
      "- Precision: 0.9990\n",
      "- Recall: 0.9990\n",
      "----------------------------------\n",
      "Model performance for Test set\n",
      "- Accuracy: 0.8125\n",
      "- F1 score: 0.8131\n",
      "- Precision: 0.8155\n",
      "- Recall: 0.8125\n",
      "===================================\n",
      "\n",
      "\n",
      "SVM\n",
      "Model performance for Training set\n",
      "- Accuracy: 0.8125\n",
      "- F1 score: 0.8115\n",
      "- Precision: 0.8141\n",
      "- Recall: 0.8125\n",
      "----------------------------------\n",
      "Model performance for Test set\n",
      "- Accuracy: 0.7167\n",
      "- F1 score: 0.7131\n",
      "- Precision: 0.7284\n",
      "- Recall: 0.7167\n",
      "===================================\n",
      "\n",
      "\n"
     ]
    }
   ],
   "source": [
    "# Simple Imputer with Strategy Constant:\n",
    "report_const = evaluate_models(X_const, y, models)"
   ]
  },
  {
   "cell_type": "code",
   "execution_count": 44,
   "id": "d7de5f04",
   "metadata": {},
   "outputs": [
    {
     "name": "stdout",
     "output_type": "stream",
     "text": [
      "Random Forest\n",
      "Model performance for Training set\n",
      "- Accuracy: 0.9990\n",
      "- F1 score: 0.9990\n",
      "- Precision: 0.9990\n",
      "- Recall: 0.9990\n",
      "----------------------------------\n",
      "Model performance for Test set\n",
      "- Accuracy: 0.8042\n",
      "- F1 score: 0.8047\n",
      "- Precision: 0.8121\n",
      "- Recall: 0.8042\n",
      "===================================\n",
      "\n",
      "\n",
      "Decision Tree\n",
      "Model performance for Training set\n",
      "- Accuracy: 0.9990\n",
      "- F1 score: 0.9990\n",
      "- Precision: 0.9990\n",
      "- Recall: 0.9990\n",
      "----------------------------------\n",
      "Model performance for Test set\n",
      "- Accuracy: 0.6958\n",
      "- F1 score: 0.6953\n",
      "- Precision: 0.6966\n",
      "- Recall: 0.6958\n",
      "===================================\n",
      "\n",
      "\n",
      "K-Neighbors Classifier\n",
      "Model performance for Training set\n",
      "- Accuracy: 0.7760\n",
      "- F1 score: 0.7753\n",
      "- Precision: 0.7758\n",
      "- Recall: 0.7760\n",
      "----------------------------------\n",
      "Model performance for Test set\n",
      "- Accuracy: 0.7167\n",
      "- F1 score: 0.7174\n",
      "- Precision: 0.7222\n",
      "- Recall: 0.7167\n",
      "===================================\n",
      "\n",
      "\n",
      "XGBClassifier\n",
      "Model performance for Training set\n",
      "- Accuracy: 0.9990\n",
      "- F1 score: 0.9990\n",
      "- Precision: 0.9990\n",
      "- Recall: 0.9990\n",
      "----------------------------------\n",
      "Model performance for Test set\n",
      "- Accuracy: 0.8125\n",
      "- F1 score: 0.8131\n",
      "- Precision: 0.8155\n",
      "- Recall: 0.8125\n",
      "===================================\n",
      "\n",
      "\n",
      "SVM\n",
      "Model performance for Training set\n",
      "- Accuracy: 0.8125\n",
      "- F1 score: 0.8115\n",
      "- Precision: 0.8141\n",
      "- Recall: 0.8125\n",
      "----------------------------------\n",
      "Model performance for Test set\n",
      "- Accuracy: 0.7167\n",
      "- F1 score: 0.7131\n",
      "- Precision: 0.7284\n",
      "- Recall: 0.7167\n",
      "===================================\n",
      "\n",
      "\n"
     ]
    }
   ],
   "source": [
    "# Simple Imputer with Strategy Mean:\n",
    "report_mean = evaluate_models(X_mean, y, models)"
   ]
  },
  {
   "cell_type": "code",
   "execution_count": 45,
   "id": "d1d705de",
   "metadata": {},
   "outputs": [
    {
     "name": "stdout",
     "output_type": "stream",
     "text": [
      "Random Forest\n",
      "Model performance for Training set\n",
      "- Accuracy: 0.9990\n",
      "- F1 score: 0.9990\n",
      "- Precision: 0.9990\n",
      "- Recall: 0.9990\n",
      "----------------------------------\n",
      "Model performance for Test set\n",
      "- Accuracy: 0.7833\n",
      "- F1 score: 0.7841\n",
      "- Precision: 0.7905\n",
      "- Recall: 0.7833\n",
      "===================================\n",
      "\n",
      "\n",
      "Decision Tree\n",
      "Model performance for Training set\n",
      "- Accuracy: 0.9990\n",
      "- F1 score: 0.9990\n",
      "- Precision: 0.9990\n",
      "- Recall: 0.9990\n",
      "----------------------------------\n",
      "Model performance for Test set\n",
      "- Accuracy: 0.6833\n",
      "- F1 score: 0.6841\n",
      "- Precision: 0.6868\n",
      "- Recall: 0.6833\n",
      "===================================\n",
      "\n",
      "\n",
      "K-Neighbors Classifier\n",
      "Model performance for Training set\n",
      "- Accuracy: 0.7760\n",
      "- F1 score: 0.7753\n",
      "- Precision: 0.7758\n",
      "- Recall: 0.7760\n",
      "----------------------------------\n",
      "Model performance for Test set\n",
      "- Accuracy: 0.7167\n",
      "- F1 score: 0.7174\n",
      "- Precision: 0.7222\n",
      "- Recall: 0.7167\n",
      "===================================\n",
      "\n",
      "\n",
      "XGBClassifier\n",
      "Model performance for Training set\n",
      "- Accuracy: 0.9990\n",
      "- F1 score: 0.9990\n",
      "- Precision: 0.9990\n",
      "- Recall: 0.9990\n",
      "----------------------------------\n",
      "Model performance for Test set\n",
      "- Accuracy: 0.8125\n",
      "- F1 score: 0.8131\n",
      "- Precision: 0.8155\n",
      "- Recall: 0.8125\n",
      "===================================\n",
      "\n",
      "\n",
      "SVM\n",
      "Model performance for Training set\n",
      "- Accuracy: 0.8125\n",
      "- F1 score: 0.8115\n",
      "- Precision: 0.8141\n",
      "- Recall: 0.8125\n",
      "----------------------------------\n",
      "Model performance for Test set\n",
      "- Accuracy: 0.7167\n",
      "- F1 score: 0.7131\n",
      "- Precision: 0.7284\n",
      "- Recall: 0.7167\n",
      "===================================\n",
      "\n",
      "\n"
     ]
    }
   ],
   "source": [
    "# Iterative Imputer:\n",
    "report_iter = evaluate_models(X_iter, y, models)"
   ]
  },
  {
   "cell_type": "markdown",
   "id": "9ef6cb9d",
   "metadata": {},
   "source": [
    "## Hyper-parameter tuning of RFC Model"
   ]
  },
  {
   "cell_type": "code",
   "execution_count": 46,
   "id": "72ea24d2",
   "metadata": {},
   "outputs": [
    {
     "name": "stderr",
     "output_type": "stream",
     "text": [
      "[I 2024-06-10 08:36:18,583] A new study created in memory with name: no-name-9af7365f-2808-46e1-9441-2d13a1828be3\n",
      "[I 2024-06-10 08:36:18,867] Trial 0 finished with value: 0.7791666666666667 and parameters: {'random_state': 25, 'min_samples_split': 1, 'max_depth': 2, 'n_estimators': 696, 'min_samples_leaf': 3}. Best is trial 0 with value: 0.7791666666666667.\n"
     ]
    },
    {
     "name": "stdout",
     "output_type": "stream",
     "text": [
      "Model Accuracy: 0.779167\n",
      "Model F1-score: 0.778727\n",
      "Model precision-score: 0.784938\n",
      "Model recall-score: 0.779167\n",
      "Model Parameters: {'random_state': 25, ' criterion': 1, 'max_depth': 2, 'n_estimators': 696, 'min_samples_leaf': 3}\n"
     ]
    },
    {
     "name": "stderr",
     "output_type": "stream",
     "text": [
      "[I 2024-06-10 08:36:19,143] Trial 1 finished with value: 0.7875 and parameters: {'random_state': 25, 'min_samples_split': 10, 'max_depth': 22, 'n_estimators': 390, 'min_samples_leaf': 8}. Best is trial 1 with value: 0.7875.\n"
     ]
    },
    {
     "name": "stdout",
     "output_type": "stream",
     "text": [
      "Model Accuracy: 0.7875\n",
      "Model F1-score: 0.787064\n",
      "Model precision-score: 0.796706\n",
      "Model recall-score: 0.7875\n",
      "Model Parameters: {'random_state': 25, ' criterion': 10, 'max_depth': 22, 'n_estimators': 390, 'min_samples_leaf': 8}\n"
     ]
    },
    {
     "name": "stderr",
     "output_type": "stream",
     "text": [
      "[I 2024-06-10 08:36:19,361] Trial 2 finished with value: 0.7708333333333334 and parameters: {'random_state': 25, 'min_samples_split': 4, 'max_depth': 3, 'n_estimators': 367, 'min_samples_leaf': 1}. Best is trial 1 with value: 0.7875.\n"
     ]
    },
    {
     "name": "stdout",
     "output_type": "stream",
     "text": [
      "Model Accuracy: 0.770833\n",
      "Model F1-score: 0.769523\n",
      "Model precision-score: 0.776474\n",
      "Model recall-score: 0.770833\n",
      "Model Parameters: {'random_state': 25, ' criterion': 4, 'max_depth': 3, 'n_estimators': 367, 'min_samples_leaf': 1}\n"
     ]
    },
    {
     "name": "stderr",
     "output_type": "stream",
     "text": [
      "[I 2024-06-10 08:36:19,598] Trial 3 finished with value: 0.8041666666666667 and parameters: {'random_state': 0, 'min_samples_split': 10, 'max_depth': 24, 'n_estimators': 467, 'min_samples_leaf': 3}. Best is trial 3 with value: 0.8041666666666667.\n"
     ]
    },
    {
     "name": "stdout",
     "output_type": "stream",
     "text": [
      "Model Accuracy: 0.804167\n",
      "Model F1-score: 0.802997\n",
      "Model precision-score: 0.809056\n",
      "Model recall-score: 0.804167\n",
      "Model Parameters: {'random_state': 0, ' criterion': 10, 'max_depth': 24, 'n_estimators': 467, 'min_samples_leaf': 3}\n"
     ]
    },
    {
     "name": "stderr",
     "output_type": "stream",
     "text": [
      "[I 2024-06-10 08:36:19,805] Trial 4 finished with value: 0.7958333333333333 and parameters: {'random_state': None, 'min_samples_split': 8, 'max_depth': 9, 'n_estimators': 693, 'min_samples_leaf': 2}. Best is trial 3 with value: 0.8041666666666667.\n"
     ]
    },
    {
     "name": "stdout",
     "output_type": "stream",
     "text": [
      "Model Accuracy: 0.795833\n",
      "Model F1-score: 0.79553\n",
      "Model precision-score: 0.796996\n",
      "Model recall-score: 0.795833\n",
      "Model Parameters: {'random_state': None, ' criterion': 8, 'max_depth': 9, 'n_estimators': 693, 'min_samples_leaf': 2}\n"
     ]
    },
    {
     "name": "stderr",
     "output_type": "stream",
     "text": [
      "[I 2024-06-10 08:36:20,014] Trial 5 finished with value: 0.8166666666666667 and parameters: {'random_state': None, 'min_samples_split': 3, 'max_depth': 8, 'n_estimators': 789, 'min_samples_leaf': 7}. Best is trial 5 with value: 0.8166666666666667.\n"
     ]
    },
    {
     "name": "stdout",
     "output_type": "stream",
     "text": [
      "Model Accuracy: 0.816667\n",
      "Model F1-score: 0.818376\n",
      "Model precision-score: 0.823334\n",
      "Model recall-score: 0.816667\n",
      "Model Parameters: {'random_state': None, ' criterion': 3, 'max_depth': 8, 'n_estimators': 789, 'min_samples_leaf': 7}\n"
     ]
    },
    {
     "name": "stderr",
     "output_type": "stream",
     "text": [
      "[I 2024-06-10 08:36:20,224] Trial 6 finished with value: 0.8166666666666667 and parameters: {'random_state': None, 'min_samples_split': 7, 'max_depth': 2, 'n_estimators': 565, 'min_samples_leaf': 9}. Best is trial 5 with value: 0.8166666666666667.\n"
     ]
    },
    {
     "name": "stdout",
     "output_type": "stream",
     "text": [
      "Model Accuracy: 0.816667\n",
      "Model F1-score: 0.816987\n",
      "Model precision-score: 0.824879\n",
      "Model recall-score: 0.816667\n",
      "Model Parameters: {'random_state': None, ' criterion': 7, 'max_depth': 2, 'n_estimators': 565, 'min_samples_leaf': 9}\n"
     ]
    },
    {
     "name": "stderr",
     "output_type": "stream",
     "text": [
      "[I 2024-06-10 08:36:20,435] Trial 7 finished with value: 0.825 and parameters: {'random_state': None, 'min_samples_split': 9, 'max_depth': 2, 'n_estimators': 679, 'min_samples_leaf': 3}. Best is trial 7 with value: 0.825.\n"
     ]
    },
    {
     "name": "stdout",
     "output_type": "stream",
     "text": [
      "Model Accuracy: 0.825\n",
      "Model F1-score: 0.826643\n",
      "Model precision-score: 0.833034\n",
      "Model recall-score: 0.825\n",
      "Model Parameters: {'random_state': None, ' criterion': 9, 'max_depth': 2, 'n_estimators': 679, 'min_samples_leaf': 3}\n"
     ]
    },
    {
     "name": "stderr",
     "output_type": "stream",
     "text": [
      "[I 2024-06-10 08:36:20,647] Trial 8 finished with value: 0.8333333333333334 and parameters: {'random_state': None, 'min_samples_split': 7, 'max_depth': 3, 'n_estimators': 158, 'min_samples_leaf': 3}. Best is trial 8 with value: 0.8333333333333334.\n"
     ]
    },
    {
     "name": "stdout",
     "output_type": "stream",
     "text": [
      "Model Accuracy: 0.833333\n",
      "Model F1-score: 0.833591\n",
      "Model precision-score: 0.837113\n",
      "Model recall-score: 0.833333\n",
      "Model Parameters: {'random_state': None, ' criterion': 7, 'max_depth': 3, 'n_estimators': 158, 'min_samples_leaf': 3}\n"
     ]
    },
    {
     "name": "stderr",
     "output_type": "stream",
     "text": [
      "[I 2024-06-10 08:36:20,855] Trial 9 finished with value: 0.775 and parameters: {'random_state': 25, 'min_samples_split': 8, 'max_depth': 23, 'n_estimators': 759, 'min_samples_leaf': 6}. Best is trial 8 with value: 0.8333333333333334.\n"
     ]
    },
    {
     "name": "stdout",
     "output_type": "stream",
     "text": [
      "Model Accuracy: 0.775\n",
      "Model F1-score: 0.775095\n",
      "Model precision-score: 0.785569\n",
      "Model recall-score: 0.775\n",
      "Model Parameters: {'random_state': 25, ' criterion': 8, 'max_depth': 23, 'n_estimators': 759, 'min_samples_leaf': 6}\n"
     ]
    },
    {
     "name": "stderr",
     "output_type": "stream",
     "text": [
      "[I 2024-06-10 08:36:21,078] Trial 10 finished with value: 0.8333333333333334 and parameters: {'random_state': 100, 'min_samples_split': 6, 'max_depth': 4, 'n_estimators': 224, 'min_samples_leaf': 5}. Best is trial 8 with value: 0.8333333333333334.\n"
     ]
    },
    {
     "name": "stdout",
     "output_type": "stream",
     "text": [
      "Model Accuracy: 0.833333\n",
      "Model F1-score: 0.832442\n",
      "Model precision-score: 0.835996\n",
      "Model recall-score: 0.833333\n",
      "Model Parameters: {'random_state': 100, ' criterion': 6, 'max_depth': 4, 'n_estimators': 224, 'min_samples_leaf': 5}\n"
     ]
    },
    {
     "name": "stderr",
     "output_type": "stream",
     "text": [
      "[I 2024-06-10 08:36:21,300] Trial 11 finished with value: 0.8291666666666667 and parameters: {'random_state': 100, 'min_samples_split': 6, 'max_depth': 4, 'n_estimators': 149, 'min_samples_leaf': 5}. Best is trial 8 with value: 0.8333333333333334.\n"
     ]
    },
    {
     "name": "stdout",
     "output_type": "stream",
     "text": [
      "Model Accuracy: 0.829167\n",
      "Model F1-score: 0.827419\n",
      "Model precision-score: 0.82986\n",
      "Model recall-score: 0.829167\n",
      "Model Parameters: {'random_state': 100, ' criterion': 6, 'max_depth': 4, 'n_estimators': 149, 'min_samples_leaf': 5}\n"
     ]
    },
    {
     "name": "stderr",
     "output_type": "stream",
     "text": [
      "[I 2024-06-10 08:36:21,521] Trial 12 finished with value: 0.8333333333333334 and parameters: {'random_state': 100, 'min_samples_split': 5, 'max_depth': 5, 'n_estimators': 107, 'min_samples_leaf': 5}. Best is trial 8 with value: 0.8333333333333334.\n"
     ]
    },
    {
     "name": "stdout",
     "output_type": "stream",
     "text": [
      "Model Accuracy: 0.833333\n",
      "Model F1-score: 0.831765\n",
      "Model precision-score: 0.838149\n",
      "Model recall-score: 0.833333\n",
      "Model Parameters: {'random_state': 100, ' criterion': 5, 'max_depth': 5, 'n_estimators': 107, 'min_samples_leaf': 5}\n"
     ]
    },
    {
     "name": "stderr",
     "output_type": "stream",
     "text": [
      "[I 2024-06-10 08:36:21,743] Trial 13 finished with value: 0.8291666666666667 and parameters: {'random_state': 100, 'min_samples_split': 6, 'max_depth': 4, 'n_estimators': 245, 'min_samples_leaf': 4}. Best is trial 8 with value: 0.8333333333333334.\n"
     ]
    },
    {
     "name": "stdout",
     "output_type": "stream",
     "text": [
      "Model Accuracy: 0.829167\n",
      "Model F1-score: 0.82792\n",
      "Model precision-score: 0.831832\n",
      "Model recall-score: 0.829167\n",
      "Model Parameters: {'random_state': 100, ' criterion': 6, 'max_depth': 4, 'n_estimators': 245, 'min_samples_leaf': 4}\n"
     ]
    },
    {
     "name": "stderr",
     "output_type": "stream",
     "text": [
      "[I 2024-06-10 08:36:21,964] Trial 14 finished with value: 0.8125 and parameters: {'random_state': 0, 'min_samples_split': 4, 'max_depth': 6, 'n_estimators': 272, 'min_samples_leaf': 10}. Best is trial 8 with value: 0.8333333333333334.\n"
     ]
    },
    {
     "name": "stdout",
     "output_type": "stream",
     "text": [
      "Model Accuracy: 0.8125\n",
      "Model F1-score: 0.811759\n",
      "Model precision-score: 0.817433\n",
      "Model recall-score: 0.8125\n",
      "Model Parameters: {'random_state': 0, ' criterion': 4, 'max_depth': 6, 'n_estimators': 272, 'min_samples_leaf': 10}\n"
     ]
    },
    {
     "name": "stderr",
     "output_type": "stream",
     "text": [
      "[I 2024-06-10 08:36:22,186] Trial 15 finished with value: 0.8208333333333333 and parameters: {'random_state': 100, 'min_samples_split': 7, 'max_depth': 12, 'n_estimators': 241, 'min_samples_leaf': 1}. Best is trial 8 with value: 0.8333333333333334.\n"
     ]
    },
    {
     "name": "stdout",
     "output_type": "stream",
     "text": [
      "Model Accuracy: 0.820833\n",
      "Model F1-score: 0.820249\n",
      "Model precision-score: 0.822988\n",
      "Model recall-score: 0.820833\n",
      "Model Parameters: {'random_state': 100, ' criterion': 7, 'max_depth': 12, 'n_estimators': 241, 'min_samples_leaf': 1}\n"
     ]
    },
    {
     "name": "stderr",
     "output_type": "stream",
     "text": [
      "[I 2024-06-10 08:36:22,407] Trial 16 finished with value: 0.8375 and parameters: {'random_state': 100, 'min_samples_split': 2, 'max_depth': 3, 'n_estimators': 890, 'min_samples_leaf': 6}. Best is trial 16 with value: 0.8375.\n"
     ]
    },
    {
     "name": "stdout",
     "output_type": "stream",
     "text": [
      "Model Accuracy: 0.8375\n",
      "Model F1-score: 0.837479\n",
      "Model precision-score: 0.838215\n",
      "Model recall-score: 0.8375\n",
      "Model Parameters: {'random_state': 100, ' criterion': 2, 'max_depth': 3, 'n_estimators': 890, 'min_samples_leaf': 6}\n"
     ]
    },
    {
     "name": "stderr",
     "output_type": "stream",
     "text": [
      "[I 2024-06-10 08:36:22,628] Trial 17 finished with value: 0.7875 and parameters: {'random_state': None, 'min_samples_split': 1, 'max_depth': 3, 'n_estimators': 922, 'min_samples_leaf': 6}. Best is trial 16 with value: 0.8375.\n"
     ]
    },
    {
     "name": "stdout",
     "output_type": "stream",
     "text": [
      "Model Accuracy: 0.7875\n",
      "Model F1-score: 0.792488\n",
      "Model precision-score: 0.805462\n",
      "Model recall-score: 0.7875\n",
      "Model Parameters: {'random_state': None, ' criterion': 1, 'max_depth': 3, 'n_estimators': 922, 'min_samples_leaf': 6}\n"
     ]
    },
    {
     "name": "stderr",
     "output_type": "stream",
     "text": [
      "[I 2024-06-10 08:36:22,851] Trial 18 finished with value: 0.8125 and parameters: {'random_state': 0, 'min_samples_split': 2, 'max_depth': 3, 'n_estimators': 929, 'min_samples_leaf': 7}. Best is trial 16 with value: 0.8375.\n"
     ]
    },
    {
     "name": "stdout",
     "output_type": "stream",
     "text": [
      "Model Accuracy: 0.8125\n",
      "Model F1-score: 0.810981\n",
      "Model precision-score: 0.816092\n",
      "Model recall-score: 0.8125\n",
      "Model Parameters: {'random_state': 0, ' criterion': 2, 'max_depth': 3, 'n_estimators': 929, 'min_samples_leaf': 7}\n"
     ]
    },
    {
     "name": "stderr",
     "output_type": "stream",
     "text": [
      "[I 2024-06-10 08:36:23,071] Trial 19 finished with value: 0.8375 and parameters: {'random_state': 100, 'min_samples_split': 3, 'max_depth': 10, 'n_estimators': 995, 'min_samples_leaf': 4}. Best is trial 16 with value: 0.8375.\n"
     ]
    },
    {
     "name": "stdout",
     "output_type": "stream",
     "text": [
      "Model Accuracy: 0.8375\n",
      "Model F1-score: 0.836797\n",
      "Model precision-score: 0.838713\n",
      "Model recall-score: 0.8375\n",
      "Model Parameters: {'random_state': 100, ' criterion': 3, 'max_depth': 10, 'n_estimators': 995, 'min_samples_leaf': 4}\n"
     ]
    },
    {
     "name": "stderr",
     "output_type": "stream",
     "text": [
      "[I 2024-06-10 08:36:23,293] Trial 20 finished with value: 0.8291666666666667 and parameters: {'random_state': 100, 'min_samples_split': 3, 'max_depth': 15, 'n_estimators': 998, 'min_samples_leaf': 7}. Best is trial 16 with value: 0.8375.\n"
     ]
    },
    {
     "name": "stdout",
     "output_type": "stream",
     "text": [
      "Model Accuracy: 0.829167\n",
      "Model F1-score: 0.828581\n",
      "Model precision-score: 0.831088\n",
      "Model recall-score: 0.829167\n",
      "Model Parameters: {'random_state': 100, ' criterion': 3, 'max_depth': 15, 'n_estimators': 998, 'min_samples_leaf': 7}\n"
     ]
    },
    {
     "name": "stderr",
     "output_type": "stream",
     "text": [
      "[I 2024-06-10 08:36:23,517] Trial 21 finished with value: 0.8291666666666667 and parameters: {'random_state': 100, 'min_samples_split': 2, 'max_depth': 13, 'n_estimators': 858, 'min_samples_leaf': 4}. Best is trial 16 with value: 0.8375.\n"
     ]
    },
    {
     "name": "stdout",
     "output_type": "stream",
     "text": [
      "Model Accuracy: 0.829167\n",
      "Model F1-score: 0.827837\n",
      "Model precision-score: 0.831757\n",
      "Model recall-score: 0.829167\n",
      "Model Parameters: {'random_state': 100, ' criterion': 2, 'max_depth': 13, 'n_estimators': 858, 'min_samples_leaf': 4}\n"
     ]
    },
    {
     "name": "stderr",
     "output_type": "stream",
     "text": [
      "[I 2024-06-10 08:36:23,739] Trial 22 finished with value: 0.8375 and parameters: {'random_state': 100, 'min_samples_split': 4, 'max_depth': 7, 'n_estimators': 570, 'min_samples_leaf': 4}. Best is trial 16 with value: 0.8375.\n"
     ]
    },
    {
     "name": "stdout",
     "output_type": "stream",
     "text": [
      "Model Accuracy: 0.8375\n",
      "Model F1-score: 0.836707\n",
      "Model precision-score: 0.83927\n",
      "Model recall-score: 0.8375\n",
      "Model Parameters: {'random_state': 100, ' criterion': 4, 'max_depth': 7, 'n_estimators': 570, 'min_samples_leaf': 4}\n"
     ]
    },
    {
     "name": "stderr",
     "output_type": "stream",
     "text": [
      "[I 2024-06-10 08:36:23,960] Trial 23 finished with value: 0.8375 and parameters: {'random_state': 100, 'min_samples_split': 4, 'max_depth': 10, 'n_estimators': 997, 'min_samples_leaf': 4}. Best is trial 16 with value: 0.8375.\n"
     ]
    },
    {
     "name": "stdout",
     "output_type": "stream",
     "text": [
      "Model Accuracy: 0.8375\n",
      "Model F1-score: 0.836411\n",
      "Model precision-score: 0.839555\n",
      "Model recall-score: 0.8375\n",
      "Model Parameters: {'random_state': 100, ' criterion': 4, 'max_depth': 10, 'n_estimators': 997, 'min_samples_leaf': 4}\n"
     ]
    },
    {
     "name": "stderr",
     "output_type": "stream",
     "text": [
      "[I 2024-06-10 08:36:24,181] Trial 24 finished with value: 0.8333333333333334 and parameters: {'random_state': 100, 'min_samples_split': 3, 'max_depth': 6, 'n_estimators': 566, 'min_samples_leaf': 6}. Best is trial 16 with value: 0.8375.\n"
     ]
    },
    {
     "name": "stdout",
     "output_type": "stream",
     "text": [
      "Model Accuracy: 0.833333\n",
      "Model F1-score: 0.832117\n",
      "Model precision-score: 0.834851\n",
      "Model recall-score: 0.833333\n",
      "Model Parameters: {'random_state': 100, ' criterion': 3, 'max_depth': 6, 'n_estimators': 566, 'min_samples_leaf': 6}\n"
     ]
    },
    {
     "name": "stderr",
     "output_type": "stream",
     "text": [
      "[I 2024-06-10 08:36:24,403] Trial 25 finished with value: 0.8083333333333333 and parameters: {'random_state': 100, 'min_samples_split': 2, 'max_depth': 7, 'n_estimators': 844, 'min_samples_leaf': 4}. Best is trial 16 with value: 0.8375.\n"
     ]
    },
    {
     "name": "stdout",
     "output_type": "stream",
     "text": [
      "Model Accuracy: 0.808333\n",
      "Model F1-score: 0.807342\n",
      "Model precision-score: 0.811393\n",
      "Model recall-score: 0.808333\n",
      "Model Parameters: {'random_state': 100, ' criterion': 2, 'max_depth': 7, 'n_estimators': 844, 'min_samples_leaf': 4}\n"
     ]
    },
    {
     "name": "stderr",
     "output_type": "stream",
     "text": [
      "[I 2024-06-10 08:36:24,626] Trial 26 finished with value: 0.8291666666666667 and parameters: {'random_state': 100, 'min_samples_split': 5, 'max_depth': 18, 'n_estimators': 875, 'min_samples_leaf': 2}. Best is trial 16 with value: 0.8375.\n"
     ]
    },
    {
     "name": "stdout",
     "output_type": "stream",
     "text": [
      "Model Accuracy: 0.829167\n",
      "Model F1-score: 0.828802\n",
      "Model precision-score: 0.831236\n",
      "Model recall-score: 0.829167\n",
      "Model Parameters: {'random_state': 100, ' criterion': 5, 'max_depth': 18, 'n_estimators': 875, 'min_samples_leaf': 2}\n"
     ]
    },
    {
     "name": "stderr",
     "output_type": "stream",
     "text": [
      "[I 2024-06-10 08:36:24,849] Trial 27 finished with value: 0.8208333333333333 and parameters: {'random_state': 100, 'min_samples_split': 3, 'max_depth': 12, 'n_estimators': 767, 'min_samples_leaf': 8}. Best is trial 16 with value: 0.8375.\n"
     ]
    },
    {
     "name": "stdout",
     "output_type": "stream",
     "text": [
      "Model Accuracy: 0.820833\n",
      "Model F1-score: 0.820379\n",
      "Model precision-score: 0.821856\n",
      "Model recall-score: 0.820833\n",
      "Model Parameters: {'random_state': 100, ' criterion': 3, 'max_depth': 12, 'n_estimators': 767, 'min_samples_leaf': 8}\n"
     ]
    },
    {
     "name": "stderr",
     "output_type": "stream",
     "text": [
      "[I 2024-06-10 08:36:25,071] Trial 28 finished with value: 0.825 and parameters: {'random_state': 100, 'min_samples_split': 1, 'max_depth': 32, 'n_estimators': 617, 'min_samples_leaf': 5}. Best is trial 16 with value: 0.8375.\n"
     ]
    },
    {
     "name": "stdout",
     "output_type": "stream",
     "text": [
      "Model Accuracy: 0.825\n",
      "Model F1-score: 0.823669\n",
      "Model precision-score: 0.827047\n",
      "Model recall-score: 0.825\n",
      "Model Parameters: {'random_state': 100, ' criterion': 1, 'max_depth': 32, 'n_estimators': 617, 'min_samples_leaf': 5}\n"
     ]
    },
    {
     "name": "stderr",
     "output_type": "stream",
     "text": [
      "[I 2024-06-10 08:36:25,293] Trial 29 finished with value: 0.8333333333333334 and parameters: {'random_state': 100, 'min_samples_split': 2, 'max_depth': 5, 'n_estimators': 952, 'min_samples_leaf': 2}. Best is trial 16 with value: 0.8375.\n"
     ]
    },
    {
     "name": "stdout",
     "output_type": "stream",
     "text": [
      "Model Accuracy: 0.833333\n",
      "Model F1-score: 0.832018\n",
      "Model precision-score: 0.83343\n",
      "Model recall-score: 0.833333\n",
      "Model Parameters: {'random_state': 100, ' criterion': 2, 'max_depth': 5, 'n_estimators': 952, 'min_samples_leaf': 2}\n"
     ]
    },
    {
     "name": "stderr",
     "output_type": "stream",
     "text": [
      "[I 2024-06-10 08:36:25,517] Trial 30 finished with value: 0.8083333333333333 and parameters: {'random_state': 0, 'min_samples_split': 4, 'max_depth': 9, 'n_estimators': 478, 'min_samples_leaf': 4}. Best is trial 16 with value: 0.8375.\n"
     ]
    },
    {
     "name": "stdout",
     "output_type": "stream",
     "text": [
      "Model Accuracy: 0.808333\n",
      "Model F1-score: 0.806834\n",
      "Model precision-score: 0.812844\n",
      "Model recall-score: 0.808333\n",
      "Model Parameters: {'random_state': 0, ' criterion': 4, 'max_depth': 9, 'n_estimators': 478, 'min_samples_leaf': 4}\n"
     ]
    },
    {
     "name": "stderr",
     "output_type": "stream",
     "text": [
      "[I 2024-06-10 08:36:25,740] Trial 31 finished with value: 0.8375 and parameters: {'random_state': 100, 'min_samples_split': 4, 'max_depth': 10, 'n_estimators': 959, 'min_samples_leaf': 4}. Best is trial 16 with value: 0.8375.\n"
     ]
    },
    {
     "name": "stdout",
     "output_type": "stream",
     "text": [
      "Model Accuracy: 0.8375\n",
      "Model F1-score: 0.836032\n",
      "Model precision-score: 0.839774\n",
      "Model recall-score: 0.8375\n",
      "Model Parameters: {'random_state': 100, ' criterion': 4, 'max_depth': 10, 'n_estimators': 959, 'min_samples_leaf': 4}\n"
     ]
    },
    {
     "name": "stderr",
     "output_type": "stream",
     "text": [
      "[I 2024-06-10 08:36:25,993] Trial 32 finished with value: 0.8166666666666667 and parameters: {'random_state': 100, 'min_samples_split': 5, 'max_depth': 7, 'n_estimators': 996, 'min_samples_leaf': 5}. Best is trial 16 with value: 0.8375.\n"
     ]
    },
    {
     "name": "stdout",
     "output_type": "stream",
     "text": [
      "Model Accuracy: 0.816667\n",
      "Model F1-score: 0.815338\n",
      "Model precision-score: 0.820105\n",
      "Model recall-score: 0.816667\n",
      "Model Parameters: {'random_state': 100, ' criterion': 5, 'max_depth': 7, 'n_estimators': 996, 'min_samples_leaf': 5}\n"
     ]
    },
    {
     "name": "stderr",
     "output_type": "stream",
     "text": [
      "[I 2024-06-10 08:36:26,256] Trial 33 finished with value: 0.7708333333333334 and parameters: {'random_state': 25, 'min_samples_split': 3, 'max_depth': 10, 'n_estimators': 817, 'min_samples_leaf': 3}. Best is trial 16 with value: 0.8375.\n"
     ]
    },
    {
     "name": "stdout",
     "output_type": "stream",
     "text": [
      "Model Accuracy: 0.770833\n",
      "Model F1-score: 0.769936\n",
      "Model precision-score: 0.778438\n",
      "Model recall-score: 0.770833\n",
      "Model Parameters: {'random_state': 25, ' criterion': 3, 'max_depth': 10, 'n_estimators': 817, 'min_samples_leaf': 3}\n"
     ]
    },
    {
     "name": "stderr",
     "output_type": "stream",
     "text": [
      "[I 2024-06-10 08:36:26,514] Trial 34 finished with value: 0.8375 and parameters: {'random_state': 100, 'min_samples_split': 4, 'max_depth': 16, 'n_estimators': 913, 'min_samples_leaf': 6}. Best is trial 16 with value: 0.8375.\n"
     ]
    },
    {
     "name": "stdout",
     "output_type": "stream",
     "text": [
      "Model Accuracy: 0.8375\n",
      "Model F1-score: 0.835865\n",
      "Model precision-score: 0.839107\n",
      "Model recall-score: 0.8375\n",
      "Model Parameters: {'random_state': 100, ' criterion': 4, 'max_depth': 16, 'n_estimators': 913, 'min_samples_leaf': 6}\n"
     ]
    },
    {
     "name": "stderr",
     "output_type": "stream",
     "text": [
      "[I 2024-06-10 08:36:26,739] Trial 35 finished with value: 0.7875 and parameters: {'random_state': 25, 'min_samples_split': 1, 'max_depth': 8, 'n_estimators': 371, 'min_samples_leaf': 3}. Best is trial 16 with value: 0.8375.\n"
     ]
    },
    {
     "name": "stdout",
     "output_type": "stream",
     "text": [
      "Model Accuracy: 0.7875\n",
      "Model F1-score: 0.787702\n",
      "Model precision-score: 0.797645\n",
      "Model recall-score: 0.7875\n",
      "Model Parameters: {'random_state': 25, ' criterion': 1, 'max_depth': 8, 'n_estimators': 371, 'min_samples_leaf': 3}\n"
     ]
    },
    {
     "name": "stderr",
     "output_type": "stream",
     "text": [
      "[I 2024-06-10 08:36:26,966] Trial 36 finished with value: 0.8416666666666667 and parameters: {'random_state': 100, 'min_samples_split': 4, 'max_depth': 5, 'n_estimators': 733, 'min_samples_leaf': 4}. Best is trial 36 with value: 0.8416666666666667.\n"
     ]
    },
    {
     "name": "stdout",
     "output_type": "stream",
     "text": [
      "Model Accuracy: 0.841667\n",
      "Model F1-score: 0.840327\n",
      "Model precision-score: 0.843911\n",
      "Model recall-score: 0.841667\n",
      "Model Parameters: {'random_state': 100, ' criterion': 4, 'max_depth': 5, 'n_estimators': 733, 'min_samples_leaf': 4}\n"
     ]
    },
    {
     "name": "stderr",
     "output_type": "stream",
     "text": [
      "[I 2024-06-10 08:36:27,194] Trial 37 finished with value: 0.825 and parameters: {'random_state': 100, 'min_samples_split': 2, 'max_depth': 5, 'n_estimators': 635, 'min_samples_leaf': 8}. Best is trial 36 with value: 0.8416666666666667.\n"
     ]
    },
    {
     "name": "stdout",
     "output_type": "stream",
     "text": [
      "Model Accuracy: 0.825\n",
      "Model F1-score: 0.823108\n",
      "Model precision-score: 0.827347\n",
      "Model recall-score: 0.825\n",
      "Model Parameters: {'random_state': 100, ' criterion': 2, 'max_depth': 5, 'n_estimators': 635, 'min_samples_leaf': 8}\n"
     ]
    },
    {
     "name": "stderr",
     "output_type": "stream",
     "text": [
      "[I 2024-06-10 08:36:27,421] Trial 38 finished with value: 0.8208333333333333 and parameters: {'random_state': 0, 'min_samples_split': 3, 'max_depth': 6, 'n_estimators': 478, 'min_samples_leaf': 7}. Best is trial 36 with value: 0.8416666666666667.\n"
     ]
    },
    {
     "name": "stdout",
     "output_type": "stream",
     "text": [
      "Model Accuracy: 0.820833\n",
      "Model F1-score: 0.819799\n",
      "Model precision-score: 0.826791\n",
      "Model recall-score: 0.820833\n",
      "Model Parameters: {'random_state': 0, ' criterion': 3, 'max_depth': 6, 'n_estimators': 478, 'min_samples_leaf': 7}\n"
     ]
    },
    {
     "name": "stderr",
     "output_type": "stream",
     "text": [
      "[I 2024-06-10 08:36:27,646] Trial 39 finished with value: 0.7916666666666666 and parameters: {'random_state': 25, 'min_samples_split': 5, 'max_depth': 4, 'n_estimators': 715, 'min_samples_leaf': 2}. Best is trial 36 with value: 0.8416666666666667.\n"
     ]
    },
    {
     "name": "stdout",
     "output_type": "stream",
     "text": [
      "Model Accuracy: 0.791667\n",
      "Model F1-score: 0.790993\n",
      "Model precision-score: 0.80005\n",
      "Model recall-score: 0.791667\n",
      "Model Parameters: {'random_state': 25, ' criterion': 5, 'max_depth': 4, 'n_estimators': 715, 'min_samples_leaf': 2}\n"
     ]
    },
    {
     "name": "stderr",
     "output_type": "stream",
     "text": [
      "[I 2024-06-10 08:36:27,871] Trial 40 finished with value: 0.8166666666666667 and parameters: {'random_state': 100, 'min_samples_split': 4, 'max_depth': 2, 'n_estimators': 727, 'min_samples_leaf': 5}. Best is trial 36 with value: 0.8416666666666667.\n"
     ]
    },
    {
     "name": "stdout",
     "output_type": "stream",
     "text": [
      "Model Accuracy: 0.816667\n",
      "Model F1-score: 0.814842\n",
      "Model precision-score: 0.819028\n",
      "Model recall-score: 0.816667\n",
      "Model Parameters: {'random_state': 100, ' criterion': 4, 'max_depth': 2, 'n_estimators': 727, 'min_samples_leaf': 5}\n"
     ]
    },
    {
     "name": "stderr",
     "output_type": "stream",
     "text": [
      "[I 2024-06-10 08:36:28,094] Trial 41 finished with value: 0.8458333333333333 and parameters: {'random_state': 100, 'min_samples_split': 4, 'max_depth': 10, 'n_estimators': 886, 'min_samples_leaf': 4}. Best is trial 41 with value: 0.8458333333333333.\n"
     ]
    },
    {
     "name": "stdout",
     "output_type": "stream",
     "text": [
      "Model Accuracy: 0.845833\n",
      "Model F1-score: 0.844776\n",
      "Model precision-score: 0.849386\n",
      "Model recall-score: 0.845833\n",
      "Model Parameters: {'random_state': 100, ' criterion': 4, 'max_depth': 10, 'n_estimators': 886, 'min_samples_leaf': 4}\n"
     ]
    },
    {
     "name": "stderr",
     "output_type": "stream",
     "text": [
      "[I 2024-06-10 08:36:28,317] Trial 42 finished with value: 0.8416666666666667 and parameters: {'random_state': 100, 'min_samples_split': 3, 'max_depth': 8, 'n_estimators': 887, 'min_samples_leaf': 3}. Best is trial 41 with value: 0.8458333333333333.\n"
     ]
    },
    {
     "name": "stdout",
     "output_type": "stream",
     "text": [
      "Model Accuracy: 0.841667\n",
      "Model F1-score: 0.840282\n",
      "Model precision-score: 0.844168\n",
      "Model recall-score: 0.841667\n",
      "Model Parameters: {'random_state': 100, ' criterion': 3, 'max_depth': 8, 'n_estimators': 887, 'min_samples_leaf': 3}\n"
     ]
    },
    {
     "name": "stderr",
     "output_type": "stream",
     "text": [
      "[I 2024-06-10 08:36:28,542] Trial 43 finished with value: 0.8375 and parameters: {'random_state': 100, 'min_samples_split': 3, 'max_depth': 8, 'n_estimators': 888, 'min_samples_leaf': 3}. Best is trial 41 with value: 0.8458333333333333.\n"
     ]
    },
    {
     "name": "stdout",
     "output_type": "stream",
     "text": [
      "Model Accuracy: 0.8375\n",
      "Model F1-score: 0.83655\n",
      "Model precision-score: 0.838163\n",
      "Model recall-score: 0.8375\n",
      "Model Parameters: {'random_state': 100, ' criterion': 3, 'max_depth': 8, 'n_estimators': 888, 'min_samples_leaf': 3}\n"
     ]
    },
    {
     "name": "stderr",
     "output_type": "stream",
     "text": [
      "[I 2024-06-10 08:36:28,767] Trial 44 finished with value: 0.8125 and parameters: {'random_state': 100, 'min_samples_split': 2, 'max_depth': 13, 'n_estimators': 789, 'min_samples_leaf': 2}. Best is trial 41 with value: 0.8458333333333333.\n"
     ]
    },
    {
     "name": "stdout",
     "output_type": "stream",
     "text": [
      "Model Accuracy: 0.8125\n",
      "Model F1-score: 0.810884\n",
      "Model precision-score: 0.812716\n",
      "Model recall-score: 0.8125\n",
      "Model Parameters: {'random_state': 100, ' criterion': 2, 'max_depth': 13, 'n_estimators': 789, 'min_samples_leaf': 2}\n"
     ]
    },
    {
     "name": "stderr",
     "output_type": "stream",
     "text": [
      "[I 2024-06-10 08:36:28,993] Trial 45 finished with value: 0.7791666666666667 and parameters: {'random_state': None, 'min_samples_split': 3, 'max_depth': 11, 'n_estimators': 834, 'min_samples_leaf': 3}. Best is trial 41 with value: 0.8458333333333333.\n"
     ]
    },
    {
     "name": "stdout",
     "output_type": "stream",
     "text": [
      "Model Accuracy: 0.779167\n",
      "Model F1-score: 0.777152\n",
      "Model precision-score: 0.777901\n",
      "Model recall-score: 0.779167\n",
      "Model Parameters: {'random_state': None, ' criterion': 3, 'max_depth': 11, 'n_estimators': 834, 'min_samples_leaf': 3}\n"
     ]
    },
    {
     "name": "stderr",
     "output_type": "stream",
     "text": [
      "[I 2024-06-10 08:36:29,219] Trial 46 finished with value: 0.8291666666666667 and parameters: {'random_state': 100, 'min_samples_split': 5, 'max_depth': 3, 'n_estimators': 891, 'min_samples_leaf': 5}. Best is trial 41 with value: 0.8458333333333333.\n"
     ]
    },
    {
     "name": "stdout",
     "output_type": "stream",
     "text": [
      "Model Accuracy: 0.829167\n",
      "Model F1-score: 0.827794\n",
      "Model precision-score: 0.830089\n",
      "Model recall-score: 0.829167\n",
      "Model Parameters: {'random_state': 100, ' criterion': 5, 'max_depth': 3, 'n_estimators': 891, 'min_samples_leaf': 5}\n"
     ]
    },
    {
     "name": "stderr",
     "output_type": "stream",
     "text": [
      "[I 2024-06-10 08:36:29,444] Trial 47 finished with value: 0.8083333333333333 and parameters: {'random_state': 100, 'min_samples_split': 1, 'max_depth': 8, 'n_estimators': 814, 'min_samples_leaf': 1}. Best is trial 41 with value: 0.8458333333333333.\n"
     ]
    },
    {
     "name": "stdout",
     "output_type": "stream",
     "text": [
      "Model Accuracy: 0.808333\n",
      "Model F1-score: 0.807\n",
      "Model precision-score: 0.81377\n",
      "Model recall-score: 0.808333\n",
      "Model Parameters: {'random_state': 100, ' criterion': 1, 'max_depth': 8, 'n_estimators': 814, 'min_samples_leaf': 1}\n"
     ]
    },
    {
     "name": "stderr",
     "output_type": "stream",
     "text": [
      "[I 2024-06-10 08:36:29,669] Trial 48 finished with value: 0.8291666666666667 and parameters: {'random_state': 100, 'min_samples_split': 3, 'max_depth': 19, 'n_estimators': 659, 'min_samples_leaf': 3}. Best is trial 41 with value: 0.8458333333333333.\n"
     ]
    },
    {
     "name": "stdout",
     "output_type": "stream",
     "text": [
      "Model Accuracy: 0.829167\n",
      "Model F1-score: 0.828044\n",
      "Model precision-score: 0.829258\n",
      "Model recall-score: 0.829167\n",
      "Model Parameters: {'random_state': 100, ' criterion': 3, 'max_depth': 19, 'n_estimators': 659, 'min_samples_leaf': 3}\n"
     ]
    },
    {
     "name": "stderr",
     "output_type": "stream",
     "text": [
      "[I 2024-06-10 08:36:29,893] Trial 49 finished with value: 0.7541666666666667 and parameters: {'random_state': None, 'min_samples_split': 10, 'max_depth': 5, 'n_estimators': 764, 'min_samples_leaf': 6}. Best is trial 41 with value: 0.8458333333333333.\n"
     ]
    },
    {
     "name": "stdout",
     "output_type": "stream",
     "text": [
      "Model Accuracy: 0.754167\n",
      "Model F1-score: 0.756597\n",
      "Model precision-score: 0.763481\n",
      "Model recall-score: 0.754167\n",
      "Model Parameters: {'random_state': None, ' criterion': 10, 'max_depth': 5, 'n_estimators': 764, 'min_samples_leaf': 6}\n",
      "Number of finished trials: 50\n",
      "Best trial:\n",
      "  Value: 0.8458333333333333\n",
      "  Params: \n",
      "    random_state: 100\n",
      "    min_samples_split: 4\n",
      "    max_depth: 10\n",
      "    n_estimators: 886\n",
      "    min_samples_leaf: 4\n"
     ]
    }
   ],
   "source": [
    "from scipy.sparse.construct import random\n",
    "import optuna\n",
    "from sklearn.ensemble import RandomForestClassifier\n",
    "\n",
    "def objective(trial):\n",
    "    param = {\n",
    "        'random_state': trial.suggest_categorical('random_state', [0, 25, 100, None]),\n",
    "       \" criterion\" : trial.suggest_int('min_samples_split', 1,10),\n",
    "        \"max_depth\" : trial.suggest_int(\"max_depth\", 2, 32, log=True),\n",
    "        \"n_estimators\" : trial.suggest_int(\"n_estimators\", 100,1000),\n",
    "        \"min_samples_leaf\" : trial.suggest_int(\"min_samples_leaf\", 1,10)\n",
    "        # 'bootstrap': trial.suggest_categorical('bootstrap' , [True, False]),\n",
    "        # 'max_features': trial.suggest_categorical(\"max_features\" , ['auto', 'sqrt'])\n",
    "    }\n",
    "\n",
    "    suggested_random_state = param['random_state']  # also use the suggested random state value in train_test_split()\n",
    "    \n",
    "    \n",
    "    X_train, X_test, y_train, y_test = train_test_split(X_knn, y, test_size=0.2, shuffle=True, random_state=suggested_random_state)\n",
    "    clf = RandomForestClassifier()\n",
    "\n",
    "    clf.fit(X_train, y_train)\n",
    "    y_pred = clf.predict(X_test)\n",
    "    acc = accuracy_score(y_pred, y_test)\n",
    "    f1 = f1_score(y_pred, y_test, average='weighted') # Calculate F1-score #average='weighted'\n",
    "    precision = precision_score(y_pred, y_test, average='weighted') # Calculate Precision\n",
    "    recall = recall_score(y_pred, y_test, average='weighted')  # Calculate Recall\n",
    "    print(f\"Model Accuracy: {round(acc, 6)}\")\n",
    "    print(f\"Model F1-score: {round(f1, 6)}\")\n",
    "    print(f\"Model precision-score: {round(precision, 6)}\")\n",
    "    print(f\"Model recall-score: {round(recall, 6)}\")\n",
    "\n",
    "    print(f\"Model Parameters: {param}\")\n",
    "    \n",
    "    return acc  # return our objective value\n",
    "    return f1\n",
    "    return precision\n",
    "    return recall\n",
    "\n",
    "if __name__ == \"__main__\":\n",
    "    study = optuna.create_study(\n",
    "        direction=\"maximize\",\n",
    "        sampler=optuna.samplers.TPESampler()\n",
    "    )\n",
    "    study.optimize(objective, n_trials=50)\n",
    "\n",
    "    print(\"Number of finished trials: {}\".format(len(study.trials)))\n",
    "\n",
    "    print(\"Best trial:\")\n",
    "    trial = study.best_trial\n",
    "\n",
    "    print(\"  Value: {}\".format(trial.value))\n",
    "\n",
    "    print(\"  Params: \")\n",
    "    for key, value in trial.params.items():\n",
    "        print(\"    {}: {}\".format(key, value))"
   ]
  },
  {
   "cell_type": "markdown",
   "id": "bfa25fe0",
   "metadata": {},
   "source": [
    "## ROC-AUC of hypertuned RFC"
   ]
  },
  {
   "cell_type": "code",
   "execution_count": 48,
   "id": "29b4d9b2",
   "metadata": {},
   "outputs": [
    {
     "name": "stdout",
     "output_type": "stream",
     "text": [
      "AUC of RFC: 0.9457\n",
      "10-fold CV mean of RFC: 0.9148\n",
      "10-fold CV std of RFC: 0.0336\n"
     ]
    }
   ],
   "source": [
    "knn_pipeline2= Pipeline(steps=[('imputer', KNNImputer(n_neighbors=3)),('RobustScaler', RobustScaler())])\n",
    "X_knn2 =knn_pipeline2.fit_transform(X_full)\n",
    "X_train_fullkn_rf, X_test_fullkn_rf, y_train_fullkn_rf, y_test_fullkn_rf = train_test_split(X_knn2, y_full, test_size=0.20, random_state=42)\n",
    "\n",
    "## Hyper-tuned RFC\n",
    "best_params = trial.params\n",
    "model_rf_hyperkn = RandomForestClassifier(**best_params).fit(X_train_fullkn_rf, y_train_fullkn_rf)\n",
    "probs_rf_hyper = model_rf_hyperkn .predict_proba(X_test_fullkn_rf)#[:, 1]\n",
    "\n",
    "auc_rf = roc_auc_score(y_test_fullkn_rf, probs_rf_hyper, multi_class='ovr')\n",
    "print('AUC of RFC: {:.4f}'.format(auc_rf))\n",
    "\n",
    "\n",
    "RFC_KNN = RandomForestClassifier(**best_params) #random_state= 100, min_samples_split= 6,\n",
    "    \n",
    "scores_cv_rf= cross_val_score(RFC_KNN, X_knn2, y_full, cv=10, scoring='roc_auc_ovr').mean()\n",
    "scores_cv_rf_std= cross_val_score(RFC_KNN, X_knn2, y_full, cv=10, scoring='roc_auc_ovr').std()\n",
    "#print('10-fold CV of RFC', (scores_cv_rf))\n",
    "print('10-fold CV mean of RFC: {:.4f}'.format(scores_cv_rf))\n",
    "print('10-fold CV std of RFC: {:.4f}'.format(scores_cv_rf_std))"
   ]
  },
  {
   "cell_type": "markdown",
   "id": "4940a73c",
   "metadata": {},
   "source": [
    "## ROC Curve of hypertuned RFC"
   ]
  },
  {
   "cell_type": "code",
   "execution_count": 49,
   "id": "82a79233",
   "metadata": {},
   "outputs": [],
   "source": [
    "# y_test_fullkn\n",
    "# probs_rf_hyper"
   ]
  },
  {
   "cell_type": "code",
   "execution_count": 96,
   "id": "9b3568bf",
   "metadata": {},
   "outputs": [
    {
     "data": {
      "image/png": "[encoded data removed]",
      "text/plain": [
       "<Figure size 720x432 with 2 Axes>"
      ]
     },
     "metadata": {},
     "output_type": "display_data"
    }
   ],
   "source": [
    "from sklearn.metrics import plot_confusion_matrix\n",
    "class_names = ['IM', 'BCC', 'FCC', 'FCC+BCC']\n",
    "cmplot= plot_confusion_matrix(model_rf_hyperkn, X_test_fullkn_rf, y_test_fullkn_rf, display_labels= class_names, cmap='cividis')\n",
    "cmplot.ax_.set_title('Random Forest Classification', color='red')\n",
    "plt.xlabel('Predicted Label', color='black')\n",
    "plt.ylabel('True Label', color='black')\n",
    "plt.gcf().axes[0].tick_params(color='black')\n",
    "plt.gcf().axes[1].tick_params(color='black')\n",
    "plt.gcf().set_size_inches(10,6)\n",
    "plt.savefig('RFC_Confused_1.png', format='png', dpi=500, bbox_inches='tight', transparent=True)\n",
    "plt.show()"
   ]
  },
  {
   "cell_type": "code",
   "execution_count": null,
   "id": "61a8e425",
   "metadata": {},
   "outputs": [],
   "source": []
  },
  {
   "cell_type": "code",
   "execution_count": null,
   "id": "79bc0d6d",
   "metadata": {},
   "outputs": [],
   "source": []
  },
  {
   "cell_type": "code",
   "execution_count": 51,
   "id": "8df2ea8f",
   "metadata": {},
   "outputs": [],
   "source": [
    "# # Compute ROC curve and ROC area for each class\n",
    "# fpr = dict()\n",
    "# tpr = dict()\n",
    "# roc_auc = dict()\n",
    "\n",
    "# for i in range(3):\n",
    "#     fpr[i], tpr[i], _ = roc_curve(y_test_fullkn, probs_rf_hyper[:, i])\n",
    "#     roc_auc[i] = auc(fpr[i], tpr[i])\n",
    "\n",
    "# # Plot ROC curves for each class\n",
    "# plt.figure()\n",
    "# colors = ['blue', 'red', 'green']\n",
    "# for i in range(3):\n",
    "#     plt.plot(fpr[i], tpr[i], color=colors[i], lw=2,\n",
    "#              label=f'Class {i} (area = {roc_auc[i]:.2f})')\n",
    "\n",
    "# plt.plot([0, 1], [0, 1], color='navy', lw=2, linestyle='--')\n",
    "# plt.xlim([0.0, 1.0])\n",
    "# plt.ylim([0.0, 1.05])\n",
    "# plt.xlabel('False Positive Rate')\n",
    "# plt.ylabel('True Positive Rate')\n",
    "# plt.title('Receiver Operating Characteristic for Multiclass (OvR)')\n",
    "# plt.legend(loc=\"lower right\")\n",
    "# plt.show()"
   ]
  },
  {
   "cell_type": "code",
   "execution_count": 52,
   "id": "e4c64d77",
   "metadata": {},
   "outputs": [],
   "source": [
    "\n",
    "# fpr, tpr, thresholds = roc_curve(y_test_fullkn, probs_rf_hyper)\n",
    "# roc_auc = auc(fpr, tpr)\n"
   ]
  },
  {
   "cell_type": "markdown",
   "id": "15e2057f",
   "metadata": {},
   "source": [
    "## Hyper-parameter tuning for DecisionTreeClassifier"
   ]
  },
  {
   "cell_type": "code",
   "execution_count": 127,
   "id": "1b74c333",
   "metadata": {},
   "outputs": [
    {
     "name": "stderr",
     "output_type": "stream",
     "text": [
      "[I 2024-06-10 10:00:17,613] A new study created in memory with name: no-name-8b8a7616-487f-4eff-97e6-c3474ae014bd\n",
      "[I 2024-06-10 10:00:17,654] Trial 0 finished with value: 0.7375 and parameters: {'criterion': 'entropy', 'splitter': 'random', 'max_depth': 2, 'min_samples_split': 10, 'random_state': 0, 'min_samples_leaf': 10}. Best is trial 0 with value: 0.7375.\n",
      "[I 2024-06-10 10:00:17,694] Trial 1 finished with value: 0.75 and parameters: {'criterion': 'gini', 'splitter': 'random', 'max_depth': 12, 'min_samples_split': 3, 'random_state': 100, 'min_samples_leaf': 8}. Best is trial 1 with value: 0.75.\n",
      "[I 2024-06-10 10:00:17,736] Trial 2 finished with value: 0.7125 and parameters: {'criterion': 'gini', 'splitter': 'random', 'max_depth': 4, 'min_samples_split': 2, 'random_state': None, 'min_samples_leaf': 3}. Best is trial 1 with value: 0.75.\n",
      "[I 2024-06-10 10:00:17,774] Trial 3 finished with value: 0.7125 and parameters: {'criterion': 'gini', 'splitter': 'random', 'max_depth': 2, 'min_samples_split': 10, 'random_state': None, 'min_samples_leaf': 10}. Best is trial 1 with value: 0.75.\n",
      "[I 2024-06-10 10:00:17,816] Trial 4 finished with value: 0.7375 and parameters: {'criterion': 'gini', 'splitter': 'best', 'max_depth': 25, 'min_samples_split': 9, 'random_state': 0, 'min_samples_leaf': 2}. Best is trial 1 with value: 0.75.\n",
      "[I 2024-06-10 10:00:17,851] Trial 5 finished with value: 0.6916666666666667 and parameters: {'criterion': 'entropy', 'splitter': 'random', 'max_depth': 7, 'min_samples_split': 2, 'random_state': None, 'min_samples_leaf': 1}. Best is trial 1 with value: 0.75.\n"
     ]
    },
    {
     "name": "stdout",
     "output_type": "stream",
     "text": [
      "Model Accuracy: 0.7375\n",
      "Model F1-score: 0.737735\n",
      "Model precision-score: 0.746228\n",
      "Model recall-score: 0.7375\n",
      "Model Parameters: {'criterion': 'entropy', 'splitter': 'random', 'max_depth': 2, 'min_samples_split': 10, 'random_state': 0, 'min_samples_leaf': 10}\n",
      "Model Accuracy: 0.75\n",
      "Model F1-score: 0.747542\n",
      "Model precision-score: 0.754651\n",
      "Model recall-score: 0.75\n",
      "Model Parameters: {'criterion': 'gini', 'splitter': 'random', 'max_depth': 12, 'min_samples_split': 3, 'random_state': 100, 'min_samples_leaf': 8}\n",
      "Model Accuracy: 0.7125\n",
      "Model F1-score: 0.713831\n",
      "Model precision-score: 0.71605\n",
      "Model recall-score: 0.7125\n",
      "Model Parameters: {'criterion': 'gini', 'splitter': 'random', 'max_depth': 4, 'min_samples_split': 2, 'random_state': None, 'min_samples_leaf': 3}\n",
      "Model Accuracy: 0.7125\n",
      "Model F1-score: 0.714872\n",
      "Model precision-score: 0.71905\n",
      "Model recall-score: 0.7125\n",
      "Model Parameters: {'criterion': 'gini', 'splitter': 'random', 'max_depth': 2, 'min_samples_split': 10, 'random_state': None, 'min_samples_leaf': 10}\n",
      "Model Accuracy: 0.7375\n",
      "Model F1-score: 0.737847\n",
      "Model precision-score: 0.740633\n",
      "Model recall-score: 0.7375\n",
      "Model Parameters: {'criterion': 'gini', 'splitter': 'best', 'max_depth': 25, 'min_samples_split': 9, 'random_state': 0, 'min_samples_leaf': 2}\n",
      "Model Accuracy: 0.691667\n",
      "Model F1-score: 0.692827\n",
      "Model precision-score: 0.699169\n",
      "Model recall-score: 0.691667\n",
      "Model Parameters: {'criterion': 'entropy', 'splitter': 'random', 'max_depth': 7, 'min_samples_split': 2, 'random_state': None, 'min_samples_leaf': 1}\n"
     ]
    },
    {
     "name": "stderr",
     "output_type": "stream",
     "text": [
      "[I 2024-06-10 10:00:17,881] Trial 6 finished with value: 0.7541666666666667 and parameters: {'criterion': 'gini', 'splitter': 'random', 'max_depth': 10, 'min_samples_split': 3, 'random_state': 100, 'min_samples_leaf': 3}. Best is trial 6 with value: 0.7541666666666667.\n",
      "[I 2024-06-10 10:00:17,908] Trial 7 finished with value: 0.7375 and parameters: {'criterion': 'entropy', 'splitter': 'random', 'max_depth': 2, 'min_samples_split': 8, 'random_state': 100, 'min_samples_leaf': 9}. Best is trial 6 with value: 0.7541666666666667.\n",
      "[I 2024-06-10 10:00:17,925] Trial 8 finished with value: 0.7375 and parameters: {'criterion': 'gini', 'splitter': 'random', 'max_depth': 30, 'min_samples_split': 8, 'random_state': None, 'min_samples_leaf': 2}. Best is trial 6 with value: 0.7541666666666667.\n",
      "[I 2024-06-10 10:00:17,943] Trial 9 finished with value: 0.7416666666666667 and parameters: {'criterion': 'entropy', 'splitter': 'best', 'max_depth': 11, 'min_samples_split': 4, 'random_state': 0, 'min_samples_leaf': 9}. Best is trial 6 with value: 0.7541666666666667.\n",
      "[I 2024-06-10 10:00:17,970] Trial 10 finished with value: 0.6875 and parameters: {'criterion': 'gini', 'splitter': 'best', 'max_depth': 5, 'min_samples_split': 5, 'random_state': 25, 'min_samples_leaf': 5}. Best is trial 6 with value: 0.7541666666666667.\n",
      "[I 2024-06-10 10:00:17,998] Trial 11 finished with value: 0.7458333333333333 and parameters: {'criterion': 'gini', 'splitter': 'random', 'max_depth': 14, 'min_samples_split': 3, 'random_state': 100, 'min_samples_leaf': 6}. Best is trial 6 with value: 0.7541666666666667.\n",
      "[I 2024-06-10 10:00:18,025] Trial 12 finished with value: 0.7458333333333333 and parameters: {'criterion': 'gini', 'splitter': 'random', 'max_depth': 13, 'min_samples_split': 3, 'random_state': 100, 'min_samples_leaf': 6}. Best is trial 6 with value: 0.7541666666666667.\n",
      "[I 2024-06-10 10:00:18,052] Trial 13 finished with value: 0.725 and parameters: {'criterion': 'gini', 'splitter': 'random', 'max_depth': 8, 'min_samples_split': 3, 'random_state': 100, 'min_samples_leaf': 4}. Best is trial 6 with value: 0.7541666666666667.\n",
      "[I 2024-06-10 10:00:18,079] Trial 14 finished with value: 0.7583333333333333 and parameters: {'criterion': 'gini', 'splitter': 'best', 'max_depth': 20, 'min_samples_split': 5, 'random_state': 100, 'min_samples_leaf': 7}. Best is trial 14 with value: 0.7583333333333333.\n"
     ]
    },
    {
     "name": "stdout",
     "output_type": "stream",
     "text": [
      "Model Accuracy: 0.754167\n",
      "Model F1-score: 0.75181\n",
      "Model precision-score: 0.757419\n",
      "Model recall-score: 0.754167\n",
      "Model Parameters: {'criterion': 'gini', 'splitter': 'random', 'max_depth': 10, 'min_samples_split': 3, 'random_state': 100, 'min_samples_leaf': 3}\n",
      "Model Accuracy: 0.7375\n",
      "Model F1-score: 0.734681\n",
      "Model precision-score: 0.738621\n",
      "Model recall-score: 0.7375\n",
      "Model Parameters: {'criterion': 'entropy', 'splitter': 'random', 'max_depth': 2, 'min_samples_split': 8, 'random_state': 100, 'min_samples_leaf': 9}\n",
      "Model Accuracy: 0.7375\n",
      "Model F1-score: 0.737249\n",
      "Model precision-score: 0.74878\n",
      "Model recall-score: 0.7375\n",
      "Model Parameters: {'criterion': 'gini', 'splitter': 'random', 'max_depth': 30, 'min_samples_split': 8, 'random_state': None, 'min_samples_leaf': 2}\n",
      "Model Accuracy: 0.741667\n",
      "Model F1-score: 0.743268\n",
      "Model precision-score: 0.752384\n",
      "Model recall-score: 0.741667\n",
      "Model Parameters: {'criterion': 'entropy', 'splitter': 'best', 'max_depth': 11, 'min_samples_split': 4, 'random_state': 0, 'min_samples_leaf': 9}\n",
      "Model Accuracy: 0.6875\n",
      "Model F1-score: 0.68823\n",
      "Model precision-score: 0.697515\n",
      "Model recall-score: 0.6875\n",
      "Model Parameters: {'criterion': 'gini', 'splitter': 'best', 'max_depth': 5, 'min_samples_split': 5, 'random_state': 25, 'min_samples_leaf': 5}\n",
      "Model Accuracy: 0.745833\n",
      "Model F1-score: 0.744772\n",
      "Model precision-score: 0.747612\n",
      "Model recall-score: 0.745833\n",
      "Model Parameters: {'criterion': 'gini', 'splitter': 'random', 'max_depth': 14, 'min_samples_split': 3, 'random_state': 100, 'min_samples_leaf': 6}\n",
      "Model Accuracy: 0.745833\n",
      "Model F1-score: 0.744273\n",
      "Model precision-score: 0.750278\n",
      "Model recall-score: 0.745833\n",
      "Model Parameters: {'criterion': 'gini', 'splitter': 'random', 'max_depth': 13, 'min_samples_split': 3, 'random_state': 100, 'min_samples_leaf': 6}\n",
      "Model Accuracy: 0.725\n",
      "Model F1-score: 0.724152\n",
      "Model precision-score: 0.736542\n",
      "Model recall-score: 0.725\n",
      "Model Parameters: {'criterion': 'gini', 'splitter': 'random', 'max_depth': 8, 'min_samples_split': 3, 'random_state': 100, 'min_samples_leaf': 4}\n",
      "Model Accuracy: 0.758333\n",
      "Model F1-score: 0.755934\n",
      "Model precision-score: 0.76363\n",
      "Model recall-score: 0.758333\n",
      "Model Parameters: {'criterion': 'gini', 'splitter': 'best', 'max_depth': 20, 'min_samples_split': 5, 'random_state': 100, 'min_samples_leaf': 7}\n"
     ]
    },
    {
     "name": "stderr",
     "output_type": "stream",
     "text": [
      "[I 2024-06-10 10:00:18,109] Trial 15 finished with value: 0.6916666666666667 and parameters: {'criterion': 'gini', 'splitter': 'best', 'max_depth': 18, 'min_samples_split': 6, 'random_state': 25, 'min_samples_leaf': 7}. Best is trial 14 with value: 0.7583333333333333.\n",
      "[I 2024-06-10 10:00:18,135] Trial 16 finished with value: 0.75 and parameters: {'criterion': 'gini', 'splitter': 'best', 'max_depth': 20, 'min_samples_split': 5, 'random_state': 100, 'min_samples_leaf': 4}. Best is trial 14 with value: 0.7583333333333333.\n",
      "[I 2024-06-10 10:00:18,163] Trial 17 finished with value: 0.7416666666666667 and parameters: {'criterion': 'gini', 'splitter': 'best', 'max_depth': 4, 'min_samples_split': 4, 'random_state': 100, 'min_samples_leaf': 7}. Best is trial 14 with value: 0.7583333333333333.\n",
      "[I 2024-06-10 10:00:18,190] Trial 18 finished with value: 0.7583333333333333 and parameters: {'criterion': 'entropy', 'splitter': 'best', 'max_depth': 9, 'min_samples_split': 6, 'random_state': 100, 'min_samples_leaf': 4}. Best is trial 14 with value: 0.7583333333333333.\n",
      "[I 2024-06-10 10:00:18,218] Trial 19 finished with value: 0.7041666666666667 and parameters: {'criterion': 'entropy', 'splitter': 'best', 'max_depth': 18, 'min_samples_split': 6, 'random_state': 25, 'min_samples_leaf': 5}. Best is trial 14 with value: 0.7583333333333333.\n",
      "[I 2024-06-10 10:00:18,246] Trial 20 finished with value: 0.7333333333333333 and parameters: {'criterion': 'entropy', 'splitter': 'best', 'max_depth': 5, 'min_samples_split': 6, 'random_state': 100, 'min_samples_leaf': 7}. Best is trial 14 with value: 0.7583333333333333.\n",
      "[I 2024-06-10 10:00:18,273] Trial 21 finished with value: 0.7875 and parameters: {'criterion': 'entropy', 'splitter': 'best', 'max_depth': 9, 'min_samples_split': 5, 'random_state': 100, 'min_samples_leaf': 4}. Best is trial 21 with value: 0.7875.\n",
      "[I 2024-06-10 10:00:18,301] Trial 22 finished with value: 0.7416666666666667 and parameters: {'criterion': 'entropy', 'splitter': 'best', 'max_depth': 7, 'min_samples_split': 5, 'random_state': 100, 'min_samples_leaf': 4}. Best is trial 21 with value: 0.7875.\n"
     ]
    },
    {
     "name": "stdout",
     "output_type": "stream",
     "text": [
      "Model Accuracy: 0.691667\n",
      "Model F1-score: 0.692317\n",
      "Model precision-score: 0.697166\n",
      "Model recall-score: 0.691667\n",
      "Model Parameters: {'criterion': 'gini', 'splitter': 'best', 'max_depth': 18, 'min_samples_split': 6, 'random_state': 25, 'min_samples_leaf': 7}\n",
      "Model Accuracy: 0.75\n",
      "Model F1-score: 0.749086\n",
      "Model precision-score: 0.758324\n",
      "Model recall-score: 0.75\n",
      "Model Parameters: {'criterion': 'gini', 'splitter': 'best', 'max_depth': 20, 'min_samples_split': 5, 'random_state': 100, 'min_samples_leaf': 4}\n",
      "Model Accuracy: 0.741667\n",
      "Model F1-score: 0.740021\n",
      "Model precision-score: 0.750279\n",
      "Model recall-score: 0.741667\n",
      "Model Parameters: {'criterion': 'gini', 'splitter': 'best', 'max_depth': 4, 'min_samples_split': 4, 'random_state': 100, 'min_samples_leaf': 7}\n",
      "Model Accuracy: 0.758333\n",
      "Model F1-score: 0.756432\n",
      "Model precision-score: 0.757887\n",
      "Model recall-score: 0.758333\n",
      "Model Parameters: {'criterion': 'entropy', 'splitter': 'best', 'max_depth': 9, 'min_samples_split': 6, 'random_state': 100, 'min_samples_leaf': 4}\n",
      "Model Accuracy: 0.704167\n",
      "Model F1-score: 0.704346\n",
      "Model precision-score: 0.710654\n",
      "Model recall-score: 0.704167\n",
      "Model Parameters: {'criterion': 'entropy', 'splitter': 'best', 'max_depth': 18, 'min_samples_split': 6, 'random_state': 25, 'min_samples_leaf': 5}\n",
      "Model Accuracy: 0.733333\n",
      "Model F1-score: 0.730758\n",
      "Model precision-score: 0.733377\n",
      "Model recall-score: 0.733333\n",
      "Model Parameters: {'criterion': 'entropy', 'splitter': 'best', 'max_depth': 5, 'min_samples_split': 6, 'random_state': 100, 'min_samples_leaf': 7}\n",
      "Model Accuracy: 0.7875\n",
      "Model F1-score: 0.786397\n",
      "Model precision-score: 0.790698\n",
      "Model recall-score: 0.7875\n",
      "Model Parameters: {'criterion': 'entropy', 'splitter': 'best', 'max_depth': 9, 'min_samples_split': 5, 'random_state': 100, 'min_samples_leaf': 4}\n",
      "Model Accuracy: 0.741667\n",
      "Model F1-score: 0.739921\n",
      "Model precision-score: 0.74449\n",
      "Model recall-score: 0.741667\n",
      "Model Parameters: {'criterion': 'entropy', 'splitter': 'best', 'max_depth': 7, 'min_samples_split': 5, 'random_state': 100, 'min_samples_leaf': 4}\n"
     ]
    },
    {
     "name": "stderr",
     "output_type": "stream",
     "text": [
      "[I 2024-06-10 10:00:18,330] Trial 23 finished with value: 0.7625 and parameters: {'criterion': 'entropy', 'splitter': 'best', 'max_depth': 3, 'min_samples_split': 7, 'random_state': 100, 'min_samples_leaf': 5}. Best is trial 21 with value: 0.7875.\n",
      "[I 2024-06-10 10:00:18,358] Trial 24 finished with value: 0.7541666666666667 and parameters: {'criterion': 'entropy', 'splitter': 'best', 'max_depth': 3, 'min_samples_split': 7, 'random_state': 100, 'min_samples_leaf': 6}. Best is trial 21 with value: 0.7875.\n",
      "[I 2024-06-10 10:00:18,386] Trial 25 finished with value: 0.7541666666666667 and parameters: {'criterion': 'entropy', 'splitter': 'best', 'max_depth': 3, 'min_samples_split': 7, 'random_state': 100, 'min_samples_leaf': 5}. Best is trial 21 with value: 0.7875.\n",
      "[I 2024-06-10 10:00:18,414] Trial 26 finished with value: 0.75 and parameters: {'criterion': 'entropy', 'splitter': 'best', 'max_depth': 5, 'min_samples_split': 4, 'random_state': 100, 'min_samples_leaf': 8}. Best is trial 21 with value: 0.7875.\n",
      "[I 2024-06-10 10:00:18,442] Trial 27 finished with value: 0.6833333333333333 and parameters: {'criterion': 'entropy', 'splitter': 'best', 'max_depth': 3, 'min_samples_split': 5, 'random_state': 25, 'min_samples_leaf': 3}. Best is trial 21 with value: 0.7875.\n",
      "[I 2024-06-10 10:00:18,471] Trial 28 finished with value: 0.75 and parameters: {'criterion': 'entropy', 'splitter': 'best', 'max_depth': 32, 'min_samples_split': 7, 'random_state': 0, 'min_samples_leaf': 5}. Best is trial 21 with value: 0.7875.\n",
      "[I 2024-06-10 10:00:18,501] Trial 29 finished with value: 0.7416666666666667 and parameters: {'criterion': 'entropy', 'splitter': 'best', 'max_depth': 16, 'min_samples_split': 8, 'random_state': 0, 'min_samples_leaf': 8}. Best is trial 21 with value: 0.7875.\n",
      "[I 2024-06-10 10:00:18,529] Trial 30 finished with value: 0.7416666666666667 and parameters: {'criterion': 'entropy', 'splitter': 'best', 'max_depth': 24, 'min_samples_split': 5, 'random_state': 100, 'min_samples_leaf': 6}. Best is trial 21 with value: 0.7875.\n"
     ]
    },
    {
     "name": "stdout",
     "output_type": "stream",
     "text": [
      "Model Accuracy: 0.7625\n",
      "Model F1-score: 0.760698\n",
      "Model precision-score: 0.766964\n",
      "Model recall-score: 0.7625\n",
      "Model Parameters: {'criterion': 'entropy', 'splitter': 'best', 'max_depth': 3, 'min_samples_split': 7, 'random_state': 100, 'min_samples_leaf': 5}\n",
      "Model Accuracy: 0.754167\n",
      "Model F1-score: 0.752353\n",
      "Model precision-score: 0.755955\n",
      "Model recall-score: 0.754167\n",
      "Model Parameters: {'criterion': 'entropy', 'splitter': 'best', 'max_depth': 3, 'min_samples_split': 7, 'random_state': 100, 'min_samples_leaf': 6}\n",
      "Model Accuracy: 0.754167\n",
      "Model F1-score: 0.752422\n",
      "Model precision-score: 0.757963\n",
      "Model recall-score: 0.754167\n",
      "Model Parameters: {'criterion': 'entropy', 'splitter': 'best', 'max_depth': 3, 'min_samples_split': 7, 'random_state': 100, 'min_samples_leaf': 5}\n",
      "Model Accuracy: 0.75\n",
      "Model F1-score: 0.750554\n",
      "Model precision-score: 0.759491\n",
      "Model recall-score: 0.75\n",
      "Model Parameters: {'criterion': 'entropy', 'splitter': 'best', 'max_depth': 5, 'min_samples_split': 4, 'random_state': 100, 'min_samples_leaf': 8}\n",
      "Model Accuracy: 0.683333\n",
      "Model F1-score: 0.684859\n",
      "Model precision-score: 0.694271\n",
      "Model recall-score: 0.683333\n",
      "Model Parameters: {'criterion': 'entropy', 'splitter': 'best', 'max_depth': 3, 'min_samples_split': 5, 'random_state': 25, 'min_samples_leaf': 3}\n",
      "Model Accuracy: 0.75\n",
      "Model F1-score: 0.75148\n",
      "Model precision-score: 0.755999\n",
      "Model recall-score: 0.75\n",
      "Model Parameters: {'criterion': 'entropy', 'splitter': 'best', 'max_depth': 32, 'min_samples_split': 7, 'random_state': 0, 'min_samples_leaf': 5}\n",
      "Model Accuracy: 0.741667\n",
      "Model F1-score: 0.742363\n",
      "Model precision-score: 0.747122\n",
      "Model recall-score: 0.741667\n",
      "Model Parameters: {'criterion': 'entropy', 'splitter': 'best', 'max_depth': 16, 'min_samples_split': 8, 'random_state': 0, 'min_samples_leaf': 8}\n",
      "Model Accuracy: 0.741667\n",
      "Model F1-score: 0.742029\n",
      "Model precision-score: 0.752906\n",
      "Model recall-score: 0.741667\n",
      "Model Parameters: {'criterion': 'entropy', 'splitter': 'best', 'max_depth': 24, 'min_samples_split': 5, 'random_state': 100, 'min_samples_leaf': 6}\n"
     ]
    },
    {
     "name": "stderr",
     "output_type": "stream",
     "text": [
      "[I 2024-06-10 10:00:18,558] Trial 31 finished with value: 0.75 and parameters: {'criterion': 'entropy', 'splitter': 'best', 'max_depth': 9, 'min_samples_split': 6, 'random_state': 100, 'min_samples_leaf': 4}. Best is trial 21 with value: 0.7875.\n",
      "[I 2024-06-10 10:00:18,586] Trial 32 finished with value: 0.7416666666666667 and parameters: {'criterion': 'entropy', 'splitter': 'best', 'max_depth': 8, 'min_samples_split': 6, 'random_state': 100, 'min_samples_leaf': 4}. Best is trial 21 with value: 0.7875.\n",
      "[I 2024-06-10 10:00:18,614] Trial 33 finished with value: 0.7541666666666667 and parameters: {'criterion': 'entropy', 'splitter': 'best', 'max_depth': 6, 'min_samples_split': 7, 'random_state': 100, 'min_samples_leaf': 3}. Best is trial 21 with value: 0.7875.\n",
      "[I 2024-06-10 10:00:18,642] Trial 34 finished with value: 0.7625 and parameters: {'criterion': 'entropy', 'splitter': 'best', 'max_depth': 11, 'min_samples_split': 10, 'random_state': 100, 'min_samples_leaf': 2}. Best is trial 21 with value: 0.7875.\n",
      "[I 2024-06-10 10:00:18,671] Trial 35 finished with value: 0.7125 and parameters: {'criterion': 'entropy', 'splitter': 'best', 'max_depth': 12, 'min_samples_split': 9, 'random_state': None, 'min_samples_leaf': 2}. Best is trial 21 with value: 0.7875.\n",
      "[I 2024-06-10 10:00:18,699] Trial 36 finished with value: 0.7458333333333333 and parameters: {'criterion': 'entropy', 'splitter': 'best', 'max_depth': 14, 'min_samples_split': 10, 'random_state': 100, 'min_samples_leaf': 1}. Best is trial 21 with value: 0.7875.\n",
      "[I 2024-06-10 10:00:18,728] Trial 37 finished with value: 0.7416666666666667 and parameters: {'criterion': 'entropy', 'splitter': 'best', 'max_depth': 6, 'min_samples_split': 9, 'random_state': 100, 'min_samples_leaf': 2}. Best is trial 21 with value: 0.7875.\n",
      "[I 2024-06-10 10:00:18,756] Trial 38 finished with value: 0.6625 and parameters: {'criterion': 'gini', 'splitter': 'best', 'max_depth': 10, 'min_samples_split': 9, 'random_state': None, 'min_samples_leaf': 1}. Best is trial 21 with value: 0.7875.\n"
     ]
    },
    {
     "name": "stdout",
     "output_type": "stream",
     "text": [
      "Model Accuracy: 0.75\n",
      "Model F1-score: 0.749304\n",
      "Model precision-score: 0.755654\n",
      "Model recall-score: 0.75\n",
      "Model Parameters: {'criterion': 'entropy', 'splitter': 'best', 'max_depth': 9, 'min_samples_split': 6, 'random_state': 100, 'min_samples_leaf': 4}\n",
      "Model Accuracy: 0.741667\n",
      "Model F1-score: 0.739231\n",
      "Model precision-score: 0.744136\n",
      "Model recall-score: 0.741667\n",
      "Model Parameters: {'criterion': 'entropy', 'splitter': 'best', 'max_depth': 8, 'min_samples_split': 6, 'random_state': 100, 'min_samples_leaf': 4}\n",
      "Model Accuracy: 0.754167\n",
      "Model F1-score: 0.752366\n",
      "Model precision-score: 0.756566\n",
      "Model recall-score: 0.754167\n",
      "Model Parameters: {'criterion': 'entropy', 'splitter': 'best', 'max_depth': 6, 'min_samples_split': 7, 'random_state': 100, 'min_samples_leaf': 3}\n",
      "Model Accuracy: 0.7625\n",
      "Model F1-score: 0.761088\n",
      "Model precision-score: 0.765503\n",
      "Model recall-score: 0.7625\n",
      "Model Parameters: {'criterion': 'entropy', 'splitter': 'best', 'max_depth': 11, 'min_samples_split': 10, 'random_state': 100, 'min_samples_leaf': 2}\n",
      "Model Accuracy: 0.7125\n",
      "Model F1-score: 0.714668\n",
      "Model precision-score: 0.727205\n",
      "Model recall-score: 0.7125\n",
      "Model Parameters: {'criterion': 'entropy', 'splitter': 'best', 'max_depth': 12, 'min_samples_split': 9, 'random_state': None, 'min_samples_leaf': 2}\n",
      "Model Accuracy: 0.745833\n",
      "Model F1-score: 0.744036\n",
      "Model precision-score: 0.757226\n",
      "Model recall-score: 0.745833\n",
      "Model Parameters: {'criterion': 'entropy', 'splitter': 'best', 'max_depth': 14, 'min_samples_split': 10, 'random_state': 100, 'min_samples_leaf': 1}\n",
      "Model Accuracy: 0.741667\n",
      "Model F1-score: 0.740727\n",
      "Model precision-score: 0.744859\n",
      "Model recall-score: 0.741667\n",
      "Model Parameters: {'criterion': 'entropy', 'splitter': 'best', 'max_depth': 6, 'min_samples_split': 9, 'random_state': 100, 'min_samples_leaf': 2}\n",
      "Model Accuracy: 0.6625\n",
      "Model F1-score: 0.663858\n",
      "Model precision-score: 0.676111\n",
      "Model recall-score: 0.6625\n",
      "Model Parameters: {'criterion': 'gini', 'splitter': 'best', 'max_depth': 10, 'min_samples_split': 9, 'random_state': None, 'min_samples_leaf': 1}\n"
     ]
    },
    {
     "name": "stderr",
     "output_type": "stream",
     "text": [
      "[I 2024-06-10 10:00:18,786] Trial 39 finished with value: 0.7291666666666666 and parameters: {'criterion': 'entropy', 'splitter': 'best', 'max_depth': 22, 'min_samples_split': 10, 'random_state': 0, 'min_samples_leaf': 7}. Best is trial 21 with value: 0.7875.\n",
      "[I 2024-06-10 10:00:18,816] Trial 40 finished with value: 0.7541666666666667 and parameters: {'criterion': 'gini', 'splitter': 'best', 'max_depth': 2, 'min_samples_split': 8, 'random_state': 100, 'min_samples_leaf': 3}. Best is trial 21 with value: 0.7875.\n",
      "[I 2024-06-10 10:00:18,845] Trial 41 finished with value: 0.7541666666666667 and parameters: {'criterion': 'entropy', 'splitter': 'best', 'max_depth': 9, 'min_samples_split': 7, 'random_state': 100, 'min_samples_leaf': 5}. Best is trial 21 with value: 0.7875.\n",
      "[I 2024-06-10 10:00:18,873] Trial 42 finished with value: 0.7333333333333333 and parameters: {'criterion': 'entropy', 'splitter': 'best', 'max_depth': 11, 'min_samples_split': 5, 'random_state': 100, 'min_samples_leaf': 3}. Best is trial 21 with value: 0.7875.\n",
      "[I 2024-06-10 10:00:18,902] Trial 43 finished with value: 0.7291666666666666 and parameters: {'criterion': 'entropy', 'splitter': 'best', 'max_depth': 16, 'min_samples_split': 8, 'random_state': 100, 'min_samples_leaf': 4}. Best is trial 21 with value: 0.7875.\n",
      "[I 2024-06-10 10:00:18,931] Trial 44 finished with value: 0.7458333333333333 and parameters: {'criterion': 'entropy', 'splitter': 'best', 'max_depth': 6, 'min_samples_split': 4, 'random_state': 100, 'min_samples_leaf': 2}. Best is trial 21 with value: 0.7875.\n",
      "[I 2024-06-10 10:00:18,960] Trial 45 finished with value: 0.6958333333333333 and parameters: {'criterion': 'entropy', 'splitter': 'random', 'max_depth': 8, 'min_samples_split': 6, 'random_state': None, 'min_samples_leaf': 6}. Best is trial 21 with value: 0.7875.\n"
     ]
    },
    {
     "name": "stdout",
     "output_type": "stream",
     "text": [
      "Model Accuracy: 0.729167\n",
      "Model F1-score: 0.734014\n",
      "Model precision-score: 0.748796\n",
      "Model recall-score: 0.729167\n",
      "Model Parameters: {'criterion': 'entropy', 'splitter': 'best', 'max_depth': 22, 'min_samples_split': 10, 'random_state': 0, 'min_samples_leaf': 7}\n",
      "Model Accuracy: 0.754167\n",
      "Model F1-score: 0.75278\n",
      "Model precision-score: 0.758561\n",
      "Model recall-score: 0.754167\n",
      "Model Parameters: {'criterion': 'gini', 'splitter': 'best', 'max_depth': 2, 'min_samples_split': 8, 'random_state': 100, 'min_samples_leaf': 3}\n",
      "Model Accuracy: 0.754167\n",
      "Model F1-score: 0.752548\n",
      "Model precision-score: 0.756385\n",
      "Model recall-score: 0.754167\n",
      "Model Parameters: {'criterion': 'entropy', 'splitter': 'best', 'max_depth': 9, 'min_samples_split': 7, 'random_state': 100, 'min_samples_leaf': 5}\n",
      "Model Accuracy: 0.733333\n",
      "Model F1-score: 0.731025\n",
      "Model precision-score: 0.740958\n",
      "Model recall-score: 0.733333\n",
      "Model Parameters: {'criterion': 'entropy', 'splitter': 'best', 'max_depth': 11, 'min_samples_split': 5, 'random_state': 100, 'min_samples_leaf': 3}\n",
      "Model Accuracy: 0.729167\n",
      "Model F1-score: 0.726648\n",
      "Model precision-score: 0.728944\n",
      "Model recall-score: 0.729167\n",
      "Model Parameters: {'criterion': 'entropy', 'splitter': 'best', 'max_depth': 16, 'min_samples_split': 8, 'random_state': 100, 'min_samples_leaf': 4}\n",
      "Model Accuracy: 0.745833\n",
      "Model F1-score: 0.74437\n",
      "Model precision-score: 0.747738\n",
      "Model recall-score: 0.745833\n",
      "Model Parameters: {'criterion': 'entropy', 'splitter': 'best', 'max_depth': 6, 'min_samples_split': 4, 'random_state': 100, 'min_samples_leaf': 2}\n",
      "Model Accuracy: 0.695833\n",
      "Model F1-score: 0.697664\n",
      "Model precision-score: 0.706079\n",
      "Model recall-score: 0.695833\n",
      "Model Parameters: {'criterion': 'entropy', 'splitter': 'random', 'max_depth': 8, 'min_samples_split': 6, 'random_state': None, 'min_samples_leaf': 6}\n"
     ]
    },
    {
     "name": "stderr",
     "output_type": "stream",
     "text": [
      "[I 2024-06-10 10:00:18,990] Trial 46 finished with value: 0.75 and parameters: {'criterion': 'gini', 'splitter': 'best', 'max_depth': 4, 'min_samples_split': 10, 'random_state': 100, 'min_samples_leaf': 10}. Best is trial 21 with value: 0.7875.\n",
      "[I 2024-06-10 10:00:19,019] Trial 47 finished with value: 0.6958333333333333 and parameters: {'criterion': 'entropy', 'splitter': 'random', 'max_depth': 28, 'min_samples_split': 2, 'random_state': 25, 'min_samples_leaf': 8}. Best is trial 21 with value: 0.7875.\n",
      "[I 2024-06-10 10:00:19,048] Trial 48 finished with value: 0.7708333333333334 and parameters: {'criterion': 'gini', 'splitter': 'best', 'max_depth': 10, 'min_samples_split': 8, 'random_state': 100, 'min_samples_leaf': 5}. Best is trial 21 with value: 0.7875.\n",
      "[I 2024-06-10 10:00:19,077] Trial 49 finished with value: 0.75 and parameters: {'criterion': 'gini', 'splitter': 'best', 'max_depth': 12, 'min_samples_split': 8, 'random_state': 100, 'min_samples_leaf': 5}. Best is trial 21 with value: 0.7875.\n"
     ]
    },
    {
     "name": "stdout",
     "output_type": "stream",
     "text": [
      "Model Accuracy: 0.75\n",
      "Model F1-score: 0.748839\n",
      "Model precision-score: 0.756808\n",
      "Model recall-score: 0.75\n",
      "Model Parameters: {'criterion': 'gini', 'splitter': 'best', 'max_depth': 4, 'min_samples_split': 10, 'random_state': 100, 'min_samples_leaf': 10}\n",
      "Model Accuracy: 0.695833\n",
      "Model F1-score: 0.696039\n",
      "Model precision-score: 0.705669\n",
      "Model recall-score: 0.695833\n",
      "Model Parameters: {'criterion': 'entropy', 'splitter': 'random', 'max_depth': 28, 'min_samples_split': 2, 'random_state': 25, 'min_samples_leaf': 8}\n",
      "Model Accuracy: 0.770833\n",
      "Model F1-score: 0.76816\n",
      "Model precision-score: 0.776217\n",
      "Model recall-score: 0.770833\n",
      "Model Parameters: {'criterion': 'gini', 'splitter': 'best', 'max_depth': 10, 'min_samples_split': 8, 'random_state': 100, 'min_samples_leaf': 5}\n",
      "Model Accuracy: 0.75\n",
      "Model F1-score: 0.748265\n",
      "Model precision-score: 0.762355\n",
      "Model recall-score: 0.75\n",
      "Model Parameters: {'criterion': 'gini', 'splitter': 'best', 'max_depth': 12, 'min_samples_split': 8, 'random_state': 100, 'min_samples_leaf': 5}\n",
      "Number of finished trials: 50\n",
      "Best trial:\n",
      "  Value: 0.7875\n",
      "  Params: \n",
      "    criterion: entropy\n",
      "    splitter: best\n",
      "    max_depth: 9\n",
      "    min_samples_split: 5\n",
      "    random_state: 100\n",
      "    min_samples_leaf: 4\n"
     ]
    }
   ],
   "source": [
    "from scipy.sparse.construct import random\n",
    "import optuna\n",
    "from sklearn.ensemble import RandomForestClassifier\n",
    "\n",
    "def objective(trial):\n",
    "    param = {\n",
    "        \"criterion\": trial.suggest_categorical('criterion', [\"gini\", \"entropy\"]),\n",
    "        \"splitter\": trial.suggest_categorical('splitter', [\"best\", \"random\"]),\n",
    "        \"max_depth\": trial.suggest_int('max_depth', 2, 32, log=True),\n",
    "        \"min_samples_split\": trial.suggest_int('min_samples_split', 2, 10, log=True),\n",
    "        'random_state': trial.suggest_categorical('random_state', [0, 25, 100, None]),\n",
    "        \"min_samples_leaf\" : trial.suggest_int(\"min_samples_leaf\", 1,10)\n",
    "    }\n",
    "\n",
    "    suggested_random_state = param['random_state']  # also use the suggested random state value in train_test_split()\n",
    "    \n",
    "    \n",
    "    X_train, X_test, y_train, y_test = train_test_split(X_knn, y, test_size=0.2, shuffle=True, random_state=suggested_random_state)\n",
    "    clf = DecisionTreeClassifier()\n",
    "\n",
    "    clf.fit(X_train, y_train)\n",
    "    y_pred = clf.predict(X_test)\n",
    "    acc = accuracy_score(y_pred, y_test)\n",
    "    f1 = f1_score(y_pred, y_test, average='weighted') # Calculate F1-score #average='weighted'\n",
    "    precision = precision_score(y_pred, y_test, average='weighted') # Calculate Precision\n",
    "    recall = recall_score(y_pred, y_test, average='weighted')  # Calculate Recall\n",
    "    print(f\"Model Accuracy: {round(acc, 6)}\")\n",
    "    print(f\"Model F1-score: {round(f1, 6)}\")\n",
    "    print(f\"Model precision-score: {round(precision, 6)}\")\n",
    "    print(f\"Model recall-score: {round(recall, 6)}\")\n",
    "\n",
    "    print(f\"Model Parameters: {param}\")\n",
    "    \n",
    "    return acc  # return our objective value\n",
    "    return f1\n",
    "    return precision\n",
    "    return recall\n",
    "\n",
    "if __name__ == \"__main__\":\n",
    "    study = optuna.create_study(\n",
    "        direction=\"maximize\",\n",
    "        sampler=optuna.samplers.TPESampler()\n",
    "    )\n",
    "    study.optimize(objective, n_trials=50)\n",
    "\n",
    "    print(\"Number of finished trials: {}\".format(len(study.trials)))\n",
    "\n",
    "    print(\"Best trial:\")\n",
    "    trial = study.best_trial\n",
    "\n",
    "    print(\"  Value: {}\".format(trial.value))\n",
    "\n",
    "    print(\"  Params: \")\n",
    "    for key, value in trial.params.items():\n",
    "        print(\"    {}: {}\".format(key, value))"
   ]
  },
  {
   "cell_type": "markdown",
   "id": "09eb8fcb",
   "metadata": {},
   "source": [
    "## ROC and AUC for DecisionTreeClassifier"
   ]
  },
  {
   "cell_type": "code",
   "execution_count": 128,
   "id": "3a9cd511",
   "metadata": {},
   "outputs": [
    {
     "name": "stdout",
     "output_type": "stream",
     "text": [
      "AUC of DTC: 0.8256\n",
      "10-fold CV mean of XGB: 0.7649\n",
      "10-fold CV std of XGB: 0.0521\n"
     ]
    }
   ],
   "source": [
    "knn_pipeline2= Pipeline(steps=[('imputer', KNNImputer(n_neighbors=3)),('RobustScaler', RobustScaler())])\n",
    "X_knn2 =knn_pipeline2.fit_transform(X_full)\n",
    "X_train_fullkn_dt, X_test_fullkn_dt, y_train_fullkn_dt, y_test_fullkn_dt = train_test_split(X_knn2, y_full, test_size=0.20, random_state=42)\n",
    "\n",
    "## Hyper-tuned DTC\n",
    "best_params = trial.params\n",
    "model_dtc_hyperkn = DecisionTreeClassifier(**best_params).fit(X_train_fullkn_dt, y_train_fullkn_dt)\n",
    "probs_dtc_hyper = model_dtc_hyperkn.predict_proba(X_test_fullkn_dt)#[:, 1]\n",
    "\n",
    "auc_dtc = roc_auc_score(y_test_fullkn_dt, probs_dtc_hyper, multi_class='ovr')\n",
    "print('AUC of DTC: {:.4f}'.format(auc_dtc))\n",
    "\n",
    "\n",
    "DTC_KNN = DecisionTreeClassifier() #random_state= 100, min_samples_split= 6,\n",
    "\n",
    "scores_cv_dtc = cross_val_score(DTC_KNN, X_knn2, y_full, cv=10, scoring='roc_auc_ovr')\n",
    "    \n",
    "scores_cv_dtc_mean= scores_cv_dtc.mean()\n",
    "scores_cv_dtc_std= scores_cv_dtc.std()\n",
    "#print('10-fold CV of RFC', (scores_cv_rf))\n",
    "print('10-fold CV mean of XGB: {:.4f}'.format(scores_cv_dtc_mean))\n",
    "print('10-fold CV std of XGB: {:.4f}'.format(scores_cv_dtc_std))"
   ]
  },
  {
   "cell_type": "markdown",
   "id": "2191ecf3",
   "metadata": {},
   "source": [
    "### Confusion Matrix for DecisionTreeClassifier"
   ]
  },
  {
   "cell_type": "code",
   "execution_count": 95,
   "id": "801bc4e2",
   "metadata": {},
   "outputs": [
    {
     "data": {
      "image/png": "[encoded data removed]",
      "text/plain": [
       "<Figure size 720x432 with 2 Axes>"
      ]
     },
     "metadata": {},
     "output_type": "display_data"
    }
   ],
   "source": [
    "from sklearn.metrics import plot_confusion_matrix\n",
    "class_names = ['IM', 'BCC', 'FCC', 'FCC+BCC']\n",
    "cmplot= plot_confusion_matrix(model_dtc_hyperkn, X_test_fullkn_dt, y_test_fullkn_dt, display_labels= class_names, cmap='cividis')\n",
    "cmplot.ax_.set_title('Decision Tree Classification', color='red')\n",
    "plt.xlabel('Predicted Label', color='black')\n",
    "plt.ylabel('True Label', color='black')\n",
    "plt.gcf().axes[0].tick_params(color='black')\n",
    "plt.gcf().axes[1].tick_params(color='black')\n",
    "plt.gcf().set_size_inches(10,6)\n",
    "plt.savefig('DTC_Confused_1.png', format='png', dpi=500, bbox_inches='tight', transparent=True)\n",
    "plt.show()"
   ]
  },
  {
   "cell_type": "code",
   "execution_count": null,
   "id": "937a02f4",
   "metadata": {},
   "outputs": [],
   "source": []
  },
  {
   "cell_type": "markdown",
   "id": "55f8200a",
   "metadata": {},
   "source": [
    "## Hyper-parameter tuning for KNeighborsClassifier"
   ]
  },
  {
   "cell_type": "code",
   "execution_count": 56,
   "id": "009bd3f7",
   "metadata": {},
   "outputs": [
    {
     "name": "stderr",
     "output_type": "stream",
     "text": [
      "[I 2024-06-10 08:38:09,879] A new study created in memory with name: no-name-fb47220f-863c-4416-a611-5027e6f1a83c\n",
      "[I 2024-06-10 08:38:09,907] Trial 0 finished with value: 0.625 and parameters: {'n_neighbors': 17, 'weights': 'distance', 'metric': 'chebyshev', 'random_state': 25}. Best is trial 0 with value: 0.625.\n",
      "[I 2024-06-10 08:38:09,938] Trial 1 finished with value: 0.6708333333333333 and parameters: {'n_neighbors': 17, 'weights': 'uniform', 'metric': 'manhattan', 'random_state': 0}. Best is trial 1 with value: 0.6708333333333333.\n",
      "[I 2024-06-10 08:38:09,964] Trial 2 finished with value: 0.65 and parameters: {'n_neighbors': 12, 'weights': 'uniform', 'metric': 'cosine', 'random_state': 0}. Best is trial 1 with value: 0.6708333333333333.\n",
      "[I 2024-06-10 08:38:10,073] Trial 3 finished with value: 0.6791666666666667 and parameters: {'n_neighbors': 16, 'weights': 'distance', 'metric': 'chebyshev', 'random_state': None}. Best is trial 3 with value: 0.6791666666666667.\n",
      "[I 2024-06-10 08:38:10,101] Trial 4 finished with value: 0.5333333333333333 and parameters: {'n_neighbors': 15, 'weights': 'uniform', 'metric': 'chebyshev', 'random_state': 0}. Best is trial 3 with value: 0.6791666666666667.\n"
     ]
    },
    {
     "name": "stdout",
     "output_type": "stream",
     "text": [
      "Model Accuracy: 0.625\n",
      "Model F1-score: 0.627819\n",
      "Model precision-score: 0.643486\n",
      "Model recall-score: 0.625\n",
      "Model Parameters: {'n_neighbors': 17, 'weights': 'distance', 'metric': 'chebyshev'}\n",
      "Model Accuracy: 0.670833\n",
      "Model F1-score: 0.671103\n",
      "Model precision-score: 0.67279\n",
      "Model recall-score: 0.670833\n",
      "Model Parameters: {'n_neighbors': 17, 'weights': 'uniform', 'metric': 'manhattan'}\n",
      "Model Accuracy: 0.65\n",
      "Model F1-score: 0.649443\n",
      "Model precision-score: 0.655562\n",
      "Model recall-score: 0.65\n",
      "Model Parameters: {'n_neighbors': 12, 'weights': 'uniform', 'metric': 'cosine'}\n",
      "Model Accuracy: 0.679167\n",
      "Model F1-score: 0.679458\n",
      "Model precision-score: 0.681486\n",
      "Model recall-score: 0.679167\n",
      "Model Parameters: {'n_neighbors': 16, 'weights': 'distance', 'metric': 'chebyshev'}\n",
      "Model Accuracy: 0.533333\n",
      "Model F1-score: 0.532634\n",
      "Model precision-score: 0.53739\n",
      "Model recall-score: 0.533333\n",
      "Model Parameters: {'n_neighbors': 15, 'weights': 'uniform', 'metric': 'chebyshev'}\n"
     ]
    },
    {
     "name": "stderr",
     "output_type": "stream",
     "text": [
      "[I 2024-06-10 08:38:10,124] Trial 5 finished with value: 0.7416666666666667 and parameters: {'n_neighbors': 6, 'weights': 'uniform', 'metric': 'manhattan', 'random_state': 0}. Best is trial 5 with value: 0.7416666666666667.\n",
      "[I 2024-06-10 08:38:10,148] Trial 6 finished with value: 0.5083333333333333 and parameters: {'n_neighbors': 20, 'weights': 'uniform', 'metric': 'chebyshev', 'random_state': 0}. Best is trial 5 with value: 0.7416666666666667.\n",
      "[I 2024-06-10 08:38:10,169] Trial 7 finished with value: 0.7041666666666667 and parameters: {'n_neighbors': 8, 'weights': 'uniform', 'metric': 'manhattan', 'random_state': 100}. Best is trial 5 with value: 0.7416666666666667.\n",
      "[I 2024-06-10 08:38:10,180] Trial 8 finished with value: 0.7083333333333334 and parameters: {'n_neighbors': 2, 'weights': 'uniform', 'metric': 'euclidean', 'random_state': 0}. Best is trial 5 with value: 0.7416666666666667.\n",
      "[I 2024-06-10 08:38:10,266] Trial 9 finished with value: 0.6333333333333333 and parameters: {'n_neighbors': 22, 'weights': 'uniform', 'metric': 'manhattan', 'random_state': 100}. Best is trial 5 with value: 0.7416666666666667.\n"
     ]
    },
    {
     "name": "stdout",
     "output_type": "stream",
     "text": [
      "Model Accuracy: 0.741667\n",
      "Model F1-score: 0.743428\n",
      "Model precision-score: 0.748\n",
      "Model recall-score: 0.741667\n",
      "Model Parameters: {'n_neighbors': 6, 'weights': 'uniform', 'metric': 'manhattan'}\n",
      "Model Accuracy: 0.508333\n",
      "Model F1-score: 0.506754\n",
      "Model precision-score: 0.511905\n",
      "Model recall-score: 0.508333\n",
      "Model Parameters: {'n_neighbors': 20, 'weights': 'uniform', 'metric': 'chebyshev'}\n",
      "Model Accuracy: 0.704167\n",
      "Model F1-score: 0.709705\n",
      "Model precision-score: 0.726251\n",
      "Model recall-score: 0.704167\n",
      "Model Parameters: {'n_neighbors': 8, 'weights': 'uniform', 'metric': 'manhattan'}\n",
      "Model Accuracy: 0.708333\n",
      "Model F1-score: 0.710355\n",
      "Model precision-score: 0.728834\n",
      "Model recall-score: 0.708333\n",
      "Model Parameters: {'n_neighbors': 2, 'weights': 'uniform', 'metric': 'euclidean'}\n",
      "Model Accuracy: 0.633333\n",
      "Model F1-score: 0.634386\n",
      "Model precision-score: 0.639348\n",
      "Model recall-score: 0.633333\n",
      "Model Parameters: {'n_neighbors': 22, 'weights': 'uniform', 'metric': 'manhattan'}\n"
     ]
    },
    {
     "name": "stderr",
     "output_type": "stream",
     "text": [
      "[I 2024-06-10 08:38:10,365] Trial 10 finished with value: 0.7166666666666667 and parameters: {'n_neighbors': 1, 'weights': 'distance', 'metric': 'cosine', 'random_state': 25}. Best is trial 5 with value: 0.7416666666666667.\n",
      "[I 2024-06-10 08:38:10,467] Trial 11 finished with value: 0.7166666666666667 and parameters: {'n_neighbors': 3, 'weights': 'distance', 'metric': 'cosine', 'random_state': 25}. Best is trial 5 with value: 0.7416666666666667.\n"
     ]
    },
    {
     "name": "stdout",
     "output_type": "stream",
     "text": [
      "Model Accuracy: 0.716667\n",
      "Model F1-score: 0.717168\n",
      "Model precision-score: 0.720495\n",
      "Model recall-score: 0.716667\n",
      "Model Parameters: {'n_neighbors': 1, 'weights': 'distance', 'metric': 'cosine'}\n",
      "Model Accuracy: 0.716667\n",
      "Model F1-score: 0.716859\n",
      "Model precision-score: 0.722589\n",
      "Model recall-score: 0.716667\n",
      "Model Parameters: {'n_neighbors': 3, 'weights': 'distance', 'metric': 'cosine'}\n"
     ]
    },
    {
     "name": "stderr",
     "output_type": "stream",
     "text": [
      "[I 2024-06-10 08:38:10,569] Trial 12 finished with value: 0.7166666666666667 and parameters: {'n_neighbors': 7, 'weights': 'distance', 'metric': 'cosine', 'random_state': 25}. Best is trial 5 with value: 0.7416666666666667.\n"
     ]
    },
    {
     "name": "stdout",
     "output_type": "stream",
     "text": [
      "Model Accuracy: 0.716667\n",
      "Model F1-score: 0.718128\n",
      "Model precision-score: 0.724301\n",
      "Model recall-score: 0.716667\n",
      "Model Parameters: {'n_neighbors': 7, 'weights': 'distance', 'metric': 'cosine'}\n",
      "Model Accuracy: 0.695833"
     ]
    },
    {
     "name": "stderr",
     "output_type": "stream",
     "text": [
      "[I 2024-06-10 08:38:10,770] Trial 13 finished with value: 0.6958333333333333 and parameters: {'n_neighbors': 7, 'weights': 'distance', 'metric': 'euclidean', 'random_state': None}. Best is trial 5 with value: 0.7416666666666667.\n",
      "[I 2024-06-10 08:38:10,879] Trial 14 finished with value: 0.7708333333333334 and parameters: {'n_neighbors': 1, 'weights': 'distance', 'metric': 'manhattan', 'random_state': 25}. Best is trial 14 with value: 0.7708333333333334.\n",
      "[I 2024-06-10 08:38:10,901] Trial 15 finished with value: 0.75 and parameters: {'n_neighbors': 5, 'weights': 'distance', 'metric': 'manhattan', 'random_state': 25}. Best is trial 14 with value: 0.7708333333333334.\n",
      "[I 2024-06-10 08:38:10,924] Trial 16 finished with value: 0.7541666666666667 and parameters: {'n_neighbors': 11, 'weights': 'distance', 'metric': 'manhattan', 'random_state': 25}. Best is trial 14 with value: 0.7708333333333334.\n",
      "[I 2024-06-10 08:38:10,944] Trial 17 finished with value: 0.725 and parameters: {'n_neighbors': 10, 'weights': 'distance', 'metric': 'manhattan', 'random_state': 25}. Best is trial 14 with value: 0.7708333333333334.\n",
      "[I 2024-06-10 08:38:10,966] Trial 18 finished with value: 0.6916666666666667 and parameters: {'n_neighbors': 25, 'weights': 'distance', 'metric': 'manhattan', 'random_state': 25}. Best is trial 14 with value: 0.7708333333333334.\n"
     ]
    },
    {
     "name": "stdout",
     "output_type": "stream",
     "text": [
      "\n",
      "Model F1-score: 0.697876\n",
      "Model precision-score: 0.705315\n",
      "Model recall-score: 0.695833\n",
      "Model Parameters: {'n_neighbors': 7, 'weights': 'distance', 'metric': 'euclidean'}\n",
      "Model Accuracy: 0.770833\n",
      "Model F1-score: 0.770254\n",
      "Model precision-score: 0.771051\n",
      "Model recall-score: 0.770833\n",
      "Model Parameters: {'n_neighbors': 1, 'weights': 'distance', 'metric': 'manhattan'}\n",
      "Model Accuracy: 0.75\n",
      "Model F1-score: 0.751739\n",
      "Model precision-score: 0.757206\n",
      "Model recall-score: 0.75\n",
      "Model Parameters: {'n_neighbors': 5, 'weights': 'distance', 'metric': 'manhattan'}\n",
      "Model Accuracy: 0.754167\n",
      "Model F1-score: 0.755063\n",
      "Model precision-score: 0.759612\n",
      "Model recall-score: 0.754167\n",
      "Model Parameters: {'n_neighbors': 11, 'weights': 'distance', 'metric': 'manhattan'}\n",
      "Model Accuracy: 0.725\n",
      "Model F1-score: 0.725439\n",
      "Model precision-score: 0.730869\n",
      "Model recall-score: 0.725\n",
      "Model Parameters: {'n_neighbors': 10, 'weights': 'distance', 'metric': 'manhattan'}\n",
      "Model Accuracy: 0.691667\n",
      "Model F1-score: 0.689155\n",
      "Model precision-score: 0.691605\n",
      "Model recall-score: 0.691667\n",
      "Model Parameters: {'n_neighbors': 25, 'weights': 'distance', 'metric': 'manhattan'}\n"
     ]
    },
    {
     "name": "stderr",
     "output_type": "stream",
     "text": [
      "[I 2024-06-10 08:38:10,987] Trial 19 finished with value: 0.7375 and parameters: {'n_neighbors': 12, 'weights': 'distance', 'metric': 'manhattan', 'random_state': 25}. Best is trial 14 with value: 0.7708333333333334.\n",
      "[I 2024-06-10 08:38:11,001] Trial 20 finished with value: 0.7541666666666667 and parameters: {'n_neighbors': 4, 'weights': 'distance', 'metric': 'euclidean', 'random_state': 100}. Best is trial 14 with value: 0.7708333333333334.\n",
      "[I 2024-06-10 08:38:11,068] Trial 21 finished with value: 0.7541666666666667 and parameters: {'n_neighbors': 4, 'weights': 'distance', 'metric': 'euclidean', 'random_state': 100}. Best is trial 14 with value: 0.7708333333333334.\n",
      "[I 2024-06-10 08:38:11,168] Trial 22 finished with value: 0.7291666666666666 and parameters: {'n_neighbors': 9, 'weights': 'distance', 'metric': 'euclidean', 'random_state': 100}. Best is trial 14 with value: 0.7708333333333334.\n"
     ]
    },
    {
     "name": "stdout",
     "output_type": "stream",
     "text": [
      "Model Accuracy: 0.7375\n",
      "Model F1-score: 0.738046\n",
      "Model precision-score: 0.742725\n",
      "Model recall-score: 0.7375\n",
      "Model Parameters: {'n_neighbors': 12, 'weights': 'distance', 'metric': 'manhattan'}\n",
      "Model Accuracy: 0.754167\n",
      "Model F1-score: 0.753997\n",
      "Model precision-score: 0.759928\n",
      "Model recall-score: 0.754167\n",
      "Model Parameters: {'n_neighbors': 4, 'weights': 'distance', 'metric': 'euclidean'}\n",
      "Model Accuracy: 0.754167\n",
      "Model F1-score: 0.753997\n",
      "Model precision-score: 0.759928\n",
      "Model recall-score: 0.754167\n",
      "Model Parameters: {'n_neighbors': 4, 'weights': 'distance', 'metric': 'euclidean'}\n",
      "Model Accuracy: 0.729167\n",
      "Model F1-score: 0.729207\n",
      "Model precision-score: 0.732183\n",
      "Model recall-score: 0.729167\n",
      "Model Parameters: {'n_neighbors': 9, 'weights': 'distance', 'metric': 'euclidean'}\n"
     ]
    },
    {
     "name": "stderr",
     "output_type": "stream",
     "text": [
      "[I 2024-06-10 08:38:11,271] Trial 23 finished with value: 0.7625 and parameters: {'n_neighbors': 1, 'weights': 'distance', 'metric': 'euclidean', 'random_state': 100}. Best is trial 14 with value: 0.7708333333333334.\n",
      "[I 2024-06-10 08:38:11,373] Trial 24 finished with value: 0.7125 and parameters: {'n_neighbors': 2, 'weights': 'distance', 'metric': 'euclidean', 'random_state': None}. Best is trial 14 with value: 0.7708333333333334.\n"
     ]
    },
    {
     "name": "stdout",
     "output_type": "stream",
     "text": [
      "Model Accuracy: 0.7625\n",
      "Model F1-score: 0.762121\n",
      "Model precision-score: 0.764645\n",
      "Model recall-score: 0.7625\n",
      "Model Parameters: {'n_neighbors': 1, 'weights': 'distance', 'metric': 'euclidean'}\n",
      "Model Accuracy: 0.7125\n",
      "Model F1-score: 0.71211\n",
      "Model precision-score: 0.712794\n",
      "Model recall-score: 0.7125\n",
      "Model Parameters: {'n_neighbors': 2, 'weights': 'distance', 'metric': 'euclidean'}\n"
     ]
    },
    {
     "name": "stderr",
     "output_type": "stream",
     "text": [
      "[I 2024-06-10 08:38:11,562] Trial 25 finished with value: 0.7625 and parameters: {'n_neighbors': 1, 'weights': 'distance', 'metric': 'manhattan', 'random_state': 100}. Best is trial 14 with value: 0.7708333333333334.\n",
      "[I 2024-06-10 08:38:11,575] Trial 26 finished with value: 0.7625 and parameters: {'n_neighbors': 1, 'weights': 'distance', 'metric': 'manhattan', 'random_state': 100}. Best is trial 14 with value: 0.7708333333333334.\n",
      "[I 2024-06-10 08:38:11,589] Trial 27 finished with value: 0.7625 and parameters: {'n_neighbors': 5, 'weights': 'distance', 'metric': 'euclidean', 'random_state': 100}. Best is trial 14 with value: 0.7708333333333334.\n",
      "[I 2024-06-10 08:38:11,669] Trial 28 finished with value: 0.7625 and parameters: {'n_neighbors': 1, 'weights': 'distance', 'metric': 'manhattan', 'random_state': 100}. Best is trial 14 with value: 0.7708333333333334.\n"
     ]
    },
    {
     "name": "stdout",
     "output_type": "stream",
     "text": [
      "Model Accuracy: 0.7625\n",
      "Model F1-score: 0.763704\n",
      "Model precision-score: 0.769434\n",
      "Model recall-score: 0.7625\n",
      "Model Parameters: {'n_neighbors': 1, 'weights': 'distance', 'metric': 'manhattan'}\n",
      "Model Accuracy: 0.7625\n",
      "Model F1-score: 0.763704\n",
      "Model precision-score: 0.769434\n",
      "Model recall-score: 0.7625\n",
      "Model Parameters: {'n_neighbors': 1, 'weights': 'distance', 'metric': 'manhattan'}\n",
      "Model Accuracy: 0.7625\n",
      "Model F1-score: 0.763089\n",
      "Model precision-score: 0.767042\n",
      "Model recall-score: 0.7625\n",
      "Model Parameters: {'n_neighbors': 5, 'weights': 'distance', 'metric': 'euclidean'}\n",
      "Model Accuracy: 0.7625\n",
      "Model F1-score: 0.763704\n",
      "Model precision-score: 0.769434\n",
      "Model recall-score: 0.7625\n",
      "Model Parameters: {'n_neighbors': 1, 'weights': 'distance', 'metric': 'manhattan'}\n"
     ]
    },
    {
     "name": "stderr",
     "output_type": "stream",
     "text": [
      "[I 2024-06-10 08:38:11,774] Trial 29 finished with value: 0.7208333333333333 and parameters: {'n_neighbors': 3, 'weights': 'distance', 'metric': 'chebyshev', 'random_state': 100}. Best is trial 14 with value: 0.7708333333333334.\n",
      "[I 2024-06-10 08:38:11,789] Trial 30 finished with value: 0.7625 and parameters: {'n_neighbors': 5, 'weights': 'distance', 'metric': 'euclidean', 'random_state': 100}. Best is trial 14 with value: 0.7708333333333334.\n",
      "[I 2024-06-10 08:38:11,869] Trial 31 finished with value: 0.7625 and parameters: {'n_neighbors': 1, 'weights': 'distance', 'metric': 'manhattan', 'random_state': 100}. Best is trial 14 with value: 0.7708333333333334.\n"
     ]
    },
    {
     "name": "stdout",
     "output_type": "stream",
     "text": [
      "Model Accuracy: 0.720833\n",
      "Model F1-score: 0.720016\n",
      "Model precision-score: 0.722511\n",
      "Model recall-score: 0.720833\n",
      "Model Parameters: {'n_neighbors': 3, 'weights': 'distance', 'metric': 'chebyshev'}\n",
      "Model Accuracy: 0.7625\n",
      "Model F1-score: 0.763089\n",
      "Model precision-score: 0.767042\n",
      "Model recall-score: 0.7625\n",
      "Model Parameters: {'n_neighbors': 5, 'weights': 'distance', 'metric': 'euclidean'}\n",
      "Model Accuracy: 0.7625\n",
      "Model F1-score: 0.763704\n",
      "Model precision-score: 0.769434\n",
      "Model recall-score: 0.7625\n",
      "Model Parameters: {'n_neighbors': 1, 'weights': 'distance', 'metric': 'manhattan'}\n"
     ]
    },
    {
     "name": "stderr",
     "output_type": "stream",
     "text": [
      "[I 2024-06-10 08:38:11,975] Trial 32 finished with value: 0.7458333333333333 and parameters: {'n_neighbors': 3, 'weights': 'distance', 'metric': 'manhattan', 'random_state': 100}. Best is trial 14 with value: 0.7708333333333334.\n",
      "[I 2024-06-10 08:38:11,989] Trial 33 finished with value: 0.7625 and parameters: {'n_neighbors': 1, 'weights': 'distance', 'metric': 'manhattan', 'random_state': 100}. Best is trial 14 with value: 0.7708333333333334.\n",
      "[I 2024-06-10 08:38:12,004] Trial 34 finished with value: 0.7458333333333333 and parameters: {'n_neighbors': 3, 'weights': 'distance', 'metric': 'manhattan', 'random_state': 100}. Best is trial 14 with value: 0.7708333333333334.\n",
      "[I 2024-06-10 08:38:12,018] Trial 35 finished with value: 0.7875 and parameters: {'n_neighbors': 6, 'weights': 'distance', 'metric': 'manhattan', 'random_state': None}. Best is trial 35 with value: 0.7875.\n",
      "[I 2024-06-10 08:38:12,033] Trial 36 finished with value: 0.6875 and parameters: {'n_neighbors': 15, 'weights': 'distance', 'metric': 'chebyshev', 'random_state': None}. Best is trial 35 with value: 0.7875.\n",
      "[I 2024-06-10 08:38:12,048] Trial 37 finished with value: 0.7333333333333333 and parameters: {'n_neighbors': 6, 'weights': 'distance', 'metric': 'manhattan', 'random_state': None}. Best is trial 35 with value: 0.7875.\n",
      "[I 2024-06-10 08:38:12,066] Trial 38 finished with value: 0.6791666666666667 and parameters: {'n_neighbors': 8, 'weights': 'uniform', 'metric': 'cosine', 'random_state': None}. Best is trial 35 with value: 0.7875.\n",
      "[I 2024-06-10 08:38:12,166] Trial 39 finished with value: 0.7041666666666667 and parameters: {'n_neighbors': 14, 'weights': 'distance', 'metric': 'manhattan', 'random_state': None}. Best is trial 35 with value: 0.7875.\n"
     ]
    },
    {
     "name": "stdout",
     "output_type": "stream",
     "text": [
      "Model Accuracy: 0.745833\n",
      "Model F1-score: 0.745921\n",
      "Model precision-score: 0.753207\n",
      "Model recall-score: 0.745833\n",
      "Model Parameters: {'n_neighbors': 3, 'weights': 'distance', 'metric': 'manhattan'}\n",
      "Model Accuracy: 0.7625\n",
      "Model F1-score: 0.763704\n",
      "Model precision-score: 0.769434\n",
      "Model recall-score: 0.7625\n",
      "Model Parameters: {'n_neighbors': 1, 'weights': 'distance', 'metric': 'manhattan'}\n",
      "Model Accuracy: 0.745833\n",
      "Model F1-score: 0.745921\n",
      "Model precision-score: 0.753207\n",
      "Model recall-score: 0.745833\n",
      "Model Parameters: {'n_neighbors': 3, 'weights': 'distance', 'metric': 'manhattan'}\n",
      "Model Accuracy: 0.7875\n",
      "Model F1-score: 0.789071\n",
      "Model precision-score: 0.806119\n",
      "Model recall-score: 0.7875\n",
      "Model Parameters: {'n_neighbors': 6, 'weights': 'distance', 'metric': 'manhattan'}\n",
      "Model Accuracy: 0.6875\n",
      "Model F1-score: 0.687634\n",
      "Model precision-score: 0.690364\n",
      "Model recall-score: 0.6875\n",
      "Model Parameters: {'n_neighbors': 15, 'weights': 'distance', 'metric': 'chebyshev'}\n",
      "Model Accuracy: 0.733333\n",
      "Model F1-score: 0.733354\n",
      "Model precision-score: 0.739124\n",
      "Model recall-score: 0.733333\n",
      "Model Parameters: {'n_neighbors': 6, 'weights': 'distance', 'metric': 'manhattan'}\n",
      "Model Accuracy: 0.679167\n",
      "Model F1-score: 0.681568\n",
      "Model precision-score: 0.704653\n",
      "Model recall-score: 0.679167\n",
      "Model Parameters: {'n_neighbors': 8, 'weights': 'uniform', 'metric': 'cosine'}\n",
      "Model Accuracy: 0.704167\n",
      "Model F1-score: 0.705841\n",
      "Model precision-score: 0.729743\n",
      "Model recall-score: 0.704167\n",
      "Model Parameters: {'n_neighbors': 14, 'weights': 'distance', 'metric': 'manhattan'}\n"
     ]
    },
    {
     "name": "stderr",
     "output_type": "stream",
     "text": [
      "[I 2024-06-10 08:38:12,185] Trial 40 finished with value: 0.575 and parameters: {'n_neighbors': 4, 'weights': 'uniform', 'metric': 'chebyshev', 'random_state': 0}. Best is trial 35 with value: 0.7875.\n",
      "[I 2024-06-10 08:38:12,201] Trial 41 finished with value: 0.7625 and parameters: {'n_neighbors': 2, 'weights': 'distance', 'metric': 'manhattan', 'random_state': 100}. Best is trial 35 with value: 0.7875.\n",
      "[I 2024-06-10 08:38:12,215] Trial 42 finished with value: 0.7541666666666667 and parameters: {'n_neighbors': 1, 'weights': 'distance', 'metric': 'manhattan', 'random_state': None}. Best is trial 35 with value: 0.7875.\n",
      "[I 2024-06-10 08:38:12,231] Trial 43 finished with value: 0.7291666666666666 and parameters: {'n_neighbors': 18, 'weights': 'distance', 'metric': 'manhattan', 'random_state': 100}. Best is trial 35 with value: 0.7875.\n",
      "[I 2024-06-10 08:38:12,246] Trial 44 finished with value: 0.8 and parameters: {'n_neighbors': 2, 'weights': 'distance', 'metric': 'manhattan', 'random_state': 0}. Best is trial 44 with value: 0.8.\n",
      "[I 2024-06-10 08:38:12,264] Trial 45 finished with value: 0.7416666666666667 and parameters: {'n_neighbors': 6, 'weights': 'uniform', 'metric': 'manhattan', 'random_state': 0}. Best is trial 44 with value: 0.8.\n",
      "[I 2024-06-10 08:38:12,279] Trial 46 finished with value: 0.7291666666666666 and parameters: {'n_neighbors': 3, 'weights': 'distance', 'metric': 'cosine', 'random_state': 0}. Best is trial 44 with value: 0.8.\n",
      "[I 2024-06-10 08:38:12,368] Trial 47 finished with value: 0.8 and parameters: {'n_neighbors': 2, 'weights': 'distance', 'metric': 'manhattan', 'random_state': 0}. Best is trial 44 with value: 0.8.\n"
     ]
    },
    {
     "name": "stdout",
     "output_type": "stream",
     "text": [
      "Model Accuracy: 0.575\n",
      "Model F1-score: 0.575639\n",
      "Model precision-score: 0.584238\n",
      "Model recall-score: 0.575\n",
      "Model Parameters: {'n_neighbors': 4, 'weights': 'uniform', 'metric': 'chebyshev'}\n",
      "Model Accuracy: 0.7625\n",
      "Model F1-score: 0.763704\n",
      "Model precision-score: 0.769434\n",
      "Model recall-score: 0.7625\n",
      "Model Parameters: {'n_neighbors': 2, 'weights': 'distance', 'metric': 'manhattan'}\n",
      "Model Accuracy: 0.754167\n",
      "Model F1-score: 0.754326\n",
      "Model precision-score: 0.754998\n",
      "Model recall-score: 0.754167\n",
      "Model Parameters: {'n_neighbors': 1, 'weights': 'distance', 'metric': 'manhattan'}\n",
      "Model Accuracy: 0.729167\n",
      "Model F1-score: 0.730475\n",
      "Model precision-score: 0.736508\n",
      "Model recall-score: 0.729167\n",
      "Model Parameters: {'n_neighbors': 18, 'weights': 'distance', 'metric': 'manhattan'}\n",
      "Model Accuracy: 0.8\n",
      "Model F1-score: 0.799361\n",
      "Model precision-score: 0.802621\n",
      "Model recall-score: 0.8\n",
      "Model Parameters: {'n_neighbors': 2, 'weights': 'distance', 'metric': 'manhattan'}\n",
      "Model Accuracy: 0.741667\n",
      "Model F1-score: 0.743428\n",
      "Model precision-score: 0.748\n",
      "Model recall-score: 0.741667\n",
      "Model Parameters: {'n_neighbors': 6, 'weights': 'uniform', 'metric': 'manhattan'}\n",
      "Model Accuracy: 0.729167\n",
      "Model F1-score: 0.727228\n",
      "Model precision-score: 0.731822\n",
      "Model recall-score: 0.729167\n",
      "Model Parameters: {'n_neighbors': 3, 'weights': 'distance', 'metric': 'cosine'}\n",
      "Model Accuracy: 0.8\n",
      "Model F1-score: 0.799361\n",
      "Model precision-score: 0.802621\n",
      "Model recall-score: 0.8\n",
      "Model Parameters: {'n_neighbors': 2, 'weights': 'distance', 'metric': 'manhattan'}\n"
     ]
    },
    {
     "name": "stderr",
     "output_type": "stream",
     "text": [
      "[I 2024-06-10 08:38:12,481] Trial 48 finished with value: 0.6916666666666667 and parameters: {'n_neighbors': 4, 'weights': 'uniform', 'metric': 'euclidean', 'random_state': 0}. Best is trial 44 with value: 0.8.\n",
      "[I 2024-06-10 08:38:12,664] Trial 49 finished with value: 0.8 and parameters: {'n_neighbors': 2, 'weights': 'distance', 'metric': 'manhattan', 'random_state': 0}. Best is trial 44 with value: 0.8.\n"
     ]
    },
    {
     "name": "stdout",
     "output_type": "stream",
     "text": [
      "Model Accuracy: 0.691667\n",
      "Model F1-score: 0.688625\n",
      "Model precision-score: 0.692693\n",
      "Model recall-score: 0.691667\n",
      "Model Parameters: {'n_neighbors': 4, 'weights': 'uniform', 'metric': 'euclidean'}\n",
      "Model Accuracy: 0.8\n",
      "Model F1-score: 0.799361\n",
      "Model precision-score: 0.802621\n",
      "Model recall-score: 0.8\n",
      "Model Parameters: {'n_neighbors': 2, 'weights': 'distance', 'metric': 'manhattan'}\n",
      "Number of finished trials: 50\n",
      "Best trial:\n",
      "  Value: 0.8\n",
      "  Params: \n",
      "    n_neighbors: 2\n",
      "    weights: distance\n",
      "    metric: manhattan\n",
      "    random_state: 0\n"
     ]
    }
   ],
   "source": [
    "from scipy.sparse.construct import random\n",
    "import optuna\n",
    "from sklearn.ensemble import RandomForestClassifier\n",
    "\n",
    "def objective(trial):\n",
    "    param = {\n",
    "        'n_neighbors': trial.suggest_int('n_neighbors', 1, 25),\n",
    "        'weights': trial.suggest_categorical('weights', ['uniform', 'distance']),\n",
    "        'metric': trial.suggest_categorical('metric', ['euclidean', 'manhattan', 'chebyshev', 'cosine'])\n",
    "    }\n",
    "\n",
    "    suggested_random_state = trial.suggest_categorical('random_state', [0, 25, 100, None]) \n",
    "    \n",
    "    X_train, X_test, y_train, y_test = train_test_split(X_knn, y, test_size=0.2, shuffle=True, random_state=suggested_random_state)\n",
    "    clf = KNeighborsClassifier(**param)\n",
    "\n",
    "    clf.fit(X_train, y_train)\n",
    "    y_pred = clf.predict(X_test)\n",
    "    acc = accuracy_score(y_pred, y_test)\n",
    "    f1 = f1_score(y_pred, y_test, average='weighted') # Calculate F1-score #average='weighted'\n",
    "    precision = precision_score(y_pred, y_test, average='weighted') # Calculate Precision\n",
    "    recall = recall_score(y_pred, y_test, average='weighted')  # Calculate Recall\n",
    "    print(f\"Model Accuracy: {round(acc, 6)}\")\n",
    "    print(f\"Model F1-score: {round(f1, 6)}\")\n",
    "    print(f\"Model precision-score: {round(precision, 6)}\")\n",
    "    print(f\"Model recall-score: {round(recall, 6)}\")\n",
    "\n",
    "    print(f\"Model Parameters: {param}\")\n",
    "    \n",
    "    return acc  # return our objective value\n",
    "    return f1\n",
    "    return precision\n",
    "    return recall\n",
    "\n",
    "if __name__ == \"__main__\":\n",
    "    study = optuna.create_study(\n",
    "        direction=\"maximize\",\n",
    "        sampler=optuna.samplers.TPESampler()\n",
    "    )\n",
    "    study.optimize(objective, n_trials=50)\n",
    "\n",
    "    print(\"Number of finished trials: {}\".format(len(study.trials)))\n",
    "\n",
    "    print(\"Best trial:\")\n",
    "    trial = study.best_trial\n",
    "\n",
    "    print(\"  Value: {}\".format(trial.value))\n",
    "\n",
    "    print(\"  Params: \")\n",
    "    for key, value in trial.params.items():\n",
    "        print(\"    {}: {}\".format(key, value))"
   ]
  },
  {
   "cell_type": "markdown",
   "id": "8831f944",
   "metadata": {},
   "source": [
    "## ROC and AUC for KNeighborsClassifier"
   ]
  },
  {
   "cell_type": "code",
   "execution_count": 57,
   "id": "988c5728",
   "metadata": {},
   "outputs": [],
   "source": [
    "params_less = trial.params\n",
    "del params_less['random_state']"
   ]
  },
  {
   "cell_type": "code",
   "execution_count": 129,
   "id": "66b48aea",
   "metadata": {},
   "outputs": [
    {
     "name": "stdout",
     "output_type": "stream",
     "text": [
      "AUC of KNC: 0.8788\n",
      "10-fold CV mean of KNC: 0.8315\n",
      "10-fold CV std of KNC: 0.0446\n"
     ]
    }
   ],
   "source": [
    "knn_pipeline2= Pipeline(steps=[('imputer', KNNImputer(n_neighbors=3)),('RobustScaler', RobustScaler())])\n",
    "X_knn2 =knn_pipeline2.fit_transform(X_full)\n",
    "X_train_fullkn_kn, X_test_fullkn_kn, y_train_fullkn_kn, y_test_fullkn_kn = train_test_split(X_knn2, y_full, test_size=0.20, random_state=42)\n",
    "\n",
    "## Hyper-tuned KNC\n",
    "# remove the random_state parameter from trial.params:\n",
    "best_params_kn = params_less\n",
    "model_knc_hyperkn = KNeighborsClassifier(**best_params_kn).fit(X_train_fullkn_kn, y_train_fullkn_kn)\n",
    "probs_knc_hyper = model_knc_hyperkn .predict_proba(X_test_fullkn_kn)#[:, 1]\n",
    "\n",
    "auc_knc = roc_auc_score(y_test_fullkn_kn, probs_knc_hyper, multi_class='ovr')\n",
    "print('AUC of KNC: {:.4f}'.format(auc_knc))\n",
    "\n",
    "\n",
    "KNC_KNN = KNeighborsClassifier() #random_state= 100, min_samples_split= 6,\n",
    "\n",
    "scores_cv_knc = cross_val_score(KNC_KNN, X_knn2, y_full, cv=10, scoring='roc_auc_ovr')\n",
    "    \n",
    "scores_cv_knc_mean= scores_cv_knc.mean()\n",
    "scores_cv_knc_std= scores_cv_knc.std()\n",
    "#print('10-fold CV of RFC', (scores_cv_rf))\n",
    "print('10-fold CV mean of KNC: {:.4f}'.format(scores_cv_knc_mean))\n",
    "print('10-fold CV std of KNC: {:.4f}'.format(scores_cv_knc_std))"
   ]
  },
  {
   "cell_type": "markdown",
   "id": "9b9b2b63",
   "metadata": {},
   "source": [
    "### Confusion Matrix for KNeighborsClassifier"
   ]
  },
  {
   "cell_type": "code",
   "execution_count": 94,
   "id": "59074a44",
   "metadata": {},
   "outputs": [
    {
     "data": {
      "image/png": "[encoded data removed]",
      "text/plain": [
       "<Figure size 720x432 with 2 Axes>"
      ]
     },
     "metadata": {},
     "output_type": "display_data"
    }
   ],
   "source": [
    "from sklearn.metrics import plot_confusion_matrix\n",
    "class_names = ['IM', 'BCC', 'FCC', 'FCC+BCC']\n",
    "cmplot= plot_confusion_matrix(model_knc_hyperkn, X_test_fullkn_kn, y_test_fullkn_kn, display_labels= class_names, cmap='cividis')\n",
    "cmplot.ax_.set_title('K-Neighbors Classification', color='red')\n",
    "plt.xlabel('Predicted Label', color='black')\n",
    "plt.ylabel('True Label', color='black')\n",
    "plt.gcf().axes[0].tick_params(color='black')\n",
    "plt.gcf().axes[1].tick_params(color='black')\n",
    "plt.gcf().set_size_inches(10,6)\n",
    "plt.savefig('KNC_Confused_1.png', format='png', dpi=500, bbox_inches='tight', transparent=True)\n",
    "plt.show()"
   ]
  },
  {
   "cell_type": "code",
   "execution_count": null,
   "id": "aec9581d",
   "metadata": {},
   "outputs": [],
   "source": []
  },
  {
   "cell_type": "code",
   "execution_count": null,
   "id": "bc67ee63",
   "metadata": {},
   "outputs": [],
   "source": []
  },
  {
   "cell_type": "markdown",
   "id": "cd6a7f36",
   "metadata": {},
   "source": [
    "## Hyper-parameter tuning for XGBoost"
   ]
  },
  {
   "cell_type": "code",
   "execution_count": 122,
   "id": "0100d84a",
   "metadata": {},
   "outputs": [
    {
     "name": "stderr",
     "output_type": "stream",
     "text": [
      "[I 2024-06-10 09:47:04,426] A new study created in memory with name: no-name-153cc2fb-e750-41a5-887f-f799b6564177\n",
      "[I 2024-06-10 09:47:04,795] Trial 0 finished with value: 0.8208333333333333 and parameters: {'random_state': 0, 'min_samples_split': 9, 'max_depth': 16, 'n_estimators': 571, 'min_samples_leaf': 9}. Best is trial 0 with value: 0.8208333333333333.\n"
     ]
    },
    {
     "name": "stdout",
     "output_type": "stream",
     "text": [
      "Model Accuracy: 0.820833\n",
      "Model F1-score: 0.819597\n",
      "Model precision-score: 0.824121\n",
      "Model recall-score: 0.820833\n",
      "Model Parameters: {'random_state': 0, ' criterion': 9, 'max_depth': 16, 'n_estimators': 571, 'min_samples_leaf': 9}\n"
     ]
    },
    {
     "name": "stderr",
     "output_type": "stream",
     "text": [
      "[I 2024-06-10 09:47:05,052] Trial 1 finished with value: 0.825 and parameters: {'random_state': 100, 'min_samples_split': 9, 'max_depth': 4, 'n_estimators': 639, 'min_samples_leaf': 9}. Best is trial 1 with value: 0.825.\n"
     ]
    },
    {
     "name": "stdout",
     "output_type": "stream",
     "text": [
      "Model Accuracy: 0.825\n",
      "Model F1-score: 0.824471\n",
      "Model precision-score: 0.826369\n",
      "Model recall-score: 0.825\n",
      "Model Parameters: {'random_state': 100, ' criterion': 9, 'max_depth': 4, 'n_estimators': 639, 'min_samples_leaf': 9}\n"
     ]
    },
    {
     "name": "stderr",
     "output_type": "stream",
     "text": [
      "[I 2024-06-10 09:47:05,310] Trial 2 finished with value: 0.7875 and parameters: {'random_state': None, 'min_samples_split': 4, 'max_depth': 14, 'n_estimators': 989, 'min_samples_leaf': 4}. Best is trial 1 with value: 0.825.\n"
     ]
    },
    {
     "name": "stdout",
     "output_type": "stream",
     "text": [
      "Model Accuracy: 0.7875\n",
      "Model F1-score: 0.788625\n",
      "Model precision-score: 0.791216\n",
      "Model recall-score: 0.7875\n",
      "Model Parameters: {'random_state': None, ' criterion': 4, 'max_depth': 14, 'n_estimators': 989, 'min_samples_leaf': 4}\n"
     ]
    },
    {
     "name": "stderr",
     "output_type": "stream",
     "text": [
      "[I 2024-06-10 09:47:05,567] Trial 3 finished with value: 0.8208333333333333 and parameters: {'random_state': 0, 'min_samples_split': 10, 'max_depth': 4, 'n_estimators': 986, 'min_samples_leaf': 4}. Best is trial 1 with value: 0.825.\n"
     ]
    },
    {
     "name": "stdout",
     "output_type": "stream",
     "text": [
      "Model Accuracy: 0.820833\n",
      "Model F1-score: 0.819597\n",
      "Model precision-score: 0.824121\n",
      "Model recall-score: 0.820833\n",
      "Model Parameters: {'random_state': 0, ' criterion': 10, 'max_depth': 4, 'n_estimators': 986, 'min_samples_leaf': 4}\n"
     ]
    },
    {
     "name": "stderr",
     "output_type": "stream",
     "text": [
      "[I 2024-06-10 09:47:05,818] Trial 4 finished with value: 0.8041666666666667 and parameters: {'random_state': 25, 'min_samples_split': 7, 'max_depth': 24, 'n_estimators': 358, 'min_samples_leaf': 4}. Best is trial 1 with value: 0.825.\n"
     ]
    },
    {
     "name": "stdout",
     "output_type": "stream",
     "text": [
      "Model Accuracy: 0.804167\n",
      "Model F1-score: 0.804003\n",
      "Model precision-score: 0.807047\n",
      "Model recall-score: 0.804167\n",
      "Model Parameters: {'random_state': 25, ' criterion': 7, 'max_depth': 24, 'n_estimators': 358, 'min_samples_leaf': 4}\n"
     ]
    },
    {
     "name": "stderr",
     "output_type": "stream",
     "text": [
      "[I 2024-06-10 09:47:06,071] Trial 5 finished with value: 0.8041666666666667 and parameters: {'random_state': 25, 'min_samples_split': 10, 'max_depth': 2, 'n_estimators': 243, 'min_samples_leaf': 7}. Best is trial 1 with value: 0.825.\n"
     ]
    },
    {
     "name": "stdout",
     "output_type": "stream",
     "text": [
      "Model Accuracy: 0.804167\n",
      "Model F1-score: 0.804003\n",
      "Model precision-score: 0.807047\n",
      "Model recall-score: 0.804167\n",
      "Model Parameters: {'random_state': 25, ' criterion': 10, 'max_depth': 2, 'n_estimators': 243, 'min_samples_leaf': 7}\n"
     ]
    },
    {
     "name": "stderr",
     "output_type": "stream",
     "text": [
      "[I 2024-06-10 09:47:06,329] Trial 6 finished with value: 0.825 and parameters: {'random_state': 100, 'min_samples_split': 1, 'max_depth': 20, 'n_estimators': 781, 'min_samples_leaf': 9}. Best is trial 1 with value: 0.825.\n"
     ]
    },
    {
     "name": "stdout",
     "output_type": "stream",
     "text": [
      "Model Accuracy: 0.825\n",
      "Model F1-score: 0.824471\n",
      "Model precision-score: 0.826369\n",
      "Model recall-score: 0.825\n",
      "Model Parameters: {'random_state': 100, ' criterion': 1, 'max_depth': 20, 'n_estimators': 781, 'min_samples_leaf': 9}\n"
     ]
    },
    {
     "name": "stderr",
     "output_type": "stream",
     "text": [
      "[I 2024-06-10 09:47:06,591] Trial 7 finished with value: 0.825 and parameters: {'random_state': 100, 'min_samples_split': 7, 'max_depth': 32, 'n_estimators': 896, 'min_samples_leaf': 2}. Best is trial 1 with value: 0.825.\n"
     ]
    },
    {
     "name": "stdout",
     "output_type": "stream",
     "text": [
      "Model Accuracy: 0.825\n",
      "Model F1-score: 0.824471\n",
      "Model precision-score: 0.826369\n",
      "Model recall-score: 0.825\n",
      "Model Parameters: {'random_state': 100, ' criterion': 7, 'max_depth': 32, 'n_estimators': 896, 'min_samples_leaf': 2}\n"
     ]
    },
    {
     "name": "stderr",
     "output_type": "stream",
     "text": [
      "[I 2024-06-10 09:47:06,844] Trial 8 finished with value: 0.8208333333333333 and parameters: {'random_state': 0, 'min_samples_split': 2, 'max_depth': 5, 'n_estimators': 152, 'min_samples_leaf': 3}. Best is trial 1 with value: 0.825.\n"
     ]
    },
    {
     "name": "stdout",
     "output_type": "stream",
     "text": [
      "Model Accuracy: 0.820833\n",
      "Model F1-score: 0.819597\n",
      "Model precision-score: 0.824121\n",
      "Model recall-score: 0.820833\n",
      "Model Parameters: {'random_state': 0, ' criterion': 2, 'max_depth': 5, 'n_estimators': 152, 'min_samples_leaf': 3}\n"
     ]
    },
    {
     "name": "stderr",
     "output_type": "stream",
     "text": [
      "[I 2024-06-10 09:47:07,101] Trial 9 finished with value: 0.8041666666666667 and parameters: {'random_state': 25, 'min_samples_split': 9, 'max_depth': 19, 'n_estimators': 367, 'min_samples_leaf': 6}. Best is trial 1 with value: 0.825.\n"
     ]
    },
    {
     "name": "stdout",
     "output_type": "stream",
     "text": [
      "Model Accuracy: 0.804167\n",
      "Model F1-score: 0.804003\n",
      "Model precision-score: 0.807047\n",
      "Model recall-score: 0.804167\n",
      "Model Parameters: {'random_state': 25, ' criterion': 9, 'max_depth': 19, 'n_estimators': 367, 'min_samples_leaf': 6}\n"
     ]
    },
    {
     "name": "stderr",
     "output_type": "stream",
     "text": [
      "[I 2024-06-10 09:47:07,371] Trial 10 finished with value: 0.825 and parameters: {'random_state': 100, 'min_samples_split': 5, 'max_depth': 2, 'n_estimators': 639, 'min_samples_leaf': 10}. Best is trial 1 with value: 0.825.\n"
     ]
    },
    {
     "name": "stdout",
     "output_type": "stream",
     "text": [
      "Model Accuracy: 0.825\n",
      "Model F1-score: 0.824471\n",
      "Model precision-score: 0.826369\n",
      "Model recall-score: 0.825\n",
      "Model Parameters: {'random_state': 100, ' criterion': 5, 'max_depth': 2, 'n_estimators': 639, 'min_samples_leaf': 10}\n"
     ]
    },
    {
     "name": "stderr",
     "output_type": "stream",
     "text": [
      "[I 2024-06-10 09:47:07,640] Trial 11 finished with value: 0.825 and parameters: {'random_state': 100, 'min_samples_split': 1, 'max_depth': 9, 'n_estimators': 739, 'min_samples_leaf': 8}. Best is trial 1 with value: 0.825.\n"
     ]
    },
    {
     "name": "stdout",
     "output_type": "stream",
     "text": [
      "Model Accuracy: 0.825\n",
      "Model F1-score: 0.824471\n",
      "Model precision-score: 0.826369\n",
      "Model recall-score: 0.825\n",
      "Model Parameters: {'random_state': 100, ' criterion': 1, 'max_depth': 9, 'n_estimators': 739, 'min_samples_leaf': 8}\n"
     ]
    },
    {
     "name": "stderr",
     "output_type": "stream",
     "text": [
      "[I 2024-06-10 09:47:07,908] Trial 12 finished with value: 0.825 and parameters: {'random_state': 100, 'min_samples_split': 3, 'max_depth': 8, 'n_estimators': 746, 'min_samples_leaf': 10}. Best is trial 1 with value: 0.825.\n"
     ]
    },
    {
     "name": "stdout",
     "output_type": "stream",
     "text": [
      "Model Accuracy: 0.825\n",
      "Model F1-score: 0.824471\n",
      "Model precision-score: 0.826369\n",
      "Model recall-score: 0.825\n",
      "Model Parameters: {'random_state': 100, ' criterion': 3, 'max_depth': 8, 'n_estimators': 746, 'min_samples_leaf': 10}\n"
     ]
    },
    {
     "name": "stderr",
     "output_type": "stream",
     "text": [
      "[I 2024-06-10 09:47:08,178] Trial 13 finished with value: 0.825 and parameters: {'random_state': 100, 'min_samples_split': 7, 'max_depth': 4, 'n_estimators': 779, 'min_samples_leaf': 8}. Best is trial 1 with value: 0.825.\n"
     ]
    },
    {
     "name": "stdout",
     "output_type": "stream",
     "text": [
      "Model Accuracy: 0.825\n",
      "Model F1-score: 0.824471\n",
      "Model precision-score: 0.826369\n",
      "Model recall-score: 0.825\n",
      "Model Parameters: {'random_state': 100, ' criterion': 7, 'max_depth': 4, 'n_estimators': 779, 'min_samples_leaf': 8}\n"
     ]
    },
    {
     "name": "stderr",
     "output_type": "stream",
     "text": [
      "[I 2024-06-10 09:47:08,453] Trial 14 finished with value: 0.8291666666666667 and parameters: {'random_state': None, 'min_samples_split': 5, 'max_depth': 3, 'n_estimators': 515, 'min_samples_leaf': 6}. Best is trial 14 with value: 0.8291666666666667.\n"
     ]
    },
    {
     "name": "stdout",
     "output_type": "stream",
     "text": [
      "Model Accuracy: 0.829167\n",
      "Model F1-score: 0.830095\n",
      "Model precision-score: 0.836329\n",
      "Model recall-score: 0.829167\n",
      "Model Parameters: {'random_state': None, ' criterion': 5, 'max_depth': 3, 'n_estimators': 515, 'min_samples_leaf': 6}\n"
     ]
    },
    {
     "name": "stderr",
     "output_type": "stream",
     "text": [
      "[I 2024-06-10 09:47:08,723] Trial 15 finished with value: 0.8 and parameters: {'random_state': None, 'min_samples_split': 6, 'max_depth': 3, 'n_estimators': 481, 'min_samples_leaf': 6}. Best is trial 14 with value: 0.8291666666666667.\n"
     ]
    },
    {
     "name": "stdout",
     "output_type": "stream",
     "text": [
      "Model Accuracy: 0.8\n",
      "Model F1-score: 0.799908\n",
      "Model precision-score: 0.802151\n",
      "Model recall-score: 0.8\n",
      "Model Parameters: {'random_state': None, ' criterion': 6, 'max_depth': 3, 'n_estimators': 481, 'min_samples_leaf': 6}\n"
     ]
    },
    {
     "name": "stderr",
     "output_type": "stream",
     "text": [
      "[I 2024-06-10 09:47:08,996] Trial 16 finished with value: 0.8125 and parameters: {'random_state': None, 'min_samples_split': 5, 'max_depth': 3, 'n_estimators': 472, 'min_samples_leaf': 1}. Best is trial 14 with value: 0.8291666666666667.\n"
     ]
    },
    {
     "name": "stdout",
     "output_type": "stream",
     "text": [
      "Model Accuracy: 0.8125\n",
      "Model F1-score: 0.811708\n",
      "Model precision-score: 0.814498\n",
      "Model recall-score: 0.8125\n",
      "Model Parameters: {'random_state': None, ' criterion': 5, 'max_depth': 3, 'n_estimators': 472, 'min_samples_leaf': 1}\n"
     ]
    },
    {
     "name": "stderr",
     "output_type": "stream",
     "text": [
      "[I 2024-06-10 09:47:09,267] Trial 17 finished with value: 0.8208333333333333 and parameters: {'random_state': None, 'min_samples_split': 8, 'max_depth': 6, 'n_estimators': 630, 'min_samples_leaf': 7}. Best is trial 14 with value: 0.8291666666666667.\n"
     ]
    },
    {
     "name": "stdout",
     "output_type": "stream",
     "text": [
      "Model Accuracy: 0.820833\n",
      "Model F1-score: 0.82155\n",
      "Model precision-score: 0.83302\n",
      "Model recall-score: 0.820833\n",
      "Model Parameters: {'random_state': None, ' criterion': 8, 'max_depth': 6, 'n_estimators': 630, 'min_samples_leaf': 7}\n"
     ]
    },
    {
     "name": "stderr",
     "output_type": "stream",
     "text": [
      "[I 2024-06-10 09:47:09,536] Trial 18 finished with value: 0.8291666666666667 and parameters: {'random_state': None, 'min_samples_split': 3, 'max_depth': 3, 'n_estimators': 372, 'min_samples_leaf': 7}. Best is trial 14 with value: 0.8291666666666667.\n"
     ]
    },
    {
     "name": "stdout",
     "output_type": "stream",
     "text": [
      "Model Accuracy: 0.829167\n",
      "Model F1-score: 0.828485\n",
      "Model precision-score: 0.833444\n",
      "Model recall-score: 0.829167\n",
      "Model Parameters: {'random_state': None, ' criterion': 3, 'max_depth': 3, 'n_estimators': 372, 'min_samples_leaf': 7}\n"
     ]
    },
    {
     "name": "stderr",
     "output_type": "stream",
     "text": [
      "[I 2024-06-10 09:47:09,799] Trial 19 finished with value: 0.8083333333333333 and parameters: {'random_state': None, 'min_samples_split': 3, 'max_depth': 3, 'n_estimators': 360, 'min_samples_leaf': 5}. Best is trial 14 with value: 0.8291666666666667.\n"
     ]
    },
    {
     "name": "stdout",
     "output_type": "stream",
     "text": [
      "Model Accuracy: 0.808333\n",
      "Model F1-score: 0.8079\n",
      "Model precision-score: 0.808511\n",
      "Model recall-score: 0.808333\n",
      "Model Parameters: {'random_state': None, ' criterion': 3, 'max_depth': 3, 'n_estimators': 360, 'min_samples_leaf': 5}\n"
     ]
    },
    {
     "name": "stderr",
     "output_type": "stream",
     "text": [
      "[I 2024-06-10 09:47:10,065] Trial 20 finished with value: 0.825 and parameters: {'random_state': None, 'min_samples_split': 4, 'max_depth': 2, 'n_estimators': 243, 'min_samples_leaf': 5}. Best is trial 14 with value: 0.8291666666666667.\n"
     ]
    },
    {
     "name": "stdout",
     "output_type": "stream",
     "text": [
      "Model Accuracy: 0.825\n",
      "Model F1-score: 0.824553\n",
      "Model precision-score: 0.824757\n",
      "Model recall-score: 0.825\n",
      "Model Parameters: {'random_state': None, ' criterion': 4, 'max_depth': 2, 'n_estimators': 243, 'min_samples_leaf': 5}\n"
     ]
    },
    {
     "name": "stderr",
     "output_type": "stream",
     "text": [
      "[I 2024-06-10 09:47:10,340] Trial 21 finished with value: 0.8208333333333333 and parameters: {'random_state': None, 'min_samples_split': 4, 'max_depth': 4, 'n_estimators': 530, 'min_samples_leaf': 7}. Best is trial 14 with value: 0.8291666666666667.\n"
     ]
    },
    {
     "name": "stdout",
     "output_type": "stream",
     "text": [
      "Model Accuracy: 0.820833\n",
      "Model F1-score: 0.819899\n",
      "Model precision-score: 0.823378\n",
      "Model recall-score: 0.820833\n",
      "Model Parameters: {'random_state': None, ' criterion': 4, 'max_depth': 4, 'n_estimators': 530, 'min_samples_leaf': 7}\n"
     ]
    },
    {
     "name": "stderr",
     "output_type": "stream",
     "text": [
      "[I 2024-06-10 09:47:10,611] Trial 22 finished with value: 0.7791666666666667 and parameters: {'random_state': None, 'min_samples_split': 6, 'max_depth': 3, 'n_estimators': 415, 'min_samples_leaf': 8}. Best is trial 14 with value: 0.8291666666666667.\n"
     ]
    },
    {
     "name": "stdout",
     "output_type": "stream",
     "text": [
      "Model Accuracy: 0.779167\n",
      "Model F1-score: 0.782056\n",
      "Model precision-score: 0.794321\n",
      "Model recall-score: 0.779167\n",
      "Model Parameters: {'random_state': None, ' criterion': 6, 'max_depth': 3, 'n_estimators': 415, 'min_samples_leaf': 8}\n"
     ]
    },
    {
     "name": "stderr",
     "output_type": "stream",
     "text": [
      "[I 2024-06-10 09:47:10,877] Trial 23 finished with value: 0.7791666666666667 and parameters: {'random_state': None, 'min_samples_split': 3, 'max_depth': 6, 'n_estimators': 634, 'min_samples_leaf': 9}. Best is trial 14 with value: 0.8291666666666667.\n"
     ]
    },
    {
     "name": "stdout",
     "output_type": "stream",
     "text": [
      "Model Accuracy: 0.779167\n",
      "Model F1-score: 0.780542\n",
      "Model precision-score: 0.786718\n",
      "Model recall-score: 0.779167\n",
      "Model Parameters: {'random_state': None, ' criterion': 3, 'max_depth': 6, 'n_estimators': 634, 'min_samples_leaf': 9}\n"
     ]
    },
    {
     "name": "stderr",
     "output_type": "stream",
     "text": [
      "[I 2024-06-10 09:47:11,144] Trial 24 finished with value: 0.8208333333333333 and parameters: {'random_state': None, 'min_samples_split': 2, 'max_depth': 5, 'n_estimators': 269, 'min_samples_leaf': 6}. Best is trial 14 with value: 0.8291666666666667.\n"
     ]
    },
    {
     "name": "stdout",
     "output_type": "stream",
     "text": [
      "Model Accuracy: 0.820833\n",
      "Model F1-score: 0.821532\n",
      "Model precision-score: 0.823414\n",
      "Model recall-score: 0.820833\n",
      "Model Parameters: {'random_state': None, ' criterion': 2, 'max_depth': 5, 'n_estimators': 269, 'min_samples_leaf': 6}\n"
     ]
    },
    {
     "name": "stderr",
     "output_type": "stream",
     "text": [
      "[I 2024-06-10 09:47:11,419] Trial 25 finished with value: 0.825 and parameters: {'random_state': 100, 'min_samples_split': 5, 'max_depth': 3, 'n_estimators': 563, 'min_samples_leaf': 7}. Best is trial 14 with value: 0.8291666666666667.\n"
     ]
    },
    {
     "name": "stdout",
     "output_type": "stream",
     "text": [
      "Model Accuracy: 0.825\n",
      "Model F1-score: 0.824471\n",
      "Model precision-score: 0.826369\n",
      "Model recall-score: 0.825\n",
      "Model Parameters: {'random_state': 100, ' criterion': 5, 'max_depth': 3, 'n_estimators': 563, 'min_samples_leaf': 7}\n"
     ]
    },
    {
     "name": "stderr",
     "output_type": "stream",
     "text": [
      "[I 2024-06-10 09:47:11,687] Trial 26 finished with value: 0.8041666666666667 and parameters: {'random_state': 25, 'min_samples_split': 8, 'max_depth': 2, 'n_estimators': 436, 'min_samples_leaf': 8}. Best is trial 14 with value: 0.8291666666666667.\n"
     ]
    },
    {
     "name": "stdout",
     "output_type": "stream",
     "text": [
      "Model Accuracy: 0.804167\n",
      "Model F1-score: 0.804003\n",
      "Model precision-score: 0.807047\n",
      "Model recall-score: 0.804167\n",
      "Model Parameters: {'random_state': 25, ' criterion': 8, 'max_depth': 2, 'n_estimators': 436, 'min_samples_leaf': 8}\n"
     ]
    },
    {
     "name": "stderr",
     "output_type": "stream",
     "text": [
      "[I 2024-06-10 09:47:11,955] Trial 27 finished with value: 0.8208333333333333 and parameters: {'random_state': 0, 'min_samples_split': 6, 'max_depth': 11, 'n_estimators': 672, 'min_samples_leaf': 9}. Best is trial 14 with value: 0.8291666666666667.\n"
     ]
    },
    {
     "name": "stdout",
     "output_type": "stream",
     "text": [
      "Model Accuracy: 0.820833\n",
      "Model F1-score: 0.819597\n",
      "Model precision-score: 0.824121\n",
      "Model recall-score: 0.820833\n",
      "Model Parameters: {'random_state': 0, ' criterion': 6, 'max_depth': 11, 'n_estimators': 672, 'min_samples_leaf': 9}\n"
     ]
    },
    {
     "name": "stderr",
     "output_type": "stream",
     "text": [
      "[I 2024-06-10 09:47:12,222] Trial 28 finished with value: 0.8208333333333333 and parameters: {'random_state': None, 'min_samples_split': 2, 'max_depth': 4, 'n_estimators': 295, 'min_samples_leaf': 5}. Best is trial 14 with value: 0.8291666666666667.\n"
     ]
    },
    {
     "name": "stdout",
     "output_type": "stream",
     "text": [
      "Model Accuracy: 0.820833\n",
      "Model F1-score: 0.820424\n",
      "Model precision-score: 0.822063\n",
      "Model recall-score: 0.820833\n",
      "Model Parameters: {'random_state': None, ' criterion': 2, 'max_depth': 4, 'n_estimators': 295, 'min_samples_leaf': 5}\n"
     ]
    },
    {
     "name": "stderr",
     "output_type": "stream",
     "text": [
      "[I 2024-06-10 09:47:12,497] Trial 29 finished with value: 0.8208333333333333 and parameters: {'random_state': 0, 'min_samples_split': 4, 'max_depth': 6, 'n_estimators': 118, 'min_samples_leaf': 10}. Best is trial 14 with value: 0.8291666666666667.\n"
     ]
    },
    {
     "name": "stdout",
     "output_type": "stream",
     "text": [
      "Model Accuracy: 0.820833\n",
      "Model F1-score: 0.819597\n",
      "Model precision-score: 0.824121\n",
      "Model recall-score: 0.820833\n",
      "Model Parameters: {'random_state': 0, ' criterion': 4, 'max_depth': 6, 'n_estimators': 118, 'min_samples_leaf': 10}\n"
     ]
    },
    {
     "name": "stderr",
     "output_type": "stream",
     "text": [
      "[I 2024-06-10 09:47:12,771] Trial 30 finished with value: 0.825 and parameters: {'random_state': 100, 'min_samples_split': 9, 'max_depth': 5, 'n_estimators': 528, 'min_samples_leaf': 6}. Best is trial 14 with value: 0.8291666666666667.\n"
     ]
    },
    {
     "name": "stdout",
     "output_type": "stream",
     "text": [
      "Model Accuracy: 0.825\n",
      "Model F1-score: 0.824471\n",
      "Model precision-score: 0.826369\n",
      "Model recall-score: 0.825\n",
      "Model Parameters: {'random_state': 100, ' criterion': 9, 'max_depth': 5, 'n_estimators': 528, 'min_samples_leaf': 6}\n"
     ]
    },
    {
     "name": "stderr",
     "output_type": "stream",
     "text": [
      "[I 2024-06-10 09:47:13,050] Trial 31 finished with value: 0.825 and parameters: {'random_state': 100, 'min_samples_split': 1, 'max_depth': 14, 'n_estimators': 852, 'min_samples_leaf': 9}. Best is trial 14 with value: 0.8291666666666667.\n"
     ]
    },
    {
     "name": "stdout",
     "output_type": "stream",
     "text": [
      "Model Accuracy: 0.825\n",
      "Model F1-score: 0.824471\n",
      "Model precision-score: 0.826369\n",
      "Model recall-score: 0.825\n",
      "Model Parameters: {'random_state': 100, ' criterion': 1, 'max_depth': 14, 'n_estimators': 852, 'min_samples_leaf': 9}\n"
     ]
    },
    {
     "name": "stderr",
     "output_type": "stream",
     "text": [
      "[I 2024-06-10 09:47:13,375] Trial 32 finished with value: 0.825 and parameters: {'random_state': 100, 'min_samples_split': 1, 'max_depth': 10, 'n_estimators': 827, 'min_samples_leaf': 9}. Best is trial 14 with value: 0.8291666666666667.\n"
     ]
    },
    {
     "name": "stdout",
     "output_type": "stream",
     "text": [
      "Model Accuracy: 0.825\n",
      "Model F1-score: 0.824471\n",
      "Model precision-score: 0.826369\n",
      "Model recall-score: 0.825\n",
      "Model Parameters: {'random_state': 100, ' criterion': 1, 'max_depth': 10, 'n_estimators': 827, 'min_samples_leaf': 9}\n"
     ]
    },
    {
     "name": "stderr",
     "output_type": "stream",
     "text": [
      "[I 2024-06-10 09:47:13,647] Trial 33 finished with value: 0.825 and parameters: {'random_state': 100, 'min_samples_split': 2, 'max_depth': 19, 'n_estimators': 912, 'min_samples_leaf': 8}. Best is trial 14 with value: 0.8291666666666667.\n"
     ]
    },
    {
     "name": "stdout",
     "output_type": "stream",
     "text": [
      "Model Accuracy: 0.825\n",
      "Model F1-score: 0.824471\n",
      "Model precision-score: 0.826369\n",
      "Model recall-score: 0.825\n",
      "Model Parameters: {'random_state': 100, ' criterion': 2, 'max_depth': 19, 'n_estimators': 912, 'min_samples_leaf': 8}\n"
     ]
    },
    {
     "name": "stderr",
     "output_type": "stream",
     "text": [
      "[I 2024-06-10 09:47:13,921] Trial 34 finished with value: 0.825 and parameters: {'random_state': 100, 'min_samples_split': 3, 'max_depth': 12, 'n_estimators': 702, 'min_samples_leaf': 9}. Best is trial 14 with value: 0.8291666666666667.\n"
     ]
    },
    {
     "name": "stdout",
     "output_type": "stream",
     "text": [
      "Model Accuracy: 0.825\n",
      "Model F1-score: 0.824471\n",
      "Model precision-score: 0.826369\n",
      "Model recall-score: 0.825\n",
      "Model Parameters: {'random_state': 100, ' criterion': 3, 'max_depth': 12, 'n_estimators': 702, 'min_samples_leaf': 9}\n"
     ]
    },
    {
     "name": "stderr",
     "output_type": "stream",
     "text": [
      "[I 2024-06-10 09:47:14,197] Trial 35 finished with value: 0.8291666666666667 and parameters: {'random_state': None, 'min_samples_split': 8, 'max_depth': 7, 'n_estimators': 589, 'min_samples_leaf': 7}. Best is trial 14 with value: 0.8291666666666667.\n"
     ]
    },
    {
     "name": "stdout",
     "output_type": "stream",
     "text": [
      "Model Accuracy: 0.829167\n",
      "Model F1-score: 0.830046\n",
      "Model precision-score: 0.831224\n",
      "Model recall-score: 0.829167\n",
      "Model Parameters: {'random_state': None, ' criterion': 8, 'max_depth': 7, 'n_estimators': 589, 'min_samples_leaf': 7}\n"
     ]
    },
    {
     "name": "stderr",
     "output_type": "stream",
     "text": [
      "[I 2024-06-10 09:47:14,473] Trial 36 finished with value: 0.8458333333333333 and parameters: {'random_state': None, 'min_samples_split': 10, 'max_depth': 7, 'n_estimators': 597, 'min_samples_leaf': 7}. Best is trial 36 with value: 0.8458333333333333.\n"
     ]
    },
    {
     "name": "stdout",
     "output_type": "stream",
     "text": [
      "Model Accuracy: 0.845833\n",
      "Model F1-score: 0.846251\n",
      "Model precision-score: 0.848858\n",
      "Model recall-score: 0.845833\n",
      "Model Parameters: {'random_state': None, ' criterion': 10, 'max_depth': 7, 'n_estimators': 597, 'min_samples_leaf': 7}\n"
     ]
    },
    {
     "name": "stderr",
     "output_type": "stream",
     "text": [
      "[I 2024-06-10 09:47:14,744] Trial 37 finished with value: 0.8083333333333333 and parameters: {'random_state': None, 'min_samples_split': 10, 'max_depth': 7, 'n_estimators': 596, 'min_samples_leaf': 7}. Best is trial 36 with value: 0.8458333333333333.\n"
     ]
    },
    {
     "name": "stdout",
     "output_type": "stream",
     "text": [
      "Model Accuracy: 0.808333\n",
      "Model F1-score: 0.808041\n",
      "Model precision-score: 0.808259\n",
      "Model recall-score: 0.808333\n",
      "Model Parameters: {'random_state': None, ' criterion': 10, 'max_depth': 7, 'n_estimators': 596, 'min_samples_leaf': 7}\n"
     ]
    },
    {
     "name": "stderr",
     "output_type": "stream",
     "text": [
      "[I 2024-06-10 09:47:15,012] Trial 38 finished with value: 0.825 and parameters: {'random_state': None, 'min_samples_split': 8, 'max_depth': 7, 'n_estimators': 484, 'min_samples_leaf': 4}. Best is trial 36 with value: 0.8458333333333333.\n"
     ]
    },
    {
     "name": "stdout",
     "output_type": "stream",
     "text": [
      "Model Accuracy: 0.825\n",
      "Model F1-score: 0.823655\n",
      "Model precision-score: 0.825088\n",
      "Model recall-score: 0.825\n",
      "Model Parameters: {'random_state': None, ' criterion': 8, 'max_depth': 7, 'n_estimators': 484, 'min_samples_leaf': 4}\n"
     ]
    },
    {
     "name": "stderr",
     "output_type": "stream",
     "text": [
      "[I 2024-06-10 09:47:15,282] Trial 39 finished with value: 0.8 and parameters: {'random_state': None, 'min_samples_split': 10, 'max_depth': 8, 'n_estimators': 572, 'min_samples_leaf': 7}. Best is trial 36 with value: 0.8458333333333333.\n"
     ]
    },
    {
     "name": "stdout",
     "output_type": "stream",
     "text": [
      "Model Accuracy: 0.8\n",
      "Model F1-score: 0.798715\n",
      "Model precision-score: 0.800616\n",
      "Model recall-score: 0.8\n",
      "Model Parameters: {'random_state': None, ' criterion': 10, 'max_depth': 8, 'n_estimators': 572, 'min_samples_leaf': 7}\n"
     ]
    },
    {
     "name": "stderr",
     "output_type": "stream",
     "text": [
      "[I 2024-06-10 09:47:15,558] Trial 40 finished with value: 0.7875 and parameters: {'random_state': None, 'min_samples_split': 8, 'max_depth': 5, 'n_estimators': 412, 'min_samples_leaf': 6}. Best is trial 36 with value: 0.8458333333333333.\n"
     ]
    },
    {
     "name": "stdout",
     "output_type": "stream",
     "text": [
      "Model Accuracy: 0.7875\n",
      "Model F1-score: 0.787736\n",
      "Model precision-score: 0.789794\n",
      "Model recall-score: 0.7875\n",
      "Model Parameters: {'random_state': None, ' criterion': 8, 'max_depth': 5, 'n_estimators': 412, 'min_samples_leaf': 6}\n"
     ]
    },
    {
     "name": "stderr",
     "output_type": "stream",
     "text": [
      "[I 2024-06-10 09:47:15,833] Trial 41 finished with value: 0.8125 and parameters: {'random_state': None, 'min_samples_split': 9, 'max_depth': 4, 'n_estimators': 682, 'min_samples_leaf': 5}. Best is trial 36 with value: 0.8458333333333333.\n"
     ]
    },
    {
     "name": "stdout",
     "output_type": "stream",
     "text": [
      "Model Accuracy: 0.8125\n",
      "Model F1-score: 0.813109\n",
      "Model precision-score: 0.81911\n",
      "Model recall-score: 0.8125\n",
      "Model Parameters: {'random_state': None, ' criterion': 9, 'max_depth': 4, 'n_estimators': 682, 'min_samples_leaf': 5}\n"
     ]
    },
    {
     "name": "stderr",
     "output_type": "stream",
     "text": [
      "[I 2024-06-10 09:47:16,102] Trial 42 finished with value: 0.8041666666666667 and parameters: {'random_state': 25, 'min_samples_split': 9, 'max_depth': 8, 'n_estimators': 520, 'min_samples_leaf': 8}. Best is trial 36 with value: 0.8458333333333333.\n"
     ]
    },
    {
     "name": "stdout",
     "output_type": "stream",
     "text": [
      "Model Accuracy: 0.804167\n",
      "Model F1-score: 0.804003\n",
      "Model precision-score: 0.807047\n",
      "Model recall-score: 0.804167\n",
      "Model Parameters: {'random_state': 25, ' criterion': 9, 'max_depth': 8, 'n_estimators': 520, 'min_samples_leaf': 8}\n"
     ]
    },
    {
     "name": "stderr",
     "output_type": "stream",
     "text": [
      "[I 2024-06-10 09:47:16,372] Trial 43 finished with value: 0.7666666666666667 and parameters: {'random_state': None, 'min_samples_split': 10, 'max_depth': 6, 'n_estimators': 603, 'min_samples_leaf': 7}. Best is trial 36 with value: 0.8458333333333333.\n"
     ]
    },
    {
     "name": "stdout",
     "output_type": "stream",
     "text": [
      "Model Accuracy: 0.766667\n",
      "Model F1-score: 0.765818\n",
      "Model precision-score: 0.770773\n",
      "Model recall-score: 0.766667\n",
      "Model Parameters: {'random_state': None, ' criterion': 10, 'max_depth': 6, 'n_estimators': 603, 'min_samples_leaf': 7}\n"
     ]
    },
    {
     "name": "stderr",
     "output_type": "stream",
     "text": [
      "[I 2024-06-10 09:47:16,646] Trial 44 finished with value: 0.8208333333333333 and parameters: {'random_state': 0, 'min_samples_split': 7, 'max_depth': 4, 'n_estimators': 334, 'min_samples_leaf': 4}. Best is trial 36 with value: 0.8458333333333333.\n"
     ]
    },
    {
     "name": "stdout",
     "output_type": "stream",
     "text": [
      "Model Accuracy: 0.820833\n",
      "Model F1-score: 0.819597\n",
      "Model precision-score: 0.824121\n",
      "Model recall-score: 0.820833\n",
      "Model Parameters: {'random_state': 0, ' criterion': 7, 'max_depth': 4, 'n_estimators': 334, 'min_samples_leaf': 4}\n"
     ]
    },
    {
     "name": "stderr",
     "output_type": "stream",
     "text": [
      "[I 2024-06-10 09:47:16,917] Trial 45 finished with value: 0.7958333333333333 and parameters: {'random_state': None, 'min_samples_split': 10, 'max_depth': 10, 'n_estimators': 717, 'min_samples_leaf': 6}. Best is trial 36 with value: 0.8458333333333333.\n"
     ]
    },
    {
     "name": "stdout",
     "output_type": "stream",
     "text": [
      "Model Accuracy: 0.795833\n",
      "Model F1-score: 0.798918\n",
      "Model precision-score: 0.810307\n",
      "Model recall-score: 0.795833\n",
      "Model Parameters: {'random_state': None, ' criterion': 10, 'max_depth': 10, 'n_estimators': 717, 'min_samples_leaf': 6}\n"
     ]
    },
    {
     "name": "stderr",
     "output_type": "stream",
     "text": [
      "[I 2024-06-10 09:47:17,190] Trial 46 finished with value: 0.8041666666666667 and parameters: {'random_state': 25, 'min_samples_split': 9, 'max_depth': 5, 'n_estimators': 207, 'min_samples_leaf': 7}. Best is trial 36 with value: 0.8458333333333333.\n"
     ]
    },
    {
     "name": "stdout",
     "output_type": "stream",
     "text": [
      "Model Accuracy: 0.804167\n",
      "Model F1-score: 0.804003\n",
      "Model precision-score: 0.807047\n",
      "Model recall-score: 0.804167\n",
      "Model Parameters: {'random_state': 25, ' criterion': 9, 'max_depth': 5, 'n_estimators': 207, 'min_samples_leaf': 7}\n"
     ]
    },
    {
     "name": "stderr",
     "output_type": "stream",
     "text": [
      "[I 2024-06-10 09:47:17,465] Trial 47 finished with value: 0.8166666666666667 and parameters: {'random_state': None, 'min_samples_split': 9, 'max_depth': 9, 'n_estimators': 453, 'min_samples_leaf': 8}. Best is trial 36 with value: 0.8458333333333333.\n"
     ]
    },
    {
     "name": "stdout",
     "output_type": "stream",
     "text": [
      "Model Accuracy: 0.816667\n",
      "Model F1-score: 0.815613\n",
      "Model precision-score: 0.817064\n",
      "Model recall-score: 0.816667\n",
      "Model Parameters: {'random_state': None, ' criterion': 9, 'max_depth': 9, 'n_estimators': 453, 'min_samples_leaf': 8}\n"
     ]
    },
    {
     "name": "stderr",
     "output_type": "stream",
     "text": [
      "[I 2024-06-10 09:47:17,740] Trial 48 finished with value: 0.8083333333333333 and parameters: {'random_state': None, 'min_samples_split': 7, 'max_depth': 25, 'n_estimators': 657, 'min_samples_leaf': 6}. Best is trial 36 with value: 0.8458333333333333.\n"
     ]
    },
    {
     "name": "stdout",
     "output_type": "stream",
     "text": [
      "Model Accuracy: 0.808333\n",
      "Model F1-score: 0.809103\n",
      "Model precision-score: 0.812923\n",
      "Model recall-score: 0.808333\n",
      "Model Parameters: {'random_state': None, ' criterion': 7, 'max_depth': 25, 'n_estimators': 657, 'min_samples_leaf': 6}\n"
     ]
    },
    {
     "name": "stderr",
     "output_type": "stream",
     "text": [
      "[I 2024-06-10 09:47:18,010] Trial 49 finished with value: 0.7791666666666667 and parameters: {'random_state': None, 'min_samples_split': 5, 'max_depth': 14, 'n_estimators': 597, 'min_samples_leaf': 10}. Best is trial 36 with value: 0.8458333333333333.\n"
     ]
    },
    {
     "name": "stdout",
     "output_type": "stream",
     "text": [
      "Model Accuracy: 0.779167\n",
      "Model F1-score: 0.7794\n",
      "Model precision-score: 0.780985\n",
      "Model recall-score: 0.779167\n",
      "Model Parameters: {'random_state': None, ' criterion': 5, 'max_depth': 14, 'n_estimators': 597, 'min_samples_leaf': 10}\n",
      "Number of finished trials: 50\n",
      "Best trial:\n",
      "  Value: 0.8458333333333333\n",
      "  Params: \n",
      "    random_state: None\n",
      "    min_samples_split: 10\n",
      "    max_depth: 7\n",
      "    n_estimators: 597\n",
      "    min_samples_leaf: 7\n"
     ]
    }
   ],
   "source": [
    "from scipy.sparse.construct import random\n",
    "import optuna\n",
    "from sklearn.ensemble import RandomForestClassifier\n",
    "\n",
    "def objective(trial):\n",
    "    param = {\n",
    "        'random_state': trial.suggest_categorical('random_state', [0, 25, 100, None]),\n",
    "       \" criterion\" : trial.suggest_int('min_samples_split', 1,10),\n",
    "        \"max_depth\" : trial.suggest_int(\"max_depth\", 2, 32, log=True),\n",
    "        \"n_estimators\" : trial.suggest_int(\"n_estimators\", 100,1000),\n",
    "        \"min_samples_leaf\" : trial.suggest_int(\"min_samples_leaf\", 1,10)\n",
    "        # 'bootstrap': trial.suggest_categorical('bootstrap' , [True, False]),\n",
    "        # 'max_features': trial.suggest_categorical(\"max_features\" , ['auto', 'sqrt'])\n",
    "    }\n",
    "\n",
    "    suggested_random_state = param['random_state']  # also use the suggested random state value in train_test_split()\n",
    "    \n",
    "    \n",
    "    X_train, X_test, y_train, y_test = train_test_split(X_knn, y, test_size=0.2, shuffle=True, random_state=suggested_random_state)\n",
    "    clf = XGBClassifier()\n",
    "\n",
    "    clf.fit(X_train, y_train)\n",
    "    y_pred = clf.predict(X_test)\n",
    "    acc = accuracy_score(y_pred, y_test)\n",
    "    f1 = f1_score(y_pred, y_test, average='weighted') # Calculate F1-score #average='weighted'\n",
    "    precision = precision_score(y_pred, y_test, average='weighted') # Calculate Precision\n",
    "    recall = recall_score(y_pred, y_test, average='weighted')  # Calculate Recall\n",
    "    print(f\"Model Accuracy: {round(acc, 6)}\")\n",
    "    print(f\"Model F1-score: {round(f1, 6)}\")\n",
    "    print(f\"Model precision-score: {round(precision, 6)}\")\n",
    "    print(f\"Model recall-score: {round(recall, 6)}\")\n",
    "\n",
    "    print(f\"Model Parameters: {param}\")\n",
    "    \n",
    "    return acc  # return our objective value\n",
    "    return f1\n",
    "    return precision\n",
    "    return recall\n",
    "\n",
    "if __name__ == \"__main__\":\n",
    "    study = optuna.create_study(\n",
    "        direction=\"maximize\",\n",
    "        sampler=optuna.samplers.TPESampler()\n",
    "    )\n",
    "    study.optimize(objective, n_trials=50)\n",
    "\n",
    "    print(\"Number of finished trials: {}\".format(len(study.trials)))\n",
    "\n",
    "    print(\"Best trial:\")\n",
    "    trial = study.best_trial\n",
    "\n",
    "    print(\"  Value: {}\".format(trial.value))\n",
    "\n",
    "    print(\"  Params: \")\n",
    "    for key, value in trial.params.items():\n",
    "        print(\"    {}: {}\".format(key, value))"
   ]
  },
  {
   "cell_type": "markdown",
   "id": "6f129a73",
   "metadata": {},
   "source": [
    "## ROC and AUC for XGBoost"
   ]
  },
  {
   "cell_type": "code",
   "execution_count": 125,
   "id": "f71d2245",
   "metadata": {},
   "outputs": [
    {
     "name": "stdout",
     "output_type": "stream",
     "text": [
      "AUC of XGB: 0.9462\n",
      "10-fold CV mean of XGB: 0.9145\n",
      "10-fold CV std of XGB: 0.0314\n"
     ]
    }
   ],
   "source": [
    "knn_pipeline2= Pipeline(steps=[('imputer', KNNImputer(n_neighbors=3)),('RobustScaler', RobustScaler())])\n",
    "X_knn2 =knn_pipeline2.fit_transform(X_full)\n",
    "X_train_fullkn_xg, X_test_fullkn_xg, y_train_fullkn_xg, y_test_fullkn_xg = train_test_split(X_knn2, y_full, test_size=0.20, random_state=42)\n",
    "\n",
    "## Hyper-tuned XGB\n",
    "best_params = trial.params\n",
    "model_xgb_hyperkn = XGBClassifier(**best_params).fit(X_train_fullkn_xg, y_train_fullkn_xg)\n",
    "probs_xgb_hyper = model_xgb_hyperkn .predict_proba(X_test_fullkn_xg)#[:, 1]\n",
    "\n",
    "auc_xgb = roc_auc_score(y_test_fullkn_xg, probs_xgb_hyper, multi_class='ovr')\n",
    "print('AUC of XGB: {:.4f}'.format(auc_xgb))\n",
    "\n",
    "\n",
    "XGB_KNN = XGBClassifier(**best_params) #random_state= 100, min_samples_split= 6,\n",
    "\n",
    "scores_cv_xgb = cross_val_score(XGB_KNN, X_knn2, y_full, cv=10, scoring='roc_auc_ovr')\n",
    "    \n",
    "scores_cv_xgb_mean= scores_cv_xgb.mean()\n",
    "scores_cv_xgb_std= scores_cv_xgb.std()\n",
    "#print('10-fold CV of RFC', (scores_cv_rf))\n",
    "print('10-fold CV mean of XGB: {:.4f}'.format(scores_cv_xgb_mean))\n",
    "print('10-fold CV std of XGB: {:.4f}'.format(scores_cv_xgb_std))"
   ]
  },
  {
   "cell_type": "markdown",
   "id": "197d1bfa",
   "metadata": {},
   "source": [
    "### Confusion Matrix for XGBClassifier"
   ]
  },
  {
   "cell_type": "code",
   "execution_count": 92,
   "id": "5f8f893b",
   "metadata": {},
   "outputs": [
    {
     "data": {
      "image/png": "[encoded data removed]",
      "text/plain": [
       "<Figure size 720x432 with 2 Axes>"
      ]
     },
     "metadata": {},
     "output_type": "display_data"
    }
   ],
   "source": [
    "from sklearn.metrics import plot_confusion_matrix\n",
    "class_names = ['IM', 'BCC', 'FCC', 'FCC+BCC']\n",
    "cmplot= plot_confusion_matrix(model_xgb_hyperkn, X_test_fullkn_xg, y_test_fullkn_xg, display_labels= class_names, cmap='cividis')\n",
    "cmplot.ax_.set_title('XGBoost Classification', color='red')\n",
    "plt.xlabel('Predicted Label', color='black')\n",
    "plt.ylabel('True Label', color='black')\n",
    "plt.gcf().axes[0].tick_params(color='black')\n",
    "plt.gcf().axes[1].tick_params(color='black')\n",
    "plt.gcf().set_size_inches(10,6)\n",
    "plt.savefig('XGB_Confused_1.png', format='png', dpi=500, bbox_inches='tight', transparent=True)\n",
    "plt.show()"
   ]
  },
  {
   "cell_type": "code",
   "execution_count": null,
   "id": "ce9e7e3c",
   "metadata": {},
   "outputs": [],
   "source": []
  },
  {
   "cell_type": "markdown",
   "id": "75092ccd",
   "metadata": {},
   "source": [
    "## Hyper-parameter tuning for SVC"
   ]
  },
  {
   "cell_type": "code",
   "execution_count": 63,
   "id": "241f23d8",
   "metadata": {},
   "outputs": [
    {
     "name": "stderr",
     "output_type": "stream",
     "text": [
      "[I 2024-06-10 08:38:54,093] A new study created in memory with name: no-name-aa6925bc-02f4-44f0-8661-9ceb8ea43eaa\n",
      "[I 2024-06-10 08:38:54,133] Trial 0 finished with value: 0.7041666666666667 and parameters: {'C': 11.443776806070208, 'kernel': 'poly', 'degree': 2, 'gamma': 'scale', 'random_state': 25}. Best is trial 0 with value: 0.7041666666666667.\n",
      "[I 2024-06-10 08:38:54,173] Trial 1 finished with value: 0.625 and parameters: {'C': 135.83537145321472, 'kernel': 'poly', 'degree': 5, 'gamma': 'scale', 'random_state': 25}. Best is trial 0 with value: 0.7041666666666667.\n",
      "[I 2024-06-10 08:38:54,210] Trial 2 finished with value: 0.6666666666666666 and parameters: {'C': 3.1023160001326504, 'kernel': 'poly', 'degree': 3, 'gamma': 'scale', 'random_state': None}. Best is trial 0 with value: 0.7041666666666667.\n",
      "[I 2024-06-10 08:38:54,251] Trial 3 finished with value: 0.475 and parameters: {'C': 786.1430191539845, 'kernel': 'sigmoid', 'degree': 3, 'gamma': 'scale', 'random_state': None}. Best is trial 0 with value: 0.7041666666666667.\n",
      "[I 2024-06-10 08:38:54,325] Trial 4 finished with value: 0.6708333333333333 and parameters: {'C': 1.7130462150477703, 'kernel': 'linear', 'degree': 5, 'gamma': 'auto', 'random_state': None}. Best is trial 0 with value: 0.7041666666666667.\n"
     ]
    },
    {
     "name": "stdout",
     "output_type": "stream",
     "text": [
      "Model Accuracy: 0.704167\n",
      "Model F1-score: 0.701697\n",
      "Model precision-score: 0.707087\n",
      "Model recall-score: 0.704167\n",
      "Model Parameters: {'C': 11.443776806070208, 'kernel': 'poly', 'degree': 2, 'gamma': 'scale'}\n",
      "Model Accuracy: 0.625\n",
      "Model F1-score: 0.626623\n",
      "Model precision-score: 0.639907\n",
      "Model recall-score: 0.625\n",
      "Model Parameters: {'C': 135.83537145321472, 'kernel': 'poly', 'degree': 5, 'gamma': 'scale'}\n",
      "Model Accuracy: 0.666667\n",
      "Model F1-score: 0.661263\n",
      "Model precision-score: 0.733019\n",
      "Model recall-score: 0.666667\n",
      "Model Parameters: {'C': 3.1023160001326504, 'kernel': 'poly', 'degree': 3, 'gamma': 'scale'}\n",
      "Model Accuracy: 0.475\n",
      "Model F1-score: 0.474853\n",
      "Model precision-score: 0.490695\n",
      "Model recall-score: 0.475\n",
      "Model Parameters: {'C': 786.1430191539845, 'kernel': 'sigmoid', 'degree': 3, 'gamma': 'scale'}\n",
      "Model Accuracy: 0.670833\n",
      "Model F1-score: 0.667192\n",
      "Model precision-score: 0.680744\n",
      "Model recall-score: 0.670833\n",
      "Model Parameters: {'C': 1.7130462150477703, 'kernel': 'linear', 'degree': 5, 'gamma': 'auto'}\n"
     ]
    },
    {
     "name": "stderr",
     "output_type": "stream",
     "text": [
      "[I 2024-06-10 08:38:54,376] Trial 5 finished with value: 0.3333333333333333 and parameters: {'C': 0.00402837374876377, 'kernel': 'rbf', 'degree': 3, 'gamma': 'scale', 'random_state': 25}. Best is trial 0 with value: 0.7041666666666667.\n",
      "[I 2024-06-10 08:38:54,443] Trial 6 finished with value: 0.3 and parameters: {'C': 0.006872871159987763, 'kernel': 'sigmoid', 'degree': 3, 'gamma': 'scale', 'random_state': 100}. Best is trial 0 with value: 0.7041666666666667.\n",
      "[I 2024-06-10 08:38:54,506] Trial 7 finished with value: 0.3333333333333333 and parameters: {'C': 0.013448770058866983, 'kernel': 'sigmoid', 'degree': 2, 'gamma': 'auto', 'random_state': 25}. Best is trial 0 with value: 0.7041666666666667.\n",
      "[I 2024-06-10 08:38:54,555] Trial 8 finished with value: 0.7166666666666667 and parameters: {'C': 873.6394162240533, 'kernel': 'rbf', 'degree': 5, 'gamma': 'auto', 'random_state': None}. Best is trial 8 with value: 0.7166666666666667.\n"
     ]
    },
    {
     "name": "stdout",
     "output_type": "stream",
     "text": [
      "Model Accuracy: 0.333333\n",
      "Model F1-score: 0.166667\n",
      "Model precision-score: 0.111111\n",
      "Model recall-score: 0.333333\n",
      "Model Parameters: {'C': 0.00402837374876377, 'kernel': 'rbf', 'degree': 3, 'gamma': 'scale'}\n",
      "Model Accuracy: 0.3\n",
      "Model F1-score: 0.138462\n",
      "Model precision-score: 0.09\n",
      "Model recall-score: 0.3\n",
      "Model Parameters: {'C': 0.006872871159987763, 'kernel': 'sigmoid', 'degree': 3, 'gamma': 'scale'}\n",
      "Model Accuracy: 0.333333\n",
      "Model F1-score: 0.166667\n",
      "Model precision-score: 0.111111\n",
      "Model recall-score: 0.333333\n",
      "Model Parameters: {'C': 0.013448770058866983, 'kernel': 'sigmoid', 'degree': 2, 'gamma': 'auto'}\n",
      "Model Accuracy: 0.716667\n",
      "Model F1-score: 0.716344\n",
      "Model precision-score: 0.718418\n",
      "Model recall-score: 0.716667\n",
      "Model Parameters: {'C': 873.6394162240533, 'kernel': 'rbf', 'degree': 5, 'gamma': 'auto'}\n"
     ]
    },
    {
     "name": "stderr",
     "output_type": "stream",
     "text": [
      "[I 2024-06-10 08:38:54,609] Trial 9 finished with value: 0.5125 and parameters: {'C': 0.6891542363284545, 'kernel': 'sigmoid', 'degree': 4, 'gamma': 'scale', 'random_state': None}. Best is trial 8 with value: 0.7166666666666667.\n",
      "[I 2024-06-10 08:38:54,662] Trial 10 finished with value: 0.75 and parameters: {'C': 51.50164743258312, 'kernel': 'rbf', 'degree': 4, 'gamma': 'auto', 'random_state': 0}. Best is trial 10 with value: 0.75.\n",
      "[I 2024-06-10 08:38:54,719] Trial 11 finished with value: 0.7541666666666667 and parameters: {'C': 988.0431579860182, 'kernel': 'rbf', 'degree': 4, 'gamma': 'auto', 'random_state': 0}. Best is trial 11 with value: 0.7541666666666667.\n",
      "[I 2024-06-10 08:38:54,771] Trial 12 finished with value: 0.7666666666666667 and parameters: {'C': 40.828565217871315, 'kernel': 'rbf', 'degree': 4, 'gamma': 'auto', 'random_state': 0}. Best is trial 12 with value: 0.7666666666666667.\n"
     ]
    },
    {
     "name": "stdout",
     "output_type": "stream",
     "text": [
      "Model Accuracy: 0.5125\n",
      "Model F1-score: 0.514567\n",
      "Model precision-score: 0.52948\n",
      "Model recall-score: 0.5125\n",
      "Model Parameters: {'C': 0.6891542363284545, 'kernel': 'sigmoid', 'degree': 4, 'gamma': 'scale'}\n",
      "Model Accuracy: 0.75\n",
      "Model F1-score: 0.752769\n",
      "Model precision-score: 0.76286\n",
      "Model recall-score: 0.75\n",
      "Model Parameters: {'C': 51.50164743258312, 'kernel': 'rbf', 'degree': 4, 'gamma': 'auto'}\n",
      "Model Accuracy: 0.754167\n",
      "Model F1-score: 0.757594\n",
      "Model precision-score: 0.767009\n",
      "Model recall-score: 0.754167\n",
      "Model Parameters: {'C': 988.0431579860182, 'kernel': 'rbf', 'degree': 4, 'gamma': 'auto'}\n",
      "Model Accuracy: 0.766667\n",
      "Model F1-score: 0.768408\n",
      "Model precision-score: 0.776232\n",
      "Model recall-score: 0.766667\n",
      "Model Parameters: {'C': 40.828565217871315, 'kernel': 'rbf', 'degree': 4, 'gamma': 'auto'}\n"
     ]
    },
    {
     "name": "stderr",
     "output_type": "stream",
     "text": [
      "[I 2024-06-10 08:38:54,825] Trial 13 finished with value: 0.7458333333333333 and parameters: {'C': 74.27169315750919, 'kernel': 'rbf', 'degree': 4, 'gamma': 'auto', 'random_state': 0}. Best is trial 12 with value: 0.7666666666666667.\n",
      "[I 2024-06-10 08:38:54,879] Trial 14 finished with value: 0.5916666666666667 and parameters: {'C': 0.22660208841703905, 'kernel': 'rbf', 'degree': 4, 'gamma': 'auto', 'random_state': 0}. Best is trial 12 with value: 0.7666666666666667.\n"
     ]
    },
    {
     "name": "stdout",
     "output_type": "stream",
     "text": [
      "Model Accuracy: 0.745833\n",
      "Model F1-score: 0.749739\n",
      "Model precision-score: 0.762803\n",
      "Model recall-score: 0.745833\n",
      "Model Parameters: {'C': 74.27169315750919, 'kernel': 'rbf', 'degree': 4, 'gamma': 'auto'}\n",
      "Model Accuracy: 0.591667\n",
      "Model F1-score: 0.58262\n",
      "Model precision-score: 0.67549\n",
      "Model recall-score: 0.591667\n",
      "Model Parameters: {'C': 0.22660208841703905, 'kernel': 'rbf', 'degree': 4, 'gamma': 'auto'}\n"
     ]
    },
    {
     "name": "stderr",
     "output_type": "stream",
     "text": [
      "[I 2024-06-10 08:39:05,757] Trial 15 finished with value: 0.6708333333333333 and parameters: {'C': 258.7298230571369, 'kernel': 'linear', 'degree': 4, 'gamma': 'auto', 'random_state': 0}. Best is trial 12 with value: 0.7666666666666667.\n",
      "[I 2024-06-10 08:39:05,808] Trial 16 finished with value: 0.7666666666666667 and parameters: {'C': 12.095397949603722, 'kernel': 'rbf', 'degree': 5, 'gamma': 'auto', 'random_state': 0}. Best is trial 12 with value: 0.7666666666666667.\n",
      "[I 2024-06-10 08:39:05,858] Trial 17 finished with value: 0.7791666666666667 and parameters: {'C': 19.50535235570742, 'kernel': 'rbf', 'degree': 5, 'gamma': 'auto', 'random_state': 100}. Best is trial 17 with value: 0.7791666666666667.\n",
      "[I 2024-06-10 08:39:05,916] Trial 18 finished with value: 0.4791666666666667 and parameters: {'C': 0.07363824248795063, 'kernel': 'rbf', 'degree': 5, 'gamma': 'auto', 'random_state': 100}. Best is trial 17 with value: 0.7791666666666667.\n"
     ]
    },
    {
     "name": "stdout",
     "output_type": "stream",
     "text": [
      "Model Accuracy: 0.670833\n",
      "Model F1-score: 0.674441\n",
      "Model precision-score: 0.702916\n",
      "Model recall-score: 0.670833\n",
      "Model Parameters: {'C': 258.7298230571369, 'kernel': 'linear', 'degree': 4, 'gamma': 'auto'}\n",
      "Model Accuracy: 0.766667\n",
      "Model F1-score: 0.767122\n",
      "Model precision-score: 0.778216\n",
      "Model recall-score: 0.766667\n",
      "Model Parameters: {'C': 12.095397949603722, 'kernel': 'rbf', 'degree': 5, 'gamma': 'auto'}\n",
      "Model Accuracy: 0.779167\n",
      "Model F1-score: 0.780133\n",
      "Model precision-score: 0.785171\n",
      "Model recall-score: 0.779167\n",
      "Model Parameters: {'C': 19.50535235570742, 'kernel': 'rbf', 'degree': 5, 'gamma': 'auto'}\n",
      "Model Accuracy: 0.479167\n",
      "Model F1-score: 0.431061\n",
      "Model precision-score: 0.613323\n",
      "Model recall-score: 0.479167\n",
      "Model Parameters: {'C': 0.07363824248795063, 'kernel': 'rbf', 'degree': 5, 'gamma': 'auto'}\n"
     ]
    },
    {
     "name": "stderr",
     "output_type": "stream",
     "text": [
      "[I 2024-06-10 08:39:06,432] Trial 19 finished with value: 0.65 and parameters: {'C': 13.676351071910156, 'kernel': 'linear', 'degree': 5, 'gamma': 'auto', 'random_state': 100}. Best is trial 17 with value: 0.7791666666666667.\n",
      "[I 2024-06-10 08:39:06,487] Trial 20 finished with value: 0.775 and parameters: {'C': 30.055131769394848, 'kernel': 'rbf', 'degree': 5, 'gamma': 'auto', 'random_state': 100}. Best is trial 17 with value: 0.7791666666666667.\n",
      "[I 2024-06-10 08:39:06,541] Trial 21 finished with value: 0.775 and parameters: {'C': 21.7792886615306, 'kernel': 'rbf', 'degree': 5, 'gamma': 'auto', 'random_state': 100}. Best is trial 17 with value: 0.7791666666666667.\n",
      "[I 2024-06-10 08:39:06,594] Trial 22 finished with value: 0.7958333333333333 and parameters: {'C': 6.099888487322135, 'kernel': 'rbf', 'degree': 5, 'gamma': 'auto', 'random_state': 100}. Best is trial 22 with value: 0.7958333333333333.\n"
     ]
    },
    {
     "name": "stdout",
     "output_type": "stream",
     "text": [
      "Model Accuracy: 0.65\n",
      "Model F1-score: 0.658448\n",
      "Model precision-score: 0.685129\n",
      "Model recall-score: 0.65\n",
      "Model Parameters: {'C': 13.676351071910156, 'kernel': 'linear', 'degree': 5, 'gamma': 'auto'}\n",
      "Model Accuracy: 0.775\n",
      "Model F1-score: 0.775123\n",
      "Model precision-score: 0.777396\n",
      "Model recall-score: 0.775\n",
      "Model Parameters: {'C': 30.055131769394848, 'kernel': 'rbf', 'degree': 5, 'gamma': 'auto'}\n",
      "Model Accuracy: 0.775\n",
      "Model F1-score: 0.775942\n",
      "Model precision-score: 0.780572\n",
      "Model recall-score: 0.775\n",
      "Model Parameters: {'C': 21.7792886615306, 'kernel': 'rbf', 'degree': 5, 'gamma': 'auto'}\n",
      "Model Accuracy: 0.795833\n",
      "Model F1-score: 0.796918\n",
      "Model precision-score: 0.799957\n",
      "Model recall-score: 0.795833\n",
      "Model Parameters: {'C': 6.099888487322135, 'kernel': 'rbf', 'degree': 5, 'gamma': 'auto'}\n"
     ]
    },
    {
     "name": "stderr",
     "output_type": "stream",
     "text": [
      "[I 2024-06-10 08:39:06,644] Trial 23 finished with value: 0.7666666666666667 and parameters: {'C': 3.4153099610376048, 'kernel': 'rbf', 'degree': 5, 'gamma': 'auto', 'random_state': 100}. Best is trial 22 with value: 0.7958333333333333.\n",
      "[I 2024-06-10 08:39:06,696] Trial 24 finished with value: 0.6208333333333333 and parameters: {'C': 0.4950001234618289, 'kernel': 'rbf', 'degree': 5, 'gamma': 'auto', 'random_state': 100}. Best is trial 22 with value: 0.7958333333333333.\n",
      "[I 2024-06-10 08:39:06,745] Trial 25 finished with value: 0.7666666666666667 and parameters: {'C': 3.3715684761928277, 'kernel': 'rbf', 'degree': 5, 'gamma': 'auto', 'random_state': 100}. Best is trial 22 with value: 0.7958333333333333.\n",
      "[I 2024-06-10 08:39:06,801] Trial 26 finished with value: 0.7708333333333334 and parameters: {'C': 225.95236361417216, 'kernel': 'rbf', 'degree': 5, 'gamma': 'auto', 'random_state': 100}. Best is trial 22 with value: 0.7958333333333333.\n",
      "[I 2024-06-10 08:39:06,842] Trial 27 finished with value: 0.4083333333333333 and parameters: {'C': 0.0012019888559511973, 'kernel': 'linear', 'degree': 4, 'gamma': 'auto', 'random_state': 100}. Best is trial 22 with value: 0.7958333333333333.\n"
     ]
    },
    {
     "name": "stdout",
     "output_type": "stream",
     "text": [
      "Model Accuracy: 0.766667\n",
      "Model F1-score: 0.767358\n",
      "Model precision-score: 0.771281\n",
      "Model recall-score: 0.766667\n",
      "Model Parameters: {'C': 3.4153099610376048, 'kernel': 'rbf', 'degree': 5, 'gamma': 'auto'}\n",
      "Model Accuracy: 0.620833\n",
      "Model F1-score: 0.626967\n",
      "Model precision-score: 0.676172\n",
      "Model recall-score: 0.620833\n",
      "Model Parameters: {'C': 0.4950001234618289, 'kernel': 'rbf', 'degree': 5, 'gamma': 'auto'}\n",
      "Model Accuracy: 0.766667\n",
      "Model F1-score: 0.767358\n",
      "Model precision-score: 0.771281\n",
      "Model recall-score: 0.766667\n",
      "Model Parameters: {'C': 3.3715684761928277, 'kernel': 'rbf', 'degree': 5, 'gamma': 'auto'}\n",
      "Model Accuracy: 0.770833\n",
      "Model F1-score: 0.772012\n",
      "Model precision-score: 0.781408\n",
      "Model recall-score: 0.770833\n",
      "Model Parameters: {'C': 225.95236361417216, 'kernel': 'rbf', 'degree': 5, 'gamma': 'auto'}\n",
      "Model Accuracy: 0.408333\n",
      "Model F1-score: 0.335378\n",
      "Model precision-score: 0.626633\n",
      "Model recall-score: 0.408333\n",
      "Model Parameters: {'C': 0.0012019888559511973, 'kernel': 'linear', 'degree': 4, 'gamma': 'auto'}\n"
     ]
    },
    {
     "name": "stderr",
     "output_type": "stream",
     "text": [
      "[I 2024-06-10 08:39:06,892] Trial 28 finished with value: 0.31666666666666665 and parameters: {'C': 0.06641150760468448, 'kernel': 'poly', 'degree': 5, 'gamma': 'auto', 'random_state': 100}. Best is trial 22 with value: 0.7958333333333333.\n",
      "[I 2024-06-10 08:39:06,935] Trial 29 finished with value: 0.6458333333333334 and parameters: {'C': 4.6087137975317605, 'kernel': 'poly', 'degree': 2, 'gamma': 'auto', 'random_state': 100}. Best is trial 22 with value: 0.7958333333333333.\n",
      "[I 2024-06-10 08:39:06,985] Trial 30 finished with value: 0.8 and parameters: {'C': 6.403020898520503, 'kernel': 'rbf', 'degree': 5, 'gamma': 'auto', 'random_state': 100}. Best is trial 30 with value: 0.8.\n",
      "[I 2024-06-10 08:39:07,035] Trial 31 finished with value: 0.7916666666666666 and parameters: {'C': 7.702236745663394, 'kernel': 'rbf', 'degree': 5, 'gamma': 'auto', 'random_state': 100}. Best is trial 30 with value: 0.8.\n",
      "[I 2024-06-10 08:39:07,084] Trial 32 finished with value: 0.7958333333333333 and parameters: {'C': 7.234554253134644, 'kernel': 'rbf', 'degree': 5, 'gamma': 'auto', 'random_state': 100}. Best is trial 30 with value: 0.8.\n"
     ]
    },
    {
     "name": "stdout",
     "output_type": "stream",
     "text": [
      "Model Accuracy: 0.316667\n",
      "Model F1-score: 0.172622\n",
      "Model precision-score: 0.666525\n",
      "Model recall-score: 0.316667\n",
      "Model Parameters: {'C': 0.06641150760468448, 'kernel': 'poly', 'degree': 5, 'gamma': 'auto'}\n",
      "Model Accuracy: 0.645833\n",
      "Model F1-score: 0.647011\n",
      "Model precision-score: 0.68493\n",
      "Model recall-score: 0.645833\n",
      "Model Parameters: {'C': 4.6087137975317605, 'kernel': 'poly', 'degree': 2, 'gamma': 'auto'}\n",
      "Model Accuracy: 0.8\n",
      "Model F1-score: 0.800965\n",
      "Model precision-score: 0.803432\n",
      "Model recall-score: 0.8\n",
      "Model Parameters: {'C': 6.403020898520503, 'kernel': 'rbf', 'degree': 5, 'gamma': 'auto'}\n",
      "Model Accuracy: 0.791667\n",
      "Model F1-score: 0.792596\n",
      "Model precision-score: 0.795425\n",
      "Model recall-score: 0.791667\n",
      "Model Parameters: {'C': 7.702236745663394, 'kernel': 'rbf', 'degree': 5, 'gamma': 'auto'}\n",
      "Model Accuracy: 0.795833\n",
      "Model F1-score: 0.796767\n",
      "Model precision-score: 0.799325\n",
      "Model recall-score: 0.795833\n",
      "Model Parameters: {'C': 7.234554253134644, 'kernel': 'rbf', 'degree': 5, 'gamma': 'auto'}\n"
     ]
    },
    {
     "name": "stderr",
     "output_type": "stream",
     "text": [
      "[I 2024-06-10 08:39:07,134] Trial 33 finished with value: 0.7958333333333333 and parameters: {'C': 8.45034048397542, 'kernel': 'rbf', 'degree': 5, 'gamma': 'auto', 'random_state': 100}. Best is trial 30 with value: 0.8.\n",
      "[I 2024-06-10 08:39:07,182] Trial 34 finished with value: 0.49583333333333335 and parameters: {'C': 1.3246904868453764, 'kernel': 'poly', 'degree': 5, 'gamma': 'scale', 'random_state': 25}. Best is trial 30 with value: 0.8.\n",
      "[I 2024-06-10 08:39:07,232] Trial 35 finished with value: 0.7958333333333333 and parameters: {'C': 7.48266568954221, 'kernel': 'rbf', 'degree': 5, 'gamma': 'auto', 'random_state': 100}. Best is trial 30 with value: 0.8.\n",
      "[I 2024-06-10 08:39:07,283] Trial 36 finished with value: 0.7708333333333334 and parameters: {'C': 1.7943947268241682, 'kernel': 'rbf', 'degree': 4, 'gamma': 'scale', 'random_state': 100}. Best is trial 30 with value: 0.8.\n",
      "[I 2024-06-10 08:39:07,331] Trial 37 finished with value: 0.4625 and parameters: {'C': 97.06742920890028, 'kernel': 'sigmoid', 'degree': 5, 'gamma': 'auto', 'random_state': 100}. Best is trial 30 with value: 0.8.\n"
     ]
    },
    {
     "name": "stdout",
     "output_type": "stream",
     "text": [
      "Model Accuracy: 0.795833\n",
      "Model F1-score: 0.796552\n",
      "Model precision-score: 0.799082\n",
      "Model recall-score: 0.795833\n",
      "Model Parameters: {'C': 8.45034048397542, 'kernel': 'rbf', 'degree': 5, 'gamma': 'auto'}\n",
      "Model Accuracy: 0.495833\n",
      "Model F1-score: 0.463285\n",
      "Model precision-score: 0.619089\n",
      "Model recall-score: 0.495833\n",
      "Model Parameters: {'C': 1.3246904868453764, 'kernel': 'poly', 'degree': 5, 'gamma': 'scale'}\n",
      "Model Accuracy: 0.795833\n",
      "Model F1-score: 0.796767\n",
      "Model precision-score: 0.799325\n",
      "Model recall-score: 0.795833\n",
      "Model Parameters: {'C': 7.48266568954221, 'kernel': 'rbf', 'degree': 5, 'gamma': 'auto'}\n",
      "Model Accuracy: 0.770833\n",
      "Model F1-score: 0.771272\n",
      "Model precision-score: 0.775842\n",
      "Model recall-score: 0.770833\n",
      "Model Parameters: {'C': 1.7943947268241682, 'kernel': 'rbf', 'degree': 4, 'gamma': 'scale'}\n",
      "Model Accuracy: 0.4625\n",
      "Model F1-score: 0.474831\n",
      "Model precision-score: 0.510625\n",
      "Model recall-score: 0.4625\n",
      "Model Parameters: {'C': 97.06742920890028, 'kernel': 'sigmoid', 'degree': 5, 'gamma': 'auto'}\n"
     ]
    },
    {
     "name": "stderr",
     "output_type": "stream",
     "text": [
      "[I 2024-06-10 08:39:07,376] Trial 38 finished with value: 0.49166666666666664 and parameters: {'C': 0.27745956541462974, 'kernel': 'poly', 'degree': 3, 'gamma': 'scale', 'random_state': 25}. Best is trial 30 with value: 0.8.\n",
      "[I 2024-06-10 08:39:07,473] Trial 39 finished with value: 0.6541666666666667 and parameters: {'C': 1.8054027356634292, 'kernel': 'linear', 'degree': 5, 'gamma': 'auto', 'random_state': None}. Best is trial 30 with value: 0.8.\n",
      "[I 2024-06-10 08:39:07,525] Trial 40 finished with value: 0.7875 and parameters: {'C': 6.576930514346762, 'kernel': 'rbf', 'degree': 3, 'gamma': 'scale', 'random_state': 100}. Best is trial 30 with value: 0.8.\n",
      "[I 2024-06-10 08:39:07,575] Trial 41 finished with value: 0.7958333333333333 and parameters: {'C': 8.339024427571307, 'kernel': 'rbf', 'degree': 5, 'gamma': 'auto', 'random_state': 100}. Best is trial 30 with value: 0.8.\n"
     ]
    },
    {
     "name": "stdout",
     "output_type": "stream",
     "text": [
      "Model Accuracy: 0.491667\n",
      "Model F1-score: 0.448011\n",
      "Model precision-score: 0.676471\n",
      "Model recall-score: 0.491667\n",
      "Model Parameters: {'C': 0.27745956541462974, 'kernel': 'poly', 'degree': 3, 'gamma': 'scale'}\n",
      "Model Accuracy: 0.654167\n",
      "Model F1-score: 0.655816\n",
      "Model precision-score: 0.6687\n",
      "Model recall-score: 0.654167\n",
      "Model Parameters: {'C': 1.8054027356634292, 'kernel': 'linear', 'degree': 5, 'gamma': 'auto'}\n",
      "Model Accuracy: 0.7875\n",
      "Model F1-score: 0.788231\n",
      "Model precision-score: 0.792617\n",
      "Model recall-score: 0.7875\n",
      "Model Parameters: {'C': 6.576930514346762, 'kernel': 'rbf', 'degree': 3, 'gamma': 'scale'}\n",
      "Model Accuracy: 0.795833\n",
      "Model F1-score: 0.796552\n",
      "Model precision-score: 0.799082\n",
      "Model recall-score: 0.795833\n",
      "Model Parameters: {'C': 8.339024427571307, 'kernel': 'rbf', 'degree': 5, 'gamma': 'auto'}\n"
     ]
    },
    {
     "name": "stderr",
     "output_type": "stream",
     "text": [
      "[I 2024-06-10 08:39:07,625] Trial 42 finished with value: 0.775 and parameters: {'C': 2.6248490803909266, 'kernel': 'rbf', 'degree': 5, 'gamma': 'auto', 'random_state': 100}. Best is trial 30 with value: 0.8.\n",
      "[I 2024-06-10 08:39:07,676] Trial 43 finished with value: 0.6958333333333333 and parameters: {'C': 1.0494712141003868, 'kernel': 'rbf', 'degree': 5, 'gamma': 'auto', 'random_state': 100}. Best is trial 30 with value: 0.8.\n",
      "[I 2024-06-10 08:39:07,729] Trial 44 finished with value: 0.5291666666666667 and parameters: {'C': 5.658389487634013, 'kernel': 'sigmoid', 'degree': 5, 'gamma': 'auto', 'random_state': 100}. Best is trial 30 with value: 0.8.\n",
      "[I 2024-06-10 08:39:07,779] Trial 45 finished with value: 0.7166666666666667 and parameters: {'C': 14.753680685411767, 'kernel': 'rbf', 'degree': 4, 'gamma': 'auto', 'random_state': None}. Best is trial 30 with value: 0.8.\n"
     ]
    },
    {
     "name": "stdout",
     "output_type": "stream",
     "text": [
      "Model Accuracy: 0.775\n",
      "Model F1-score: 0.775696\n",
      "Model precision-score: 0.780645\n",
      "Model recall-score: 0.775\n",
      "Model Parameters: {'C': 2.6248490803909266, 'kernel': 'rbf', 'degree': 5, 'gamma': 'auto'}\n",
      "Model Accuracy: 0.695833\n",
      "Model F1-score: 0.699399\n",
      "Model precision-score: 0.723469\n",
      "Model recall-score: 0.695833\n",
      "Model Parameters: {'C': 1.0494712141003868, 'kernel': 'rbf', 'degree': 5, 'gamma': 'auto'}\n",
      "Model Accuracy: 0.529167\n",
      "Model F1-score: 0.541058\n",
      "Model precision-score: 0.577216\n",
      "Model recall-score: 0.529167\n",
      "Model Parameters: {'C': 5.658389487634013, 'kernel': 'sigmoid', 'degree': 5, 'gamma': 'auto'}\n",
      "Model Accuracy: 0.716667\n",
      "Model F1-score: 0.716908\n",
      "Model precision-score: 0.717221\n",
      "Model recall-score: 0.716667\n",
      "Model Parameters: {'C': 14.753680685411767, 'kernel': 'rbf', 'degree': 4, 'gamma': 'auto'}\n"
     ]
    },
    {
     "name": "stderr",
     "output_type": "stream",
     "text": [
      "[I 2024-06-10 08:39:07,833] Trial 46 finished with value: 0.7333333333333333 and parameters: {'C': 50.0170331108297, 'kernel': 'rbf', 'degree': 5, 'gamma': 'auto', 'random_state': 25}. Best is trial 30 with value: 0.8.\n",
      "[I 2024-06-10 08:39:07,885] Trial 47 finished with value: 0.65 and parameters: {'C': 0.6730773101987023, 'kernel': 'rbf', 'degree': 4, 'gamma': 'auto', 'random_state': 100}. Best is trial 30 with value: 0.8.\n",
      "[I 2024-06-10 08:39:07,933] Trial 48 finished with value: 0.4875 and parameters: {'C': 157.6262364097433, 'kernel': 'sigmoid', 'degree': 2, 'gamma': 'auto', 'random_state': 100}. Best is trial 30 with value: 0.8.\n",
      "[I 2024-06-10 08:39:07,986] Trial 49 finished with value: 0.7666666666666667 and parameters: {'C': 29.266990157675004, 'kernel': 'rbf', 'degree': 5, 'gamma': 'scale', 'random_state': None}. Best is trial 30 with value: 0.8.\n"
     ]
    },
    {
     "name": "stdout",
     "output_type": "stream",
     "text": [
      "Model Accuracy: 0.733333\n",
      "Model F1-score: 0.732944\n",
      "Model precision-score: 0.736273\n",
      "Model recall-score: 0.733333\n",
      "Model Parameters: {'C': 50.0170331108297, 'kernel': 'rbf', 'degree': 5, 'gamma': 'auto'}\n",
      "Model Accuracy: 0.65\n",
      "Model F1-score: 0.655428\n",
      "Model precision-score: 0.697223\n",
      "Model recall-score: 0.65\n",
      "Model Parameters: {'C': 0.6730773101987023, 'kernel': 'rbf', 'degree': 4, 'gamma': 'auto'}\n",
      "Model Accuracy: 0.4875\n",
      "Model F1-score: 0.501287\n",
      "Model precision-score: 0.539916\n",
      "Model recall-score: 0.4875\n",
      "Model Parameters: {'C': 157.6262364097433, 'kernel': 'sigmoid', 'degree': 2, 'gamma': 'auto'}\n",
      "Model Accuracy: 0.766667\n",
      "Model F1-score: 0.765066\n",
      "Model precision-score: 0.766816\n",
      "Model recall-score: 0.766667\n",
      "Model Parameters: {'C': 29.266990157675004, 'kernel': 'rbf', 'degree': 5, 'gamma': 'scale'}\n",
      "Number of finished trials: 50\n",
      "Best trial:\n",
      "  Value: 0.8\n",
      "  Params: \n",
      "    C: 6.403020898520503\n",
      "    kernel: rbf\n",
      "    degree: 5\n",
      "    gamma: auto\n",
      "    random_state: 100\n"
     ]
    }
   ],
   "source": [
    "from sklearn.svm import SVC\n",
    "import optuna\n",
    "from sklearn.model_selection import train_test_split\n",
    "from sklearn.metrics import accuracy_score, f1_score, precision_score, recall_score\n",
    "\n",
    "def objective(trial):\n",
    "    # Define the hyperparameters to be tuned\n",
    "    param = {\n",
    "        'C': trial.suggest_loguniform('C', 1e-3, 1e3),\n",
    "        'kernel': trial.suggest_categorical('kernel', ['linear', 'poly', 'rbf', 'sigmoid']),\n",
    "        'degree': trial.suggest_int('degree', 2, 5),  # only meaningful for 'poly' kernel\n",
    "        'gamma': trial.suggest_categorical('gamma', ['scale', 'auto'])\n",
    "    }\n",
    "\n",
    "    # Use the suggested random state value in train_test_split if available\n",
    "    random_state = trial.suggest_categorical('random_state', [0, 25, 100, None])\n",
    "\n",
    "    # Assuming X_knn and y are predefined\n",
    "    X_train, X_test, y_train, y_test = train_test_split(X_knn, y, test_size=0.2, random_state=random_state)\n",
    "\n",
    "    # Initialize the model\n",
    "    model = SVC(**param)\n",
    "\n",
    "    # Train the model\n",
    "    model.fit(X_train, y_train)\n",
    "\n",
    "    # Predict the test set\n",
    "    y_pred = model.predict(X_test)\n",
    "\n",
    "    # Calculate performance metrics\n",
    "    accuracy = accuracy_score(y_test, y_pred)\n",
    "    f1 = f1_score(y_test, y_pred, average='weighted')\n",
    "    precision = precision_score(y_test, y_pred, average='weighted')\n",
    "    recall = recall_score(y_test, y_pred, average='weighted')\n",
    "\n",
    "    print(f\"Model Accuracy: {round(accuracy, 6)}\")\n",
    "    print(f\"Model F1-score: {round(f1, 6)}\")\n",
    "    print(f\"Model precision-score: {round(precision, 6)}\")\n",
    "    print(f\"Model recall-score: {round(recall, 6)}\")\n",
    "    print(f\"Model Parameters: {param}\")\n",
    "\n",
    "    return accuracy  # return the objective value to be maximized\n",
    "\n",
    "if __name__ == \"__main__\":\n",
    "    study = optuna.create_study(direction=\"maximize\", sampler=optuna.samplers.TPESampler())\n",
    "    study.optimize(objective, n_trials=50)\n",
    "\n",
    "    print(\"Number of finished trials: {}\".format(len(study.trials)))\n",
    "    print(\"Best trial:\")\n",
    "    trial = study.best_trial\n",
    "\n",
    "    print(\"  Value: {}\".format(trial.value))\n",
    "    print(\"  Params: \")\n",
    "    for key, value in trial.params.items():\n",
    "        print(\"    {}: {}\".format(key, value))\n"
   ]
  },
  {
   "cell_type": "markdown",
   "id": "eac53262",
   "metadata": {},
   "source": [
    "## ROC and AUC for SVC"
   ]
  },
  {
   "cell_type": "code",
   "execution_count": 130,
   "id": "d9369f2a",
   "metadata": {},
   "outputs": [
    {
     "ename": "TypeError",
     "evalue": "__init__() got an unexpected keyword argument 'criterion'",
     "output_type": "error",
     "traceback": [
      "\u001b[0;31m---------------------------------------------------------------------------\u001b[0m",
      "\u001b[0;31mTypeError\u001b[0m                                 Traceback (most recent call last)",
      "\u001b[0;32m/tmp/ipykernel_4475/951712749.py\u001b[0m in \u001b[0;36m<module>\u001b[0;34m\u001b[0m\n\u001b[1;32m      5\u001b[0m \u001b[0;31m## Hyper-tuned SVC\u001b[0m\u001b[0;34m\u001b[0m\u001b[0;34m\u001b[0m\u001b[0;34m\u001b[0m\u001b[0m\n\u001b[1;32m      6\u001b[0m \u001b[0mbest_params\u001b[0m \u001b[0;34m=\u001b[0m \u001b[0mtrial\u001b[0m\u001b[0;34m.\u001b[0m\u001b[0mparams\u001b[0m\u001b[0;34m\u001b[0m\u001b[0;34m\u001b[0m\u001b[0m\n\u001b[0;32m----> 7\u001b[0;31m \u001b[0mmodel_svc_hyperkn\u001b[0m \u001b[0;34m=\u001b[0m \u001b[0mSVC\u001b[0m\u001b[0;34m(\u001b[0m\u001b[0mprobability\u001b[0m\u001b[0;34m=\u001b[0m\u001b[0;32mTrue\u001b[0m\u001b[0;34m,\u001b[0m \u001b[0;34m**\u001b[0m\u001b[0mbest_params\u001b[0m\u001b[0;34m)\u001b[0m\u001b[0;34m.\u001b[0m\u001b[0mfit\u001b[0m\u001b[0;34m(\u001b[0m\u001b[0mX_train_fullkn_sv\u001b[0m\u001b[0;34m,\u001b[0m \u001b[0my_train_fullkn_sv\u001b[0m\u001b[0;34m)\u001b[0m\u001b[0;34m\u001b[0m\u001b[0;34m\u001b[0m\u001b[0m\n\u001b[0m\u001b[1;32m      8\u001b[0m \u001b[0mprobs_svc_hyper\u001b[0m \u001b[0;34m=\u001b[0m \u001b[0mmodel_svc_hyperkn\u001b[0m\u001b[0;34m.\u001b[0m\u001b[0mpredict_proba\u001b[0m\u001b[0;34m(\u001b[0m\u001b[0mX_test_fullkn_sv\u001b[0m\u001b[0;34m)\u001b[0m\u001b[0;31m#[:, 1]\u001b[0m\u001b[0;34m\u001b[0m\u001b[0;34m\u001b[0m\u001b[0m\n\u001b[1;32m      9\u001b[0m \u001b[0;34m\u001b[0m\u001b[0m\n",
      "\u001b[0;32m/opt/conda/lib/python3.9/site-packages/sklearn/utils/validation.py\u001b[0m in \u001b[0;36minner_f\u001b[0;34m(*args, **kwargs)\u001b[0m\n\u001b[1;32m     61\u001b[0m             \u001b[0mextra_args\u001b[0m \u001b[0;34m=\u001b[0m \u001b[0mlen\u001b[0m\u001b[0;34m(\u001b[0m\u001b[0margs\u001b[0m\u001b[0;34m)\u001b[0m \u001b[0;34m-\u001b[0m \u001b[0mlen\u001b[0m\u001b[0;34m(\u001b[0m\u001b[0mall_args\u001b[0m\u001b[0;34m)\u001b[0m\u001b[0;34m\u001b[0m\u001b[0;34m\u001b[0m\u001b[0m\n\u001b[1;32m     62\u001b[0m             \u001b[0;32mif\u001b[0m \u001b[0mextra_args\u001b[0m \u001b[0;34m<=\u001b[0m \u001b[0;36m0\u001b[0m\u001b[0;34m:\u001b[0m\u001b[0;34m\u001b[0m\u001b[0;34m\u001b[0m\u001b[0m\n\u001b[0;32m---> 63\u001b[0;31m                 \u001b[0;32mreturn\u001b[0m \u001b[0mf\u001b[0m\u001b[0;34m(\u001b[0m\u001b[0;34m*\u001b[0m\u001b[0margs\u001b[0m\u001b[0;34m,\u001b[0m \u001b[0;34m**\u001b[0m\u001b[0mkwargs\u001b[0m\u001b[0;34m)\u001b[0m\u001b[0;34m\u001b[0m\u001b[0;34m\u001b[0m\u001b[0m\n\u001b[0m\u001b[1;32m     64\u001b[0m \u001b[0;34m\u001b[0m\u001b[0m\n\u001b[1;32m     65\u001b[0m             \u001b[0;31m# extra_args > 0\u001b[0m\u001b[0;34m\u001b[0m\u001b[0;34m\u001b[0m\u001b[0;34m\u001b[0m\u001b[0m\n",
      "\u001b[0;31mTypeError\u001b[0m: __init__() got an unexpected keyword argument 'criterion'"
     ]
    }
   ],
   "source": [
    "knn_pipeline2= Pipeline(steps=[('imputer', KNNImputer(n_neighbors=3)),('RobustScaler', RobustScaler())])\n",
    "X_knn2 =knn_pipeline2.fit_transform(X_full)\n",
    "X_train_fullkn_sv, X_test_fullkn_sv, y_train_fullkn_sv, y_test_fullkn_sv = train_test_split(X_knn2, y_full, test_size=0.20, random_state=42)\n",
    "\n",
    "## Hyper-tuned SVC\n",
    "best_params = trial.params\n",
    "model_svc_hyperkn = SVC(probability=True, **best_params).fit(X_train_fullkn_sv, y_train_fullkn_sv)\n",
    "probs_svc_hyper = model_svc_hyperkn.predict_proba(X_test_fullkn_sv)#[:, 1]\n",
    "\n",
    "auc_svc = roc_auc_score(y_test_fullkn_sv, probs_svc_hyper, multi_class='ovr')\n",
    "print('AUC of SVC: {:.4f}'.format(auc_svc))\n",
    "\n",
    "\n",
    "SVC_KNN = SVC(probability=True, **best_params) #random_state= 100, min_samples_split= 6,\n",
    "\n",
    "scores_cv_svc = cross_val_score(SVC_KNN, X_knn2, y_full, cv=10, scoring='roc_auc_ovr')\n",
    "    \n",
    "scores_cv_svc_mean= scores_cv_svc.mean()\n",
    "scores_cv_svc_std= scores_cv_svc.std()\n",
    "#print('10-fold CV of RFC', (scores_cv_rf))\n",
    "print('10-fold CV mean of SVC: {:.4f}'.format(scores_cv_svc_mean))\n",
    "print('10-fold CV std of SVC: {:.4f}'.format(scores_cv_svc_std))"
   ]
  },
  {
   "cell_type": "markdown",
   "id": "7521a87d",
   "metadata": {},
   "source": [
    "### Confusion Matrix for SVC"
   ]
  },
  {
   "cell_type": "code",
   "execution_count": 98,
   "id": "1e54907a",
   "metadata": {},
   "outputs": [
    {
     "data": {
      "image/png": "[encoded data removed]",
      "text/plain": [
       "<Figure size 720x432 with 2 Axes>"
      ]
     },
     "metadata": {},
     "output_type": "display_data"
    }
   ],
   "source": [
    "from sklearn.metrics import plot_confusion_matrix\n",
    "class_names = ['IM', 'BCC', 'FCC', 'FCC+BCC']\n",
    "cmplot= plot_confusion_matrix(model_svc_hyperkn, X_test_fullkn_sv, y_test_fullkn_sv, display_labels= class_names, cmap='cividis')\n",
    "cmplot.ax_.set_title('Support Vector Classification', color='red', fontsize=15)\n",
    "plt.xlabel('Predicted Label', color='black', fontsize=15)\n",
    "plt.ylabel('True Label', color='black', fontsize=15)\n",
    "plt.gcf().axes[0].tick_params(color='black')\n",
    "plt.gcf().axes[1].tick_params(color='black')\n",
    "plt.gcf().set_size_inches(10,6)\n",
    "# plt.savefig('SVC_Confused_1.png', format='png', dpi=500, bbox_inches='tight', transparent=True)\n",
    "plt.show()"
   ]
  },
  {
   "cell_type": "code",
   "execution_count": 66,
   "id": "87c604cb",
   "metadata": {},
   "outputs": [],
   "source": [
    "from sklearn.metrics import auc"
   ]
  },
  {
   "cell_type": "markdown",
   "id": "7725713e",
   "metadata": {},
   "source": [
    "### ROC Curve for RFC Model for each Phase"
   ]
  },
  {
   "cell_type": "code",
   "execution_count": 99,
   "id": "52b65fe0",
   "metadata": {},
   "outputs": [
    {
     "data": {
      "text/plain": [
       "(array([-0.2,  0. ,  0.2,  0.4,  0.6,  0.8,  1. ,  1.2]),\n",
       " [Text(0, 0, ''),\n",
       "  Text(0, 0, ''),\n",
       "  Text(0, 0, ''),\n",
       "  Text(0, 0, ''),\n",
       "  Text(0, 0, ''),\n",
       "  Text(0, 0, ''),\n",
       "  Text(0, 0, ''),\n",
       "  Text(0, 0, '')])"
      ]
     },
     "execution_count": 99,
     "metadata": {},
     "output_type": "execute_result"
    },
    {
     "data": {
      "image/png": "[encoded data removed]",
      "text/plain": [
       "<Figure size 648x576 with 1 Axes>"
      ]
     },
     "metadata": {},
     "output_type": "display_data"
    }
   ],
   "source": [
    "sns.set_style('white')\n",
    "plt.figure(figsize=(9,8))\n",
    "\n",
    "fpr0, tpr0, thresh0 = roc_curve(y_test_fullkn_rf, probs_rf_hyper[:,0], pos_label=1) #MIP\n",
    "fpr1, tpr1, thresh1 = roc_curve(y_test_fullkn_dt, probs_rf_hyper[:,1], pos_label=1) #BCC\n",
    "fpr2, tpr2, thresh2 = roc_curve(y_test_fullkn_kn, probs_rf_hyper[:,2], pos_label=1) #FCC\n",
    "fpr3, tpr3, thresh3 = roc_curve(y_test_fullkn_xg, probs_rf_hyper[:,3], pos_label=1) #BCC+FCC\n",
    "\n",
    "roc_auc0 = auc(fpr0, tpr0)\n",
    "roc_auc1 = auc(fpr1, tpr1)\n",
    "roc_auc2 = auc(fpr2, tpr2)\n",
    "roc_auc3 = auc(fpr3, tpr3)\n",
    "\n",
    "random_probs = [0 for i in range(len(y_test_fullkn_rf))]\n",
    "p_fpr, p_tpr, _ = roc_curve(y_test_fullkn_rf, random_probs, pos_label=1)\n",
    "\n",
    "\n",
    "plt.plot(fpr0, tpr0, linestyle= '--', color= 'red', label= 'ROC-AUC of IM = %0.4f' % roc_auc0, markersize=1)\n",
    "plt.plot(fpr1, tpr1 , linestyle= '--', color= 'green', label= 'ROC-AUC of BCC = %0.4f' % roc_auc1, markersize=1)\n",
    "plt.plot(fpr2, tpr2,  linestyle= '--', color= 'blue',label= 'ROC-AUC of FCC =%0.4f' % roc_auc2, markersize=1 )\n",
    "plt.plot(fpr3, tpr3,  linestyle= '--', color= 'purple', label= 'ROC-AUC of FCC+BCC = %0.4f' % roc_auc3,markersize=1)\n",
    "plt.plot(p_fpr, p_tpr, linestyle= '--', color= 'black')\n",
    "\n",
    "plt.title('ROC Curve for Random Forest Classification', fontsize=20)\n",
    "plt.xlabel('False positive rate', fontsize=20)\n",
    "plt.ylabel('True positive rate', fontsize=20)\n",
    "plt.legend(loc='best', fontsize=15)\n",
    "plt.xticks( fontsize=15)\n",
    "plt.yticks(fontsize=15)\n",
    "#plt.savefig('ROC', dpi=300)"
   ]
  },
  {
   "cell_type": "code",
   "execution_count": null,
   "id": "e95c2ab1",
   "metadata": {},
   "outputs": [],
   "source": []
  },
  {
   "cell_type": "code",
   "execution_count": null,
   "id": "d152bdb8",
   "metadata": {},
   "outputs": [],
   "source": []
  },
  {
   "cell_type": "code",
   "execution_count": 100,
   "id": "45c88767",
   "metadata": {},
   "outputs": [
    {
     "data": {
      "text/plain": [
       "array([[0.21184439, 0.2432196 , 0.4405556 , 0.10438042],\n",
       "       [0.06991928, 0.03274393, 0.04638007, 0.85095672],\n",
       "       [0.63137772, 0.31327813, 0.02023365, 0.0351105 ],\n",
       "       [0.13833522, 0.05630613, 0.65463416, 0.15072449],\n",
       "       [0.29129098, 0.14087704, 0.49155519, 0.07627679],\n",
       "       [0.43590504, 0.39329018, 0.08605963, 0.08474516],\n",
       "       [0.5363573 , 0.12099366, 0.23298454, 0.10966451],\n",
       "       [0.51527079, 0.18933545, 0.08405824, 0.21133553],\n",
       "       [0.08827546, 0.90583147, 0.00321575, 0.00267732],\n",
       "       [0.07851659, 0.28879981, 0.45664188, 0.17604172],\n",
       "       [0.14845057, 0.04214079, 0.76655784, 0.0428508 ],\n",
       "       [0.10103852, 0.85169384, 0.02293319, 0.02433446],\n",
       "       [0.08484483, 0.88357301, 0.01750996, 0.0140722 ],\n",
       "       [0.04714431, 0.05067227, 0.60453123, 0.29765219],\n",
       "       [0.24539685, 0.04951777, 0.63294814, 0.07213724],\n",
       "       [0.41051368, 0.49129414, 0.06195384, 0.03623833],\n",
       "       [0.43049021, 0.12534017, 0.28529751, 0.1588721 ],\n",
       "       [0.7094151 , 0.08821561, 0.09617676, 0.10619253],\n",
       "       [0.61602055, 0.19040522, 0.07472678, 0.11884746],\n",
       "       [0.44848815, 0.49518918, 0.03922087, 0.0171018 ],\n",
       "       [0.12005445, 0.04772417, 0.74003074, 0.09219063],\n",
       "       [0.76673865, 0.07484239, 0.0426378 , 0.11578115],\n",
       "       [0.12132632, 0.14245034, 0.12685307, 0.60937027],\n",
       "       [0.14710116, 0.82962546, 0.01612159, 0.00715178],\n",
       "       [0.03582326, 0.93973947, 0.01302514, 0.01141213],\n",
       "       [0.26023932, 0.03585088, 0.66513628, 0.03877352],\n",
       "       [0.54778778, 0.29249527, 0.0531253 , 0.10659166],\n",
       "       [0.04610962, 0.0219578 , 0.05395217, 0.87798041],\n",
       "       [0.16910254, 0.05305049, 0.4807858 , 0.29706117],\n",
       "       [0.66155862, 0.17703849, 0.06549644, 0.09590645],\n",
       "       [0.45818149, 0.12724636, 0.28916196, 0.12541019],\n",
       "       [0.53359272, 0.299988  , 0.046342  , 0.12007728],\n",
       "       [0.55943728, 0.28338502, 0.10906892, 0.04810878],\n",
       "       [0.88712024, 0.08963609, 0.0199862 , 0.00325747],\n",
       "       [0.02783184, 0.03659587, 0.0605104 , 0.87506189],\n",
       "       [0.46042907, 0.30338504, 0.116824  , 0.11936188],\n",
       "       [0.41236208, 0.48166003, 0.04862628, 0.05735161],\n",
       "       [0.80949289, 0.11065243, 0.05390584, 0.02594883],\n",
       "       [0.1147281 , 0.05014217, 0.73601516, 0.09911457],\n",
       "       [0.47352596, 0.4043391 , 0.10671505, 0.01541989],\n",
       "       [0.78908916, 0.13207969, 0.0347441 , 0.04408705],\n",
       "       [0.3909007 , 0.2083394 , 0.11807134, 0.28268857],\n",
       "       [0.38818028, 0.4391771 , 0.05832791, 0.11431471],\n",
       "       [0.33665888, 0.61456081, 0.03120593, 0.01757438],\n",
       "       [0.18069639, 0.16672022, 0.09415803, 0.55842536],\n",
       "       [0.06418493, 0.92444404, 0.00813009, 0.00324094],\n",
       "       [0.0931402 , 0.88919442, 0.0124759 , 0.00518948],\n",
       "       [0.17503232, 0.78966063, 0.02807913, 0.00722792],\n",
       "       [0.10180798, 0.84300562, 0.02475791, 0.03042849],\n",
       "       [0.18964551, 0.14576949, 0.48592536, 0.17865963],\n",
       "       [0.38381444, 0.09570996, 0.44199891, 0.07847668],\n",
       "       [0.08290141, 0.90686998, 0.00361117, 0.00661743],\n",
       "       [0.15415537, 0.09131716, 0.66557307, 0.0889544 ],\n",
       "       [0.64360851, 0.27898691, 0.03198793, 0.04541666],\n",
       "       [0.26523518, 0.21723178, 0.26356875, 0.25396429],\n",
       "       [0.87914609, 0.09576764, 0.0212362 , 0.00385007],\n",
       "       [0.27078248, 0.09860604, 0.23879773, 0.39181375],\n",
       "       [0.36392318, 0.23068633, 0.35603271, 0.04935779],\n",
       "       [0.61179851, 0.06952805, 0.28785123, 0.03082221],\n",
       "       [0.29847076, 0.11710699, 0.51920602, 0.06521623],\n",
       "       [0.16574585, 0.07464961, 0.66236281, 0.09724174],\n",
       "       [0.01553886, 0.96732792, 0.00758637, 0.00954685],\n",
       "       [0.25455013, 0.1541136 , 0.53666967, 0.0546666 ],\n",
       "       [0.47901695, 0.11219404, 0.28150977, 0.12727924],\n",
       "       [0.52778356, 0.40401345, 0.03935102, 0.02885197],\n",
       "       [0.80237143, 0.17624984, 0.01151563, 0.0098631 ],\n",
       "       [0.06161807, 0.92930844, 0.00419467, 0.00487882],\n",
       "       [0.21024481, 0.09387596, 0.56756506, 0.12831417],\n",
       "       [0.57789267, 0.31958186, 0.04433471, 0.05819077],\n",
       "       [0.02844696, 0.02137129, 0.03288357, 0.91729818],\n",
       "       [0.45980773, 0.4747817 , 0.04163367, 0.0237769 ],\n",
       "       [0.21081506, 0.64858639, 0.08425097, 0.05634758],\n",
       "       [0.14102858, 0.19646428, 0.11182542, 0.55068172],\n",
       "       [0.1311634 , 0.04309392, 0.77823228, 0.0475104 ],\n",
       "       [0.30542859, 0.5639047 , 0.03590801, 0.0947587 ],\n",
       "       [0.71002063, 0.2169309 , 0.05368615, 0.01936232],\n",
       "       [0.23643271, 0.69252459, 0.03600283, 0.03503988],\n",
       "       [0.34595835, 0.1404233 , 0.4270333 , 0.08658505],\n",
       "       [0.40420646, 0.50023978, 0.05087788, 0.04467588],\n",
       "       [0.05448786, 0.05169272, 0.51960158, 0.37421784],\n",
       "       [0.80957536, 0.10961469, 0.03396326, 0.04684668],\n",
       "       [0.59217066, 0.29850527, 0.07670672, 0.03261736],\n",
       "       [0.03381431, 0.0107627 , 0.92405572, 0.03136728],\n",
       "       [0.21607996, 0.73665264, 0.03244299, 0.01482441],\n",
       "       [0.10103852, 0.85169384, 0.02293319, 0.02433446],\n",
       "       [0.33326117, 0.51446734, 0.05963092, 0.09264057],\n",
       "       [0.60841759, 0.11696387, 0.18478946, 0.08982909],\n",
       "       [0.3715432 , 0.04994789, 0.53567288, 0.04283603],\n",
       "       [0.02609099, 0.00516246, 0.95465947, 0.01408708],\n",
       "       [0.16758189, 0.05158499, 0.39456371, 0.38626942],\n",
       "       [0.51660512, 0.37219099, 0.05899774, 0.05220616],\n",
       "       [0.54181204, 0.16451957, 0.18577338, 0.107895  ],\n",
       "       [0.89241682, 0.04678685, 0.03508373, 0.0257126 ],\n",
       "       [0.08688805, 0.02219943, 0.86670962, 0.0242029 ],\n",
       "       [0.87093789, 0.05659873, 0.04268646, 0.02977692],\n",
       "       [0.88379784, 0.05066231, 0.04413381, 0.02140604],\n",
       "       [0.69408947, 0.21398631, 0.04772531, 0.0441989 ],\n",
       "       [0.13054233, 0.85195137, 0.00980399, 0.00770231],\n",
       "       [0.8971719 , 0.04949697, 0.02457889, 0.02875224],\n",
       "       [0.02451829, 0.03326419, 0.07202522, 0.8701923 ],\n",
       "       [0.09655334, 0.0513198 , 0.27327787, 0.578849  ],\n",
       "       [0.26745401, 0.48539505, 0.08204494, 0.16510601],\n",
       "       [0.60809513, 0.12523257, 0.22443213, 0.04224017],\n",
       "       [0.5845941 , 0.29337155, 0.06144817, 0.06058619],\n",
       "       [0.37674228, 0.19077971, 0.15985729, 0.27262072],\n",
       "       [0.60402203, 0.22886575, 0.10399   , 0.06312222],\n",
       "       [0.56594426, 0.16090258, 0.06295318, 0.21019998],\n",
       "       [0.14642431, 0.82407332, 0.01395278, 0.0155496 ],\n",
       "       [0.13851095, 0.05791255, 0.08894997, 0.71462654],\n",
       "       [0.66090092, 0.07261155, 0.18397271, 0.08251482],\n",
       "       [0.27072492, 0.58190511, 0.08990659, 0.05746339],\n",
       "       [0.8309006 , 0.07905115, 0.07102647, 0.01902177],\n",
       "       [0.20876181, 0.6117095 , 0.05306927, 0.12645942],\n",
       "       [0.4751086 , 0.45812401, 0.03252539, 0.034242  ],\n",
       "       [0.1017675 , 0.75220274, 0.06628733, 0.07974243],\n",
       "       [0.15217155, 0.5574724 , 0.08886099, 0.20149507],\n",
       "       [0.20876181, 0.6117095 , 0.05306927, 0.12645942],\n",
       "       [0.26500065, 0.53957671, 0.06647266, 0.12894998],\n",
       "       [0.6291809 , 0.06787455, 0.2241355 , 0.07880904],\n",
       "       [0.74291723, 0.15370675, 0.07781294, 0.02556308],\n",
       "       [0.68939328, 0.22092859, 0.04970698, 0.03997115],\n",
       "       [0.2262734 , 0.65546656, 0.06698661, 0.05127344],\n",
       "       [0.7588927 , 0.0405499 , 0.14312311, 0.05743429],\n",
       "       [0.84317819, 0.0660693 , 0.0314326 , 0.05931991],\n",
       "       [0.08649462, 0.90946021, 0.00291404, 0.00113113],\n",
       "       [0.26318886, 0.05661275, 0.62721443, 0.05298397],\n",
       "       [0.22519176, 0.61981654, 0.06550741, 0.08948428],\n",
       "       [0.36154766, 0.46383586, 0.04425438, 0.1303621 ],\n",
       "       [0.52057868, 0.07499863, 0.3351916 , 0.06923109],\n",
       "       [0.15140251, 0.03709517, 0.65427613, 0.1572262 ],\n",
       "       [0.20515506, 0.12280955, 0.5888679 , 0.08316749],\n",
       "       [0.67641405, 0.03012747, 0.26590562, 0.02755286],\n",
       "       [0.03815424, 0.0123563 , 0.93314215, 0.01634732],\n",
       "       [0.59854736, 0.07015313, 0.2694695 , 0.06183001],\n",
       "       [0.16930061, 0.1120152 , 0.11878323, 0.59990096],\n",
       "       [0.10967584, 0.33419667, 0.18248844, 0.37363904],\n",
       "       [0.27177575, 0.64423689, 0.03836479, 0.04562256],\n",
       "       [0.39752704, 0.06694335, 0.47183548, 0.06369413],\n",
       "       [0.30714933, 0.13631723, 0.08826463, 0.46826881],\n",
       "       [0.19019311, 0.6746501 , 0.09852377, 0.03663303],\n",
       "       [0.83969143, 0.13218947, 0.02005273, 0.00806637],\n",
       "       [0.36306819, 0.11481906, 0.1197178 , 0.40239495],\n",
       "       [0.57572806, 0.33264692, 0.0471401 , 0.04448492],\n",
       "       [0.21362193, 0.68486909, 0.06458586, 0.03692312],\n",
       "       [0.14372207, 0.03136579, 0.76389831, 0.06101382],\n",
       "       [0.70591538, 0.20066933, 0.04781626, 0.04559902],\n",
       "       [0.83699628, 0.10399275, 0.02691549, 0.03209548],\n",
       "       [0.77402523, 0.08161665, 0.09273011, 0.05162801],\n",
       "       [0.58171331, 0.19485484, 0.10377029, 0.11966156],\n",
       "       [0.79612952, 0.02278001, 0.16035993, 0.02073054],\n",
       "       [0.60693935, 0.10648511, 0.07638823, 0.21018732],\n",
       "       [0.03582326, 0.93973947, 0.01302514, 0.01141213],\n",
       "       [0.51827532, 0.11943924, 0.27778695, 0.08449848],\n",
       "       [0.31425432, 0.16287773, 0.46274236, 0.06012558],\n",
       "       [0.60052366, 0.16480055, 0.16046627, 0.07420952],\n",
       "       [0.83485252, 0.12417711, 0.02308616, 0.01788421],\n",
       "       [0.52517929, 0.32695742, 0.12384006, 0.02402323],\n",
       "       [0.2155751 , 0.73848601, 0.02245821, 0.02348068],\n",
       "       [0.52827039, 0.145206  , 0.16975763, 0.15676599],\n",
       "       [0.09300341, 0.08669962, 0.75249126, 0.06780571],\n",
       "       [0.87292826, 0.0816876 , 0.01980682, 0.02557732],\n",
       "       [0.76545717, 0.18048063, 0.0272694 , 0.0267928 ],\n",
       "       [0.35363639, 0.18042464, 0.18300069, 0.28293828],\n",
       "       [0.35630841, 0.09378601, 0.50092378, 0.0489818 ],\n",
       "       [0.92013524, 0.03708946, 0.02020185, 0.02257345],\n",
       "       [0.2858551 , 0.53751344, 0.0607641 , 0.11586735],\n",
       "       [0.53699935, 0.16306756, 0.15232408, 0.14760901],\n",
       "       [0.03910942, 0.01054956, 0.93287648, 0.01746455],\n",
       "       [0.18890014, 0.07861777, 0.68259175, 0.04989034],\n",
       "       [0.08294215, 0.87396704, 0.02487908, 0.01821173],\n",
       "       [0.49655767, 0.24247314, 0.11014603, 0.15082316],\n",
       "       [0.22455512, 0.39303724, 0.09468149, 0.28772616],\n",
       "       [0.39601483, 0.53378398, 0.03151599, 0.0386852 ],\n",
       "       [0.47798898, 0.17766806, 0.3093021 , 0.03504086],\n",
       "       [0.21513777, 0.49630918, 0.1637286 , 0.12482444],\n",
       "       [0.19493015, 0.70828715, 0.03163739, 0.06514531],\n",
       "       [0.51220793, 0.43902726, 0.03281877, 0.01594604],\n",
       "       [0.36584641, 0.58650926, 0.02812901, 0.01951532],\n",
       "       [0.19384134, 0.26637636, 0.08318258, 0.45659971],\n",
       "       [0.61387579, 0.11631939, 0.1600443 , 0.10976052],\n",
       "       [0.55231329, 0.34629444, 0.05775952, 0.04363274],\n",
       "       [0.15006758, 0.08307475, 0.14207698, 0.6247807 ],\n",
       "       [0.25571375, 0.18730643, 0.49996319, 0.05701663],\n",
       "       [0.11843491, 0.50282715, 0.0974577 , 0.28128024],\n",
       "       [0.31173539, 0.41298754, 0.13696303, 0.13831404],\n",
       "       [0.26878412, 0.06448935, 0.50902134, 0.15770519],\n",
       "       [0.7947324 , 0.0225919 , 0.16216015, 0.02051555],\n",
       "       [0.41857599, 0.42585045, 0.06167807, 0.0938955 ],\n",
       "       [0.12138681, 0.79791296, 0.05522718, 0.02547305],\n",
       "       [0.20876181, 0.6117095 , 0.05306927, 0.12645942],\n",
       "       [0.43047055, 0.13590196, 0.27966966, 0.15395784],\n",
       "       [0.5007751 , 0.06058326, 0.39167301, 0.04696863],\n",
       "       [0.43639539, 0.51308961, 0.02838427, 0.02213073],\n",
       "       [0.05682415, 0.03894467, 0.60396221, 0.30026897],\n",
       "       [0.48077547, 0.18669873, 0.21440005, 0.11812575],\n",
       "       [0.30195746, 0.44263399, 0.16555144, 0.08985712],\n",
       "       [0.49493698, 0.12253821, 0.21792195, 0.16460286],\n",
       "       [0.07499052, 0.91591312, 0.00388189, 0.00521447],\n",
       "       [0.15219237, 0.0572319 , 0.67937687, 0.11119887],\n",
       "       [0.03910942, 0.01054956, 0.93287648, 0.01746455],\n",
       "       [0.40663406, 0.33870315, 0.11230764, 0.14235514],\n",
       "       [0.07999162, 0.90842835, 0.00506671, 0.00651332],\n",
       "       [0.79487847, 0.13696221, 0.04608544, 0.02207389],\n",
       "       [0.21934854, 0.57561234, 0.06276094, 0.14227819],\n",
       "       [0.40856162, 0.24434651, 0.16084448, 0.18624739],\n",
       "       [0.32182496, 0.61581795, 0.04151051, 0.02084658],\n",
       "       [0.39344093, 0.53696859, 0.04327947, 0.02631102],\n",
       "       [0.13740671, 0.25684967, 0.04435649, 0.56138713],\n",
       "       [0.43357093, 0.45170786, 0.09009495, 0.02462627],\n",
       "       [0.70896668, 0.22436103, 0.04430851, 0.02236379],\n",
       "       [0.07199338, 0.06943884, 0.08734218, 0.77122561],\n",
       "       [0.43428808, 0.48003858, 0.06386948, 0.02180386],\n",
       "       [0.35641648, 0.09675335, 0.49878464, 0.04804553],\n",
       "       [0.67608805, 0.25166184, 0.04032836, 0.03192174],\n",
       "       [0.0937167 , 0.08005805, 0.14350581, 0.68271945],\n",
       "       [0.08341699, 0.87813466, 0.02734764, 0.01110072],\n",
       "       [0.5311446 , 0.40227941, 0.05527626, 0.01129973],\n",
       "       [0.16271551, 0.11776785, 0.65817909, 0.06133754],\n",
       "       [0.44883138, 0.09259948, 0.40175277, 0.05681636],\n",
       "       [0.41725278, 0.37823745, 0.05841188, 0.14609789],\n",
       "       [0.66067127, 0.09330289, 0.16290773, 0.08311811],\n",
       "       [0.04832227, 0.0585839 , 0.18371787, 0.70937595],\n",
       "       [0.49920232, 0.29836185, 0.13706492, 0.06537091],\n",
       "       [0.43032006, 0.13577655, 0.27949409, 0.1544093 ],\n",
       "       [0.77412573, 0.10846356, 0.06291295, 0.05449776],\n",
       "       [0.26300704, 0.0734605 , 0.57318802, 0.09034443],\n",
       "       [0.64094957, 0.13811979, 0.10996324, 0.1109674 ],\n",
       "       [0.55688947, 0.28015615, 0.07443097, 0.08852341],\n",
       "       [0.51500789, 0.07238984, 0.34245773, 0.07014454],\n",
       "       [0.13875738, 0.78139668, 0.03805255, 0.04179339],\n",
       "       [0.70926326, 0.23022926, 0.05228546, 0.00822203],\n",
       "       [0.20090523, 0.09113122, 0.63750752, 0.07045603],\n",
       "       [0.8409037 , 0.0711232 , 0.0495731 , 0.03840001],\n",
       "       [0.51238882, 0.27055882, 0.0908174 , 0.12623496],\n",
       "       [0.19960418, 0.32391155, 0.09012774, 0.38635653],\n",
       "       [0.60031731, 0.11661393, 0.15437383, 0.12869493],\n",
       "       [0.10948875, 0.11263495, 0.05565104, 0.72222526],\n",
       "       [0.27255691, 0.09836684, 0.53182684, 0.09724941],\n",
       "       [0.08426925, 0.07005249, 0.14070213, 0.70497612],\n",
       "       [0.71046575, 0.14776619, 0.08472499, 0.05704306]])"
      ]
     },
     "execution_count": 100,
     "metadata": {},
     "output_type": "execute_result"
    }
   ],
   "source": [
    "probs_rf_hyper"
   ]
  },
  {
   "cell_type": "markdown",
   "id": "1443b554",
   "metadata": {},
   "source": [
    "### ROC Curve for MIP Phase"
   ]
  },
  {
   "cell_type": "code",
   "execution_count": 106,
   "id": "3d51d623",
   "metadata": {},
   "outputs": [
    {
     "data": {
      "image/png": "[encoded data removed]",
      "text/plain": [
       "<Figure size 648x576 with 1 Axes>"
      ]
     },
     "metadata": {},
     "output_type": "display_data"
    }
   ],
   "source": [
    "sns.set_style('white')\n",
    "plt.figure(figsize=(9,8))\n",
    "\n",
    "fpr1, tpr1, thresh1 = roc_curve(y_test_fullkn_rf, probs_rf_hyper[:,0], pos_label=1) #RFC\n",
    "fpr2, tpr2, thresh2 = roc_curve(y_test_fullkn_dt, probs_dtc_hyper[:,0], pos_label=1) #DTC\n",
    "fpr3, tpr3, thresh3 = roc_curve(y_test_fullkn_kn, probs_knc_hyper[:,0], pos_label=1) #KNC\n",
    "fpr4, tpr4, thresh4 = roc_curve(y_test_fullkn_xg, probs_xgb_hyper[:,0], pos_label=1) #XGB\n",
    "fpr6, tpr6, thresh6 = roc_curve(y_test_fullkn_sv, probs_svc_hyper[:,0], pos_label=1) #SVC\n",
    "\n",
    "a= roc_auc_score(y_test_fullkn_rf, probs_rf_hyper, multi_class= 'ovr')\n",
    "b= roc_auc_score(y_test_fullkn_dt, probs_dtc_hyper, multi_class= 'ovr')\n",
    "c= roc_auc_score(y_test_fullkn_kn, probs_knc_hyper, multi_class= 'ovr')\n",
    "d= roc_auc_score(y_test_fullkn_xg, probs_xgb_hyper, multi_class= 'ovr')\n",
    "e= roc_auc_score(y_test_fullkn_sv, probs_svc_hyper, multi_class= 'ovr')\n",
    "\n",
    "random_probs = [0 for i in range(len(y_test_fullkn_rf))]\n",
    "p_fpr, p_tpr, _ = roc_curve(y_test_fullkn_rf, random_probs, pos_label=1)\n",
    "\n",
    "rf_roc_auc = a\n",
    "dtc_roc_auc = b\n",
    "knc_roc_auc = c #auc(fpr3, tpr3)\n",
    "xgb_roc_auc = d  #auc(fpr4, tpr4)\n",
    "svc_roc_auc = e  #auc(fpr6, tpr6)\n",
    "\n",
    "plt.plot(fpr1, tpr1, linestyle= '--', color= 'red', label= 'ROC-AUC of RFC = %0.4f' % rf_roc_auc, markersize=1)\n",
    "plt.plot(fpr2, tpr2 ,  linestyle= '--', color= 'green', label= 'ROC-AUC of DTC = %0.4f' % dtc_roc_auc, markersize=1)\n",
    "plt.plot(fpr3, tpr3,  linestyle= '--', color= 'blue',label= 'ROC-AUC of KNC =%0.4f' % knc_roc_auc, markersize=1 )\n",
    "plt.plot(fpr4, tpr4,  linestyle= '--', color= 'purple', label= 'ROC-AUC of XGB = %0.4f' % xgb_roc_auc,markersize=1)\n",
    "\n",
    "# #plt.plot(fpr5, tpr5,  linestyle= '--', color= 'cyan',label= 'AUC of Gradient Boost =%0.2f' % GB_roc_auc )\n",
    "plt.plot(fpr6, tpr6,  linestyle= '--', color= 'magenta', label= 'ROC-AUC of SVC = %0.4f' % svc_roc_auc, markersize=1)\n",
    "plt.plot(p_fpr, p_tpr,  linestyle= '--', color= 'black' )\n",
    "plt.title('ROC Curve for IM Phase Prediction', fontsize=20)\n",
    "plt.xlabel('False positive rate', fontsize=20)\n",
    "plt.ylabel('True positive rate', fontsize=20)\n",
    "plt.legend(loc='best', fontsize=15)\n",
    "plt.xticks( fontsize=15)\n",
    "plt.yticks(fontsize=15)\n",
    "plt.savefig('IM.png', format='png', dpi=500, bbox_inches='tight', transparent=True)\n",
    "#plt.savefig('ROC', dpi=300)"
   ]
  },
  {
   "cell_type": "code",
   "execution_count": null,
   "id": "7797f47f",
   "metadata": {},
   "outputs": [],
   "source": []
  },
  {
   "cell_type": "markdown",
   "id": "a03a0a0c",
   "metadata": {},
   "source": [
    "### ROC Curve for BCC Phase"
   ]
  },
  {
   "cell_type": "code",
   "execution_count": 107,
   "id": "1b527b61",
   "metadata": {},
   "outputs": [
    {
     "data": {
      "image/png": "[encoded data removed]",
      "text/plain": [
       "<Figure size 648x576 with 1 Axes>"
      ]
     },
     "metadata": {},
     "output_type": "display_data"
    }
   ],
   "source": [
    "sns.set_style('white')\n",
    "plt.figure(figsize=(9,8))\n",
    "\n",
    "fpr1, tpr1, thresh1 = roc_curve(y_test_fullkn_rf, probs_rf_hyper[:,1], pos_label=1) #RFC\n",
    "fpr2, tpr2, thresh2 = roc_curve(y_test_fullkn_dt, probs_dtc_hyper[:,1], pos_label=1) #DTC\n",
    "fpr3, tpr3, thresh3 = roc_curve(y_test_fullkn_kn, probs_knc_hyper[:,1], pos_label=1) #KNC\n",
    "fpr4, tpr4, thresh4 = roc_curve(y_test_fullkn_xg, probs_xgb_hyper[:,1], pos_label=1) #XGB\n",
    "fpr6, tpr6, thresh6 = roc_curve(y_test_fullkn_sv, probs_svc_hyper[:,1], pos_label=1) #SVC\n",
    "\n",
    "a= roc_auc_score(y_test_fullkn_rf, probs_rf_hyper, multi_class= 'ovr')\n",
    "b= roc_auc_score(y_test_fullkn_dt, probs_dtc_hyper, multi_class= 'ovr')\n",
    "c= roc_auc_score(y_test_fullkn_kn, probs_knc_hyper, multi_class= 'ovr')\n",
    "d= roc_auc_score(y_test_fullkn_xg, probs_xgb_hyper, multi_class= 'ovr')\n",
    "e= roc_auc_score(y_test_fullkn_sv, probs_svc_hyper, multi_class= 'ovr')\n",
    "\n",
    "random_probs = [0 for i in range(len(y_test_fullkn_rf))]\n",
    "p_fpr, p_tpr, _ = roc_curve(y_test_fullkn_rf, random_probs, pos_label=1)\n",
    "\n",
    "rf_roc_auc = a\n",
    "dtc_roc_auc = b\n",
    "knc_roc_auc = c #auc(fpr3, tpr3)\n",
    "xgb_roc_auc = d  #auc(fpr4, tpr4)\n",
    "svc_roc_auc = e  #auc(fpr6, tpr6)\n",
    "\n",
    "plt.plot(fpr1, tpr1, linestyle= '--', color= 'red', label= 'ROC-AUC of RFC = %0.4f' % rf_roc_auc, markersize=1)\n",
    "plt.plot(fpr2, tpr2 ,  linestyle= '--', color= 'green', label= 'ROC-AUC of DTC = %0.4f' % dtc_roc_auc, markersize=1)\n",
    "plt.plot(fpr3, tpr3,  linestyle= '--', color= 'blue',label= 'ROC-AUC of KNC =%0.4f' % knc_roc_auc, markersize=1 )\n",
    "plt.plot(fpr4, tpr4,  linestyle= '--', color= 'purple', label= 'ROC-AUC of XGB = %0.4f' % xgb_roc_auc,markersize=1)\n",
    "\n",
    "# #plt.plot(fpr5, tpr5,  linestyle= '--', color= 'cyan',label= 'AUC of Gradient Boost =%0.2f' % GB_roc_auc )\n",
    "plt.plot(fpr6, tpr6,  linestyle= '--', color= 'magenta', label= 'ROC-AUC of SVC = %0.4f' % svc_roc_auc, markersize=1)\n",
    "plt.plot(p_fpr, p_tpr,  linestyle= '--', color= 'black' )\n",
    "plt.title('ROC Curve for BCC Phase Prediction', fontsize=20)\n",
    "plt.xlabel('False positive rate', fontsize=20)\n",
    "plt.ylabel('True positive rate', fontsize=20)\n",
    "plt.legend(loc='best', fontsize=15)\n",
    "plt.xticks( fontsize=15)\n",
    "plt.yticks(fontsize=15)\n",
    "plt.savefig('BCC.png', format='png', dpi=500, bbox_inches='tight', transparent=True)\n",
    "#plt.savefig('ROC', dpi=300)"
   ]
  },
  {
   "cell_type": "code",
   "execution_count": 108,
   "id": "3a8d8692",
   "metadata": {},
   "outputs": [
    {
     "name": "stdout",
     "output_type": "stream",
     "text": [
      "240\n",
      "240\n"
     ]
    }
   ],
   "source": [
    "print(np.size(y_test_fullkn_rf))\n",
    "print(np.size(probs_rf_hyper[:,2]))"
   ]
  },
  {
   "cell_type": "markdown",
   "id": "ad6f7f3b",
   "metadata": {},
   "source": [
    "### ROC Curve for FCC Phase"
   ]
  },
  {
   "cell_type": "code",
   "execution_count": 109,
   "id": "75f68610",
   "metadata": {},
   "outputs": [
    {
     "data": {
      "image/png": "[encoded data removed]",
      "text/plain": [
       "<Figure size 648x576 with 1 Axes>"
      ]
     },
     "metadata": {},
     "output_type": "display_data"
    }
   ],
   "source": [
    "sns.set_style('white')\n",
    "plt.figure(figsize=(9,8))\n",
    "\n",
    "fpr1, tpr1, thresh1 = roc_curve(y_test_fullkn_rf, probs_rf_hyper[:,2], pos_label=1) #RFC\n",
    "fpr2, tpr2, thresh2 = roc_curve(y_test_fullkn_dt, probs_dtc_hyper[:,2], pos_label=1) #DTC\n",
    "fpr3, tpr3, thresh3 = roc_curve(y_test_fullkn_kn, probs_knc_hyper[:,2], pos_label=1) #KNC\n",
    "fpr4, tpr4, thresh4 = roc_curve(y_test_fullkn_xg, probs_xgb_hyper[:,2], pos_label=1) #XGB\n",
    "fpr6, tpr6, thresh6 = roc_curve(y_test_fullkn_sv, probs_svc_hyper[:,2], pos_label=1) #SVC\n",
    "\n",
    "\n",
    "# a = auc(fpr1, tpr1)\n",
    "\n",
    "a= roc_auc_score(y_test_fullkn_rf, probs_rf_hyper, multi_class = 'ovr')\n",
    "b= roc_auc_score(y_test_fullkn_dt, probs_dtc_hyper, multi_class= 'ovr')\n",
    "c= roc_auc_score(y_test_fullkn_kn, probs_knc_hyper, multi_class= 'ovr')\n",
    "d= roc_auc_score(y_test_fullkn_xg, probs_xgb_hyper, multi_class= 'ovr')\n",
    "e= roc_auc_score(y_test_fullkn_sv, probs_svc_hyper, multi_class= 'ovr')\n",
    "\n",
    "random_probs = [0 for i in range(len(y_test_fullkn_rf))]\n",
    "p_fpr, p_tpr, _ = roc_curve(y_test_fullkn_rf, random_probs, pos_label=1)\n",
    "\n",
    "rf_roc_auc = a\n",
    "dtc_roc_auc = b\n",
    "knc_roc_auc = c #auc(fpr3, tpr3)\n",
    "xgb_roc_auc = d  #auc(fpr4, tpr4)\n",
    "svc_roc_auc = e  #auc(fpr6, tpr6)\n",
    "\n",
    "plt.plot(fpr1, tpr1, linestyle= '--', color= 'red', label= 'ROC-AUC of RFC = %0.4f' % rf_roc_auc, markersize=1)\n",
    "plt.plot(fpr2, tpr2 ,  linestyle= '--', color= 'green', label= 'ROC-AUC of DTC = %0.4f' % dtc_roc_auc, markersize=1)\n",
    "plt.plot(fpr3, tpr3,  linestyle= '--', color= 'blue',label= 'ROC-AUC of KNC =%0.4f' % knc_roc_auc, markersize=1 )\n",
    "plt.plot(fpr4, tpr4,  linestyle= '--', color= 'purple', label= 'ROC-AUC of XGB = %0.4f' % xgb_roc_auc,markersize=1)\n",
    "\n",
    "# #plt.plot(fpr5, tpr5,  linestyle= '--', color= 'cyan',label= 'AUC of Gradient Boost =%0.2f' % GB_roc_auc )\n",
    "plt.plot(fpr6, tpr6,  linestyle= '--', color= 'magenta', label= 'ROC-AUC of SVC = %0.4f' % svc_roc_auc, markersize=1)\n",
    "plt.plot(p_fpr, p_tpr,  linestyle= '--', color= 'black' )\n",
    "plt.title('ROC Curve for FCC Phase Prediction', fontsize=20)\n",
    "plt.xlabel('False positive rate', fontsize=20)\n",
    "plt.ylabel('True positive rate', fontsize=20)\n",
    "plt.legend(loc='best', fontsize=15)\n",
    "plt.xticks( fontsize=15)\n",
    "plt.yticks(fontsize=15)\n",
    "plt.savefig('FCC.png', format='png', dpi=500, bbox_inches='tight', transparent=True)\n",
    "#plt.savefig('ROC', dpi=300)"
   ]
  },
  {
   "cell_type": "code",
   "execution_count": null,
   "id": "13c9788d",
   "metadata": {},
   "outputs": [],
   "source": []
  },
  {
   "cell_type": "markdown",
   "id": "89060f3d",
   "metadata": {},
   "source": [
    "### ROC Curve for FCC+BCC Phase"
   ]
  },
  {
   "cell_type": "code",
   "execution_count": 110,
   "id": "f668fb04",
   "metadata": {},
   "outputs": [
    {
     "data": {
      "image/png": "[encoded data removed]",
      "text/plain": [
       "<Figure size 648x576 with 1 Axes>"
      ]
     },
     "metadata": {},
     "output_type": "display_data"
    }
   ],
   "source": [
    "sns.set_style('white')\n",
    "plt.figure(figsize=(9,8))\n",
    "\n",
    "fpr1, tpr1, thresh1 = roc_curve(y_test_fullkn_rf, probs_rf_hyper[:,3], pos_label=1) #RFC\n",
    "fpr2, tpr2, thresh2 = roc_curve(y_test_fullkn_dt, probs_dtc_hyper[:,3], pos_label=1) #DTC\n",
    "fpr3, tpr3, thresh3 = roc_curve(y_test_fullkn_kn, probs_knc_hyper[:,3], pos_label=1) #KNC\n",
    "fpr4, tpr4, thresh4 = roc_curve(y_test_fullkn_xg, probs_xgb_hyper[:,3], pos_label=1) #XGB\n",
    "fpr6, tpr6, thresh6 = roc_curve(y_test_fullkn_sv, probs_svc_hyper[:,3], pos_label=1) #SVC\n",
    "\n",
    "a= roc_auc_score(y_test_fullkn_rf, probs_rf_hyper, multi_class= 'ovr')\n",
    "b= roc_auc_score(y_test_fullkn_dt, probs_dtc_hyper, multi_class= 'ovr')\n",
    "c= roc_auc_score(y_test_fullkn_kn, probs_knc_hyper, multi_class= 'ovr')\n",
    "d= roc_auc_score(y_test_fullkn_xg, probs_xgb_hyper, multi_class= 'ovr')\n",
    "e= roc_auc_score(y_test_fullkn_sv, probs_svc_hyper, multi_class= 'ovr')\n",
    "\n",
    "random_probs = [0 for i in range(len(y_test_fullkn_rf))]\n",
    "p_fpr, p_tpr, _ = roc_curve(y_test_fullkn_rf, random_probs, pos_label=1)\n",
    "\n",
    "rf_roc_auc = a\n",
    "dtc_roc_auc = b\n",
    "knc_roc_auc = c #auc(fpr3, tpr3)\n",
    "xgb_roc_auc = d  #auc(fpr4, tpr4)\n",
    "svc_roc_auc = e  #auc(fpr6, tpr6)\n",
    "\n",
    "plt.plot(fpr1, tpr1, linestyle= '--', color= 'red', label= 'ROC-AUC of RFC = %0.4f' % rf_roc_auc, markersize=1)\n",
    "plt.plot(fpr2, tpr2 ,  linestyle= '--', color= 'green', label= 'ROC-AUC of DTC = %0.4f' % dtc_roc_auc, markersize=1)\n",
    "plt.plot(fpr3, tpr3,  linestyle= '--', color= 'blue',label= 'ROC-AUC of KNC =%0.4f' % knc_roc_auc, markersize=1 )\n",
    "plt.plot(fpr4, tpr4,  linestyle= '--', color= 'purple', label= 'ROC-AUC of XGB = %0.4f' % xgb_roc_auc,markersize=1)\n",
    "\n",
    "# #plt.plot(fpr5, tpr5,  linestyle= '--', color= 'cyan',label= 'AUC of Gradient Boost =%0.2f' % GB_roc_auc )\n",
    "plt.plot(fpr6, tpr6,  linestyle= '--', color= 'magenta', label= 'ROC-AUC of SVC = %0.4f' % svc_roc_auc, markersize=1)\n",
    "plt.plot(p_fpr, p_tpr,  linestyle= '--', color= 'black' )\n",
    "plt.title('ROC Curve for FCC+BCC Phase Prediction', fontsize=20)\n",
    "plt.xlabel('False positive rate', fontsize=20)\n",
    "plt.ylabel('True positive rate', fontsize=20)\n",
    "plt.legend(loc='best', fontsize=15)\n",
    "plt.xticks( fontsize=15)\n",
    "plt.yticks(fontsize=15)\n",
    "plt.savefig('FCC_BCC.png', format='png', dpi=500, bbox_inches='tight', transparent=True)\n",
    "\n",
    "#plt.savefig('', dpi=300)"
   ]
  },
  {
   "cell_type": "code",
   "execution_count": null,
   "id": "4fa4aa97",
   "metadata": {},
   "outputs": [],
   "source": []
  },
  {
   "cell_type": "markdown",
   "id": "1336bb0a",
   "metadata": {},
   "source": [
    "### Comparing Performance of Each Model"
   ]
  },
  {
   "cell_type": "code",
   "execution_count": 162,
   "id": "e1f897a0",
   "metadata": {},
   "outputs": [
    {
     "data": {
      "image/png": "[encoded data removed]",
      "text/plain": [
       "<Figure size 432x288 with 1 Axes>"
      ]
     },
     "metadata": {},
     "output_type": "display_data"
    }
   ],
   "source": [
    "model_type = ['KNN', 'SVM', 'DTC', 'RFC', 'XGB']\n",
    "\n",
    "knn_quantities = [auc_knc, scores_cv_knc_mean]\n",
    "knn_std = scores_cv_knc_std\n",
    "\n",
    "svc_quantities = [auc_svc, scores_cv_svc_mean]\n",
    "svc_std = scores_cv_svc_std\n",
    "\n",
    "dtc_quantities = [auc_dtc, scores_cv_dtc_mean]\n",
    "dtc_std = scores_cv_dtc_std\n",
    "\n",
    "rfc_quantities = [auc_rf, scores_cv_rf]\n",
    "rfc_std = scores_cv_rf_std\n",
    "\n",
    "xgb_quantities = [auc_xgb, scores_cv_xgb_mean]\n",
    "xgb_std = scores_cv_xgb_std\n",
    "\n",
    "std_vals = [knn_std, svc_std, dtc_std, rfc_std, xgb_std]\n",
    "# Plotting bar chart\n",
    "\n",
    "bar_width = 0.4\n",
    "x = np.arange(len(model_type))\n",
    "fig, ax = plt.subplots()\n",
    "# plt.yticks((np.arange(0, 1.1, 0.1))\n",
    "bar_knn0 = ax.bar(x[0] - bar_width/2, knn_quantities[0], bar_width, color='blue', label='ROC-AUC Score')\n",
    "bar_knn1 = ax.bar(x[0] + bar_width/2, knn_quantities[1], bar_width, color='orange', label='10-fold CV Score')\n",
    "ax.errorbar(x[0] + bar_width/2, knn_quantities[1], yerr=std_vals[0], fmt='none', ecolor='black', capsize=8)\n",
    "\n",
    "bar_svm0 = ax.bar(x[1] - bar_width/2, svc_quantities[0], bar_width, color='blue')\n",
    "bar_svm1 = ax.bar(x[1] + bar_width/2, svc_quantities[1], bar_width, color='orange')\n",
    "ax.errorbar(x[1] + bar_width/2, svc_quantities[1], yerr=std_vals[1], fmt='none', ecolor='black', capsize=8)\n",
    "\n",
    "bar_dtc0 = ax.bar(x[2] - bar_width/2, dtc_quantities[0], bar_width, color='blue')\n",
    "bar_dtc1 = ax.bar(x[2] + bar_width/2, dtc_quantities[1], bar_width, color='orange')\n",
    "ax.errorbar(x[2] + bar_width/2, dtc_quantities[1], yerr=std_vals[2], fmt='none', ecolor='black', capsize=8)\n",
    "\n",
    "bar_rfc0 = ax.bar(x[3] - bar_width/2, rfc_quantities[0], bar_width, color='blue')\n",
    "bar_rfc1 = ax.bar(x[3] + bar_width/2, rfc_quantities[1], bar_width, color='orange')\n",
    "ax.errorbar(x[3] + bar_width/2, rfc_quantities[1], yerr=std_vals[3], fmt='none', ecolor='black', capsize=8)\n",
    "\n",
    "bar_xgb0 = ax.bar(x[4] - bar_width/2, xgb_quantities[0], bar_width, color='blue')\n",
    "bar_xgb1 = ax.bar(x[4] + bar_width/2, xgb_quantities[1], bar_width, color='orange')\n",
    "ax.errorbar(x[4] + bar_width/2, xgb_quantities[1], yerr=std_vals[4], fmt='none', ecolor='black', capsize=8)\n",
    "\n",
    "# Add labels, title, and legend\n",
    "ax.set_xlabel('Algorithms')\n",
    "ax.set_ylabel('Performance')\n",
    "# ax.set_title('Bar Plot with Error Bars')\n",
    "ax.set_xticks(x)\n",
    "ax.set_xticklabels(model_type)\n",
    "# plt.yticks((np.arange(0, 1.1, 0.1))\n",
    "ax.legend(loc='upper left')\n",
    "ax.set_ylim([0, 1.2])\n",
    "# plt.yticks((np.arange(0, 1.1, 0.1))\n",
    "# Show plot\n",
    "plt.tight_layout()\n",
    "plt.savefig('Performance.png', format='png', dpi=500, bbox_inches='tight', transparent=True)\n",
    "\n",
    "plt.show()"
   ]
  },
  {
   "cell_type": "code",
   "execution_count": 137,
   "id": "bbf72fec",
   "metadata": {},
   "outputs": [
    {
     "data": {
      "image/png": "[encoded data removed]",
      "text/plain": [
       "<Figure size 432x288 with 1 Axes>"
      ]
     },
     "metadata": {},
     "output_type": "display_data"
    }
   ],
   "source": [
    "# Define x-axis conditions\n",
    "conditions = ['Condition 1', 'Condition 2']\n",
    "\n",
    "# Define quantities for each condition\n",
    "quantities1 = [1.0, 1.2, 1.5]  # For Condition 1\n",
    "quantities2 = [0.8, 1.3, 1.4]  # For Condition 2\n",
    "\n",
    "# Calculate standard deviations for one of the quantities\n",
    "std_parameter = 0.1\n",
    "std_values = np.array([0.05, 0.1, 0.15]) * std_parameter\n",
    "\n",
    "# Plot the bar chart\n",
    "bar_width = 0.2\n",
    "x = np.arange(len(conditions))\n",
    "fig, ax = plt.subplots()\n",
    "\n",
    "bars1 = ax.bar(x[0] - bar_width, quantities1[0], bar_width, label='Quantity 0')\n",
    "bars2 = ax.bar(x[0] + bar_width, quantities1[1], bar_width, label='Quantity 1')\n",
    "bars2 = ax.bar(x[0], quantities1[2], bar_width, label='Quantity 2')\n",
    "# bars3 = ax.bar(x[2] - bar_width/2, quantities1[2], bar_width, label='Quantity 1')\n",
    "# bars2 = ax.bar(x + bar_width/2, quantities2, bar_width, label='Quantity 2')\n",
    "\n",
    "# Add error bars for one of the quantities\n",
    "ax.errorbar(x[0] - bar_width/2, quantities1[0], yerr=std_values[0], fmt='none', ecolor='black')\n",
    "\n",
    "# Add labels, title, and legend\n",
    "ax.set_xlabel('Conditions')\n",
    "ax.set_ylabel('Quantities')\n",
    "ax.set_title('Bar Plot with Error Bars')\n",
    "ax.set_xticks(x)\n",
    "ax.set_xticklabels(conditions)\n",
    "ax.legend(loc='upper center', bbox_to_anchor=(0.5, 1.15), ncol=2)\n",
    "\n",
    "# Show plot\n",
    "plt.tight_layout()\n",
    "plt.show()"
   ]
  },
  {
   "cell_type": "markdown",
   "id": "78e092ac",
   "metadata": {},
   "source": [
    "## Plot distribution of all Independent Numerical variables"
   ]
  },
  {
   "cell_type": "code",
   "execution_count": null,
   "id": "b458132f",
   "metadata": {},
   "outputs": [],
   "source": [
    "# numeric_features = [feature for feature in df2.columns if df2[feature].dtype != 'O']\n",
    "\n",
    "# plt.figure(figsize=(15, 100))\n",
    "# for i, col in enumerate(numeric_features):\n",
    "#     plt.subplot(60, 3, i+1)\n",
    "#     sns.distplot(x=df2[col], color='indianred')\n",
    "#     plt.xlabel(col, weight='bold')\n",
    "#     plt.tight_layout()"
   ]
  },
  {
   "cell_type": "code",
   "execution_count": null,
   "id": "d8b433c7",
   "metadata": {},
   "outputs": [],
   "source": [
    "# df3= df2.copy()\n",
    "# Al_trans = np.log(df3['Al'])\n",
    "# Co_trans = np.log(df3['Co'])\n",
    "# Cr_trans = np.log(df3['Cr'])\n",
    "# Fe_trans = np.log(df3['Fe'])\n",
    "# Ni_trans = np.log(df3['Ni'])\n",
    "# Cu_trans = np.log(df3['Cu'])\n",
    "# Mn_trans = np.log(df3['Mn'])\n",
    "# Ti_trans = np.log(df3['Ti'])\n",
    "# V_trans = np.log(df3['V'])\n",
    "# Nb_trans = np.log(df3['Nb'])\n",
    "# Mo_trans = np.log(df3['Mo'])\n",
    "# Zr_trans = np.log(df3['Zr'])\n",
    "# Hf_trans = np.log(df3['Hf'])\n",
    "# Ta_trans = np.log(df3['Ta'])\n",
    "# W_trans = np.log(df3['W'])\n",
    "# C_trans = np.log(df3['C'])\n",
    "# Mg_trans = np.log(df3['Mg'])\n",
    "# Zn_trans = np.log(df3['Zn'])\n",
    "# Si_trans = np.log(df3['Si'])\n",
    "# Re_trans = np.log(df3['Re'])\n",
    "# N_trans = np.log(df3['N'])\n",
    "# Li_trans = np.log(df3['Li'])\n",
    "# Sn_trans = np.log(df3['Sn'])\n",
    "# Be_trans = np.log(df3['Be'])\n",
    "# B_trans = np.log(df3['B'])\n",
    "# Ag_trans = np.log(df3['Ag'])\n",
    "# Pt_trans = np.log(df3['Pt'])\n",
    "# Y_trans = np.log(df3['Y'])\n",
    "# Pd_trans = np.log(df3['Pd'])\n",
    "# Au_trans = np.log(df3['Au'])\n",
    "# #dHmix_trans = np.log(df2['dHmix'])\n",
    "# dSmix_trans = np.log(df3['dSmix']) \n",
    "# Atom_Size_Diff_trans = np.log(df3['δ'])\n",
    "# Elect_Diff_trans = np.log(df3['ᐃχ'])\n",
    "# VEC_trans = np.log(df3['VEC'])"
   ]
  },
  {
   "cell_type": "code",
   "execution_count": null,
   "id": "33605044",
   "metadata": {},
   "outputs": [],
   "source": [
    "# df_final = pd.DataFrame(pd.concat([Al_trans, Co_trans, Cr_trans, Fe_trans, Ni_trans, Cu_trans, Mn_trans, \n",
    "# Ti_trans, V_trans,Nb_trans, Mo_trans, Zr_trans, Hf_trans, Ta_trans, W_trans, C_trans, Mg_trans, Zn_trans, Si_trans, Re_trans, N_trans, \n",
    "# Li_trans, Sn_trans, Be_trans, B_trans, Ag_trans, Pt_trans, Y_trans, Pd_trans, Au_trans, df3['dHmix'], dSmix_trans, Atom_Size_Diff_trans, \n",
    "# Elect_Diff_trans, VEC_trans, df3['Phases']], axis=1))\n",
    "# df_final.head()"
   ]
  },
  {
   "cell_type": "markdown",
   "id": "48ae69ea",
   "metadata": {},
   "source": [
    "## Evaluate Model on Different experiments"
   ]
  },
  {
   "cell_type": "code",
   "execution_count": null,
   "id": "5149d478",
   "metadata": {},
   "outputs": [],
   "source": [
    "# # Splitting X and y for all Experiments\n",
    "# X= df_final.drop('Phases', axis=1)\n",
    "# y = df_final['Phases']\n",
    "\n",
    "# X= df2.drop('Phases', axis=1)\n",
    "# y = df2['Phases']"
   ]
  },
  {
   "cell_type": "code",
   "execution_count": null,
   "id": "a80c360e",
   "metadata": {},
   "outputs": [],
   "source": [
    "# # Fit with robust scaler for KNN best K-selection experminet\n",
    "# robustscaler = RobustScaler()\n",
    "# X1 = robustscaler.fit_transform(X)"
   ]
  },
  {
   "cell_type": "code",
   "execution_count": null,
   "id": "d209abc8",
   "metadata": {},
   "outputs": [],
   "source": [
    "# results=[]\n",
    "# # define imputer\n",
    "# imputer = KNNImputer(n_neighbors=5, weights='uniform', metric='nan_euclidean')\n",
    "# strategies = [str(i) for i in [1,3,5,7,9]]\n",
    "# for s in strategies:\n",
    "#     pipeline = Pipeline(steps=[('i', KNNImputer(n_neighbors=int(s))), ('m', LogisticRegression())])\n",
    "#     scores = cross_val_score(pipeline, X1, y, scoring='accuracy', cv=2, n_jobs=-1)\n",
    "#     results.append(scores)\n",
    "#     #print('n_neighbors= %s || accuracy (%.4f)' % (s , mean(scores)))"
   ]
  },
  {
   "cell_type": "code",
   "execution_count": null,
   "id": "0feed57d",
   "metadata": {},
   "outputs": [],
   "source": [
    "# ### Pipeline for KNN imputer\n",
    "# num_features = X.select_dtypes(exclude=\"object\").columns\n",
    "\n",
    "# # Fit the KNN imputer with selected K-value\n",
    "# knn_pipeline = Pipeline(steps=[\n",
    "#     ('imputer', KNNImputer(n_neighbors=3)),\n",
    "#     ('RobustScaler', RobustScaler())\n",
    "# ])"
   ]
  },
  {
   "cell_type": "code",
   "execution_count": null,
   "id": "eed48a27",
   "metadata": {},
   "outputs": [],
   "source": [
    "# X_zeros =knn_pipeline.fit_transform(X)"
   ]
  },
  {
   "cell_type": "markdown",
   "id": "d494fa1d",
   "metadata": {},
   "source": [
    "## Choose which Models to evaluate in a dictionary"
   ]
  },
  {
   "cell_type": "code",
   "execution_count": null,
   "id": "b86249da",
   "metadata": {},
   "outputs": [],
   "source": [
    "# # Dictionary which contains models for experiment\n",
    "# models = {\n",
    "    \n",
    "#     \"Random Forest\": RandomForestClassifier(),\n",
    "# #     \"Decision Tree\": DecisionTreeClassifier(),\n",
    "# #      \"K-Neighbors Classifier\": KNeighborsClassifier(),\n",
    "#     \"XGBClassifier\": XGBClassifier(), \n",
    "# #     'SVM':SVC()\n",
    "    \n",
    "# }"
   ]
  },
  {
   "cell_type": "markdown",
   "id": "650e8798",
   "metadata": {},
   "source": [
    "## Fit NaN -> Zeros data for models in dictionary"
   ]
  },
  {
   "cell_type": "code",
   "execution_count": null,
   "id": "7c148f9e",
   "metadata": {},
   "outputs": [],
   "source": [
    "# report_zeros = evaluate_models(X, y, models)"
   ]
  },
  {
   "cell_type": "code",
   "execution_count": null,
   "id": "15a58055",
   "metadata": {},
   "outputs": [],
   "source": [
    "# full_data= df_final.copy()\n",
    "# X_full= full_data.drop('Phases', axis=1)\n",
    "# y_full = full_data['Phases']"
   ]
  },
  {
   "cell_type": "code",
   "execution_count": null,
   "id": "d2c6d969",
   "metadata": {},
   "outputs": [],
   "source": []
  },
  {
   "cell_type": "code",
   "execution_count": null,
   "id": "3a205a00",
   "metadata": {},
   "outputs": [],
   "source": []
  },
  {
   "cell_type": "code",
   "execution_count": null,
   "id": "84a18811",
   "metadata": {},
   "outputs": [],
   "source": []
  },
  {
   "cell_type": "code",
   "execution_count": null,
   "id": "a0442229",
   "metadata": {},
   "outputs": [],
   "source": []
  },
  {
   "cell_type": "code",
   "execution_count": null,
   "id": "8c62fe45",
   "metadata": {},
   "outputs": [],
   "source": []
  },
  {
   "cell_type": "code",
   "execution_count": null,
   "id": "cebe1750",
   "metadata": {},
   "outputs": [],
   "source": []
  },
  {
   "cell_type": "code",
   "execution_count": null,
   "id": "eeaeaeb6",
   "metadata": {},
   "outputs": [],
   "source": []
  },
  {
   "cell_type": "code",
   "execution_count": null,
   "id": "a7186f39",
   "metadata": {},
   "outputs": [],
   "source": []
  }
 ],
 "metadata": {
  "kernelspec": {
   "display_name": "Python 3 (ipykernel)",
   "language": "python",
   "name": "python3"
  },
  "language_info": {
   "codemirror_mode": {
    "name": "ipython",
    "version": 3
   },
   "file_extension": ".py",
   "mimetype": "text/x-python",
   "name": "python",
   "nbconvert_exporter": "python",
   "pygments_lexer": "ipython3",
   "version": "3.9.5"
  }
 },
 "nbformat": 4,
 "nbformat_minor": 5
}
